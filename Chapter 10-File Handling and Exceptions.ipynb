{
 "cells": [
  {
   "cell_type": "markdown",
   "id": "babcf7f9",
   "metadata": {},
   "source": [
    "## Chapter-10\n",
    "# File handling and Exceptions"
   ]
  },
  {
   "cell_type": "markdown",
   "id": "f7ab6112",
   "metadata": {},
   "source": [
    "### File Handling"
   ]
  },
  {
   "cell_type": "raw",
   "id": "0583b1d7",
   "metadata": {},
   "source": [
    "Exceptions, which are special objects Python creates to manage errors that arise while a program is running. \n",
    "You’ll also learn about the json module, which allows you to save user data so it isn’t lost when your program stops running.\n",
    "Learning to work with files and save data will make your programs easier for people to use.\n",
    "Users will be able to choose what data to enter and when to enter it.\n",
    "People can run your program, do some work, and then close the program and pick up where they left off later. "
   ]
  },
  {
   "cell_type": "markdown",
   "id": "6554c407",
   "metadata": {},
   "source": [
    "## Reading from a file"
   ]
  },
  {
   "cell_type": "markdown",
   "id": "39187a4d",
   "metadata": {},
   "source": [
    "1. Reading from a file is particularly useful in data analysis applications, but it’s also applicable to any situation in which you want to analyze or modify information stored in a file.\n",
    "2. For example, you can write a program that reads in the contents of a text file and rewrites the file with formatting that allows a browser to display it.\n",
    "3. When you want to work with the information in a text file, the first step is to read the file into memory.\n",
    "4. You can read the entire contents of a file, or you can work through the file one line at a time. "
   ]
  },
  {
   "cell_type": "code",
   "execution_count": 5,
   "id": "7eb9fe0a",
   "metadata": {},
   "outputs": [
    {
     "name": "stdout",
     "output_type": "stream",
     "text": [
      "Indra\n",
      "Phani\n",
      "Lucky\n",
      "Elon musk\n",
      "Swamy vivekananda\n",
      "Indrasena\n",
      "\n",
      "100\n"
     ]
    }
   ],
   "source": [
    "#Here’s a program that opens the file, reads it, and prints the contents of the file to the screen:\n",
    "with open('Names') as file_object:\n",
    " contents = file_object.read()\n",
    " print(contents)\n",
    "print(100)"
   ]
  },
  {
   "cell_type": "markdown",
   "id": "1258726d",
   "metadata": {},
   "source": [
    "1. To do any work with a file, even just printing its contents, you first need to open the file to access it.\n",
    "2. The open() function needs one argument: the name of the file you want to open. \n",
    "3. Python looks for this file in the directory where the program that’s currently being executed is stored.\n",
    "4. The open()function returns an object representing the file.\n",
    "5. Here, open('Names') returns an object representing Names text file.\n",
    "6. Python stores this object in file_object, which we’ll work with later in the program."
   ]
  },
  {
   "cell_type": "markdown",
   "id": "7653a82c",
   "metadata": {},
   "source": [
    "1. The keyword 'with' closes the file once access to it is no longer needed. \n",
    "2. Notice how we call open() in this program but not close().\n",
    "3. You could open and close the file by calling open() and close(), but if a bug in your program prevents the close() statement from being executed, the file may never close.\n",
    "4. This may seem trivial, but improperly closed files can cause data to be lost or corrupted.\n",
    "5. And if you call close() too early in your program, you’ll find yourself trying to work with a closed file (a file you can’t access), which leads to more errors.\n",
    "6. It’s not always easy to know exactly when you should close a file, but with the structure shown here, Python will figure that out for you.\n",
    "7. All you have to do is open the file and work with it as desired, trusting that Python will close it automatically when the time is right.\n",
    "8. Once we have a file object representing Names, we use the read() method in the second line of our program to read the entire contents of the file and store it as one long string in contents. "
   ]
  },
  {
   "cell_type": "raw",
   "id": "df90b03e",
   "metadata": {},
   "source": [
    "The only difference between this output and the original file is the extra blank line at the end of the output. \n",
    "The blank line appears because read() returns an empty string when it reaches the end of the file; this empty string shows up as a blank line.\n",
    "If you want to remove the extra blank line, you can use rstrip() in the print statement."
   ]
  },
  {
   "cell_type": "code",
   "execution_count": null,
   "id": "c69bb05b",
   "metadata": {},
   "outputs": [],
   "source": [
    "The read() method returns the specified number of bytes from the file. Default is -1 which means the whole file."
   ]
  },
  {
   "cell_type": "code",
   "execution_count": 6,
   "id": "275fae43",
   "metadata": {},
   "outputs": [
    {
     "name": "stdout",
     "output_type": "stream",
     "text": [
      "Indra\n",
      "Phani\n",
      "Lucky\n",
      "Elon musk\n",
      "Swamy vivekananda\n",
      "Indrasena\n",
      "100\n"
     ]
    }
   ],
   "source": [
    "with open('Names') as file_object:\n",
    " contents = file_object.read()\n",
    " print(contents.rstrip())\n",
    "    \n",
    "print(100)"
   ]
  },
  {
   "cell_type": "code",
   "execution_count": 19,
   "id": "5378a641",
   "metadata": {},
   "outputs": [
    {
     "name": "stdout",
     "output_type": "stream",
     "text": [
      "Indra\n",
      "Phan\n",
      "100\n"
     ]
    }
   ],
   "source": [
    "with open('Names') as file_object:\n",
    " contents = file_object.read(10)   # reading only 10 bytes\n",
    " print(contents.rstrip())\n",
    "    \n",
    "print(100)"
   ]
  },
  {
   "cell_type": "markdown",
   "id": "06b6f5eb",
   "metadata": {},
   "source": [
    "## File Paths"
   ]
  },
  {
   "cell_type": "markdown",
   "id": "eef628ea",
   "metadata": {},
   "source": [
    "To get Python to open files from a directory other than the one where your program file is stored, you need to provide a file path, which tells Python to look in a specific location on your system.\n",
    "\n",
    "A relative file path tells Python to look for a given location relative to the directory where the currently running program file is stored. (within the program running directory)\n",
    "\n",
    "You can also tell Python exactly where the file is on your computer regardless of where the program that’s being executed is stored.This is called an absolute file path.(anywhere in the program irrespective of current program running directory)\n",
    "\n",
    "Absolute paths are usually longer than relative paths, so it’s helpful to store them in a variable and then pass that variable to open().\n",
    "\n",
    "Using absolute paths, you can read files from any location on your system."
   ]
  },
  {
   "cell_type": "code",
   "execution_count": 15,
   "id": "62eed540",
   "metadata": {},
   "outputs": [
    {
     "name": "stdout",
     "output_type": "stream",
     "text": [
      "pfghjkvbnm,.mnbv\n",
      "\n"
     ]
    }
   ],
   "source": [
    "path=\"D:\\phani.txt\"  # absolute path\n",
    "with open(path) as file:\n",
    "    print(file.readline())"
   ]
  },
  {
   "cell_type": "code",
   "execution_count": 18,
   "id": "228ccb9a",
   "metadata": {},
   "outputs": [
    {
     "name": "stdout",
     "output_type": "stream",
     "text": [
      "Indra\n",
      "\n",
      "<_io.TextIOWrapper name='Names' mode='r' encoding='cp1252'>\n"
     ]
    }
   ],
   "source": [
    "with open(\"Names\") as file: # relative path\n",
    "    print(file.readline())\n",
    "print(file)"
   ]
  },
  {
   "cell_type": "markdown",
   "id": "d9263dbc",
   "metadata": {},
   "source": [
    "## Reading Line by Line"
   ]
  },
  {
   "cell_type": "raw",
   "id": "437e0136",
   "metadata": {},
   "source": [
    "When you’re reading a file, you’ll often want to examine each line of the file. \n",
    "You might be looking for certain information in the file, or you might want to modify the text in the file in some way.\n",
    "For example, you might want to read through a file of weather data and work with any line that includes the word sunny in the description of that day’s weather"
   ]
  },
  {
   "cell_type": "markdown",
   "id": "90678971",
   "metadata": {},
   "source": [
    "#### You can use a for loop on the file object to examine each line from a file one at a time:"
   ]
  },
  {
   "cell_type": "code",
   "execution_count": 24,
   "id": "2b7206ce",
   "metadata": {},
   "outputs": [
    {
     "name": "stdout",
     "output_type": "stream",
     "text": [
      "Indra\n",
      "\n",
      "total words in a lines is  1\n",
      "Phani\n",
      "\n",
      "total words in a lines is  1\n",
      "Lucky\n",
      "\n",
      "total words in a lines is  1\n",
      "Elon musk\n",
      "\n",
      "total words in a lines is  2\n",
      "Swamy vivekananda\n",
      "\n",
      "total words in a lines is  2\n",
      "Indrasena\n",
      "\n",
      "total words in a lines is  1\n"
     ]
    }
   ],
   "source": [
    "with open('Names1') as file_object:\n",
    " for line in file_object:\n",
    "     print(line)\n",
    "     print(\"total words in a lines is \",len(line.split()))"
   ]
  },
  {
   "cell_type": "code",
   "execution_count": null,
   "id": "1c89c041",
   "metadata": {},
   "outputs": [],
   "source": [
    "After we call open(), an object representing the file and its contents is stored in the variable file_object.\n",
    "We again use the with syntax to let Python open and close the file properly.\n",
    "To examine the file’s contents, we work through each line in the file by looping over the file object.\n",
    "When we print each line, we find even more blank lines."
   ]
  },
  {
   "cell_type": "raw",
   "id": "587d2e99",
   "metadata": {},
   "source": [
    "These blank lines appear because an invisible newline character is at the end of each line in the text file. \n",
    "The print statement adds its own newline each time we call it, so we end up with two newline characters at the end of each line: one from the file and one from the print statement. \n",
    "Using rstrip() on each line in the print statement eliminates these extra blank lines."
   ]
  },
  {
   "cell_type": "code",
   "execution_count": 26,
   "id": "1ba4943f",
   "metadata": {},
   "outputs": [
    {
     "name": "stdout",
     "output_type": "stream",
     "text": [
      "Indra total words in a lines is  1\n",
      "Phani total words in a lines is  1\n",
      "Lucky total words in a lines is  1\n",
      "Elon musk total words in a lines is  2\n",
      "Swamy vivekananda total words in a lines is  2\n",
      "Indrasena total words in a lines is  1\n"
     ]
    }
   ],
   "source": [
    "# we will try to write with much more clarity here.\n",
    "with open('Names1') as file_object:\n",
    " for line in file_object:\n",
    "     print(line.rstrip(),end=\" \")\n",
    "     print(\"total words in a lines is \",len(line.split()))"
   ]
  },
  {
   "cell_type": "markdown",
   "id": "7f0301ef",
   "metadata": {},
   "source": [
    "### Making a List of Lines from a File\n",
    "1. When you use 'with', the file object returned by open() is only available inside the with block that contains it. \n",
    "2. If you want to retain access to a file’s contents outside the with block, you can store the file’s lines in a list inside the block and then work with that list. \n",
    "3. You can process parts of the file immediately and postpone some processing for later in the program"
   ]
  },
  {
   "cell_type": "code",
   "execution_count": 41,
   "id": "e9d75805",
   "metadata": {},
   "outputs": [
    {
     "name": "stdout",
     "output_type": "stream",
     "text": [
      "Indra\n",
      "Phani\n",
      "Lucky\n",
      "Elon musk\n",
      "Swamy vivekananda\n",
      "Indrasena\n",
      "Lucky lovelyVenkyLucky lovely\n",
      "VenkyLucky lovely\n",
      "Venky.\n"
     ]
    }
   ],
   "source": [
    "with open('Names1') as file_object:\n",
    " for line in file_object:\n",
    "     print(line.rstrip())"
   ]
  },
  {
   "cell_type": "code",
   "execution_count": 42,
   "id": "a4cadd03",
   "metadata": {},
   "outputs": [
    {
     "name": "stdout",
     "output_type": "stream",
     "text": [
      "Indra\n",
      "Phani\n",
      "Lucky\n",
      "Elon musk\n",
      "Swamy vivekananda\n",
      "Indrasena\n",
      "Lucky lovelyVenkyLucky lovely\n",
      "VenkyLucky lovely\n",
      "Venky.\n"
     ]
    },
    {
     "ename": "ValueError",
     "evalue": "I/O operation on closed file.",
     "output_type": "error",
     "traceback": [
      "\u001b[1;31m---------------------------------------------------------------------------\u001b[0m",
      "\u001b[1;31mValueError\u001b[0m                                Traceback (most recent call last)",
      "\u001b[1;32m~\\AppData\\Local\\Temp\\ipykernel_33528\\1510014933.py\u001b[0m in \u001b[0;36m<module>\u001b[1;34m\u001b[0m\n\u001b[0;32m      2\u001b[0m  \u001b[1;32mfor\u001b[0m \u001b[0mline\u001b[0m \u001b[1;32min\u001b[0m \u001b[0mfile_object\u001b[0m\u001b[1;33m:\u001b[0m\u001b[1;33m\u001b[0m\u001b[1;33m\u001b[0m\u001b[0m\n\u001b[0;32m      3\u001b[0m      \u001b[0mprint\u001b[0m\u001b[1;33m(\u001b[0m\u001b[0mline\u001b[0m\u001b[1;33m.\u001b[0m\u001b[0mrstrip\u001b[0m\u001b[1;33m(\u001b[0m\u001b[1;33m)\u001b[0m\u001b[1;33m)\u001b[0m\u001b[1;33m\u001b[0m\u001b[1;33m\u001b[0m\u001b[0m\n\u001b[1;32m----> 4\u001b[1;33m \u001b[1;32mfor\u001b[0m \u001b[0mline\u001b[0m \u001b[1;32min\u001b[0m \u001b[0mfile_object\u001b[0m\u001b[1;33m:\u001b[0m\u001b[1;33m\u001b[0m\u001b[1;33m\u001b[0m\u001b[0m\n\u001b[0m\u001b[0;32m      5\u001b[0m      \u001b[0mprint\u001b[0m\u001b[1;33m(\u001b[0m\u001b[0mline\u001b[0m\u001b[1;33m.\u001b[0m\u001b[0mrstrip\u001b[0m\u001b[1;33m(\u001b[0m\u001b[1;33m)\u001b[0m\u001b[1;33m)\u001b[0m\u001b[1;33m\u001b[0m\u001b[1;33m\u001b[0m\u001b[0m\n",
      "\u001b[1;31mValueError\u001b[0m: I/O operation on closed file."
     ]
    }
   ],
   "source": [
    "with open('Names1') as file_object:\n",
    " for line in file_object:\n",
    "     print(line.rstrip())\n",
    "for line in file_object: # here we cannot access the file object outside if we use 'with' as it will close the file.\n",
    "    print(line.rstrip())   "
   ]
  },
  {
   "cell_type": "raw",
   "id": "4eb59f9a",
   "metadata": {},
   "source": [
    "1. The readlines() method takes each line from the file and stores it in a list. \n",
    "2. This list is then stored in lines, which we can continue to work with after the with block ends.\n",
    "3. we use a simple for loop to print each line from lines. \n",
    "4. Because each item in lines corresponds to each line in the file, the output matches the contents of the file exactly."
   ]
  },
  {
   "cell_type": "code",
   "execution_count": 46,
   "id": "ec4adde1",
   "metadata": {},
   "outputs": [
    {
     "name": "stdout",
     "output_type": "stream",
     "text": [
      "Indra\n",
      "Phani\n",
      "Lucky\n",
      "Elon musk\n",
      "Swamy vivekananda\n",
      "Indrasena\n",
      "Lucky lovelyVenkyLucky lovely\n",
      "VenkyLucky lovely\n",
      "Venky.\n"
     ]
    }
   ],
   "source": [
    "with open('Names1') as file_object:\n",
    "     lines=file_object.readlines() # we stored it into the lines \n",
    "for line in lines: \n",
    "    print(line.rstrip()) "
   ]
  },
  {
   "cell_type": "raw",
   "id": "e7553b4c",
   "metadata": {},
   "source": [
    "*When Python reads from a text file, it interprets all text in the file as a string. \n",
    "If you read in a number and want to work with that value in a numerical context, you’ll have to convert it to an integer using the int() function or convert it to a float using the float() function."
   ]
  },
  {
   "cell_type": "markdown",
   "id": "ef74d76a",
   "metadata": {},
   "source": [
    "### Writing to a File\n",
    "1. One of the simplest ways to save data is to write it to a file.\n",
    "2. When you write text to a file, the output will still be available after you close the terminal containing your program’s output.\n",
    "3. You can examine output after a program finishes running, and you can share the output files with others as well. \n",
    "4. You can also write programs that read the text back into memory and work with it again later."
   ]
  },
  {
   "cell_type": "raw",
   "id": "c5c987a4",
   "metadata": {},
   "source": [
    "### Writing to an Empty File\n",
    "To write text to a file, you need to call open() with a second argument telling Python that you want to write to the file as\"w\""
   ]
  },
  {
   "cell_type": "raw",
   "id": "1542a282",
   "metadata": {},
   "source": [
    "The call to open() in this example has two arguments. \n",
    "The first argument is still the name of the file we want to open. \n",
    "The second argument, 'w', tells Python that we want to open the file in write mode.\n",
    "You can open a file in read mode ('r'), write mode ('w'), append mode ('a'), or a mode that allows you to read and write to the file ('r+').\n",
    "If you omit the mode argument, Python opens the file in read-only mode by default.\n",
    "The open() function automatically creates the file you’re writing to if it doesn’t already exist. \n",
    "However, be careful opening a file in write mode ('w') because if the file does exist, Python will erase the file before returning the file object.\n",
    "we use the write() method on the file object to write a string to the file."
   ]
  },
  {
   "cell_type": "raw",
   "id": "1c4a0fe9",
   "metadata": {},
   "source": [
    "* Python can only write strings to a text file. If you want to store numerical data in a text file, you’ll have to convert the data to string format first using the str() function."
   ]
  },
  {
   "cell_type": "code",
   "execution_count": 36,
   "id": "3ca3f890",
   "metadata": {},
   "outputs": [
    {
     "ename": "TypeError",
     "evalue": "write() argument must be str, not int",
     "output_type": "error",
     "traceback": [
      "\u001b[1;31m---------------------------------------------------------------------------\u001b[0m",
      "\u001b[1;31mTypeError\u001b[0m                                 Traceback (most recent call last)",
      "\u001b[1;32m~\\AppData\\Local\\Temp\\ipykernel_33528\\3615184868.py\u001b[0m in \u001b[0;36m<module>\u001b[1;34m\u001b[0m\n\u001b[0;32m      2\u001b[0m \u001b[1;32mwith\u001b[0m \u001b[0mopen\u001b[0m\u001b[1;33m(\u001b[0m\u001b[0mfilename\u001b[0m\u001b[1;33m,\u001b[0m \u001b[1;34m'w'\u001b[0m\u001b[1;33m)\u001b[0m \u001b[1;32mas\u001b[0m \u001b[0mfile_object\u001b[0m\u001b[1;33m:\u001b[0m\u001b[1;33m\u001b[0m\u001b[1;33m\u001b[0m\u001b[0m\n\u001b[0;32m      3\u001b[0m     \u001b[0mfile_object\u001b[0m\u001b[1;33m.\u001b[0m\u001b[0mwrite\u001b[0m\u001b[1;33m(\u001b[0m\u001b[1;34m\"I love programming.\"\u001b[0m\u001b[1;33m)\u001b[0m\u001b[1;33m\u001b[0m\u001b[1;33m\u001b[0m\u001b[0m\n\u001b[1;32m----> 4\u001b[1;33m     \u001b[0mfile_object\u001b[0m\u001b[1;33m.\u001b[0m\u001b[0mwrite\u001b[0m\u001b[1;33m(\u001b[0m\u001b[1;36m100\u001b[0m\u001b[1;33m)\u001b[0m\u001b[1;33m\u001b[0m\u001b[1;33m\u001b[0m\u001b[0m\n\u001b[0m",
      "\u001b[1;31mTypeError\u001b[0m: write() argument must be str, not int"
     ]
    }
   ],
   "source": [
    "filename = 'programming.txt'\n",
    "with open(filename, 'w') as file_object:\n",
    "    file_object.write(\"I love programming.\")\n",
    "    file_object.write(100)"
   ]
  },
  {
   "cell_type": "code",
   "execution_count": 38,
   "id": "0b9a808b",
   "metadata": {},
   "outputs": [],
   "source": [
    "filename = 'programming.txt'\n",
    "with open(filename, 'w') as file_object:\n",
    "    file_object.write(\"I love programming.\\n\")\n",
    "    file_object.write(str(100))"
   ]
  },
  {
   "cell_type": "markdown",
   "id": "6513b668",
   "metadata": {},
   "source": [
    "### Writing Multiple Lines\n",
    "1. The write() function doesn’t add any newlines to the text you write.\n",
    "2. So if you write more than one line without including newline characters, your file may not look the way you want it to.\n",
    "3. So you need to give \\n if we want to enter to new line in write().\n",
    "4. Including newlines in your write() statements makes each string appear on its own line"
   ]
  },
  {
   "cell_type": "markdown",
   "id": "699e1f3f",
   "metadata": {},
   "source": [
    "## Appending to a file"
   ]
  },
  {
   "cell_type": "raw",
   "id": "46d2ec15",
   "metadata": {},
   "source": [
    "If you want to add content to a file instead of writing over existing content, you can open the file in append mode.\n",
    "When you open a file in append mode, Python doesn’t erase the file before returning the file object.\n",
    "Any lines you write to the file will be added at the end of the file.\n",
    "If the file doesn’t exist yet, Python will create an empty file for you.\n",
    "We end up with the original contents of the file, followed by the new content we just added."
   ]
  },
  {
   "cell_type": "code",
   "execution_count": 34,
   "id": "e9ca6734",
   "metadata": {},
   "outputs": [],
   "source": [
    "with open('Names1',\"a\") as f:\n",
    "    f.write(\"Lucky lovely\\n\") # i ran here twice. so two times the contents will be present. so don't get confuse here.\n",
    "    f.write(\"Venky.\\n\")\n",
    "    "
   ]
  },
  {
   "cell_type": "code",
   "execution_count": 35,
   "id": "9e15de47",
   "metadata": {},
   "outputs": [
    {
     "name": "stdout",
     "output_type": "stream",
     "text": [
      "Indra\n",
      "Phani\n",
      "Lucky\n",
      "Elon musk\n",
      "Swamy vivekananda\n",
      "Indrasena\n",
      "Lucky lovelyVenkyLucky lovely\n",
      "VenkyLucky lovely\n",
      "Venky.\n",
      "\n"
     ]
    }
   ],
   "source": [
    "with open('Names1') as file_object:\n",
    " print(file_object.read())"
   ]
  },
  {
   "cell_type": "markdown",
   "id": "f7f4d9fa",
   "metadata": {},
   "source": [
    "## Exceptions"
   ]
  },
  {
   "cell_type": "markdown",
   "id": "dbb085a9",
   "metadata": {},
   "source": [
    "1. Python uses special objects called exceptions to manage errors that arise during a program’s execution.\n",
    "2. Whenever an error occurs that makes Python unsure what to do next, it creates an exception object.\n",
    "3. If you write code that handles the exception, the program will continue running. \n",
    "4. If you don’t handle the exception, the program will halt and show a traceback, which includes a report of the exception that was raised.\n",
    "5. Exceptions are handled with try-except blocks. \n",
    "6. A try-except block asks Python to do something, but it also tells Python what to do if an exception is raised.\n",
    "7. When you use try-except blocks, your programs will continue running even if things start to go wrong.\n",
    "8. Instead of tracebacks, which can be confusing for users to read, users will see friendly error messages that you write."
   ]
  },
  {
   "cell_type": "code",
   "execution_count": 1,
   "id": "232bfdfe",
   "metadata": {},
   "outputs": [
    {
     "ename": "ZeroDivisionError",
     "evalue": "division by zero",
     "output_type": "error",
     "traceback": [
      "\u001b[1;31m---------------------------------------------------------------------------\u001b[0m",
      "\u001b[1;31mZeroDivisionError\u001b[0m                         Traceback (most recent call last)",
      "\u001b[1;32m~\\AppData\\Local\\Temp\\ipykernel_33048\\179726827.py\u001b[0m in \u001b[0;36m<module>\u001b[1;34m\u001b[0m\n\u001b[1;32m----> 1\u001b[1;33m \u001b[0mprint\u001b[0m\u001b[1;33m(\u001b[0m\u001b[1;36m10\u001b[0m\u001b[1;33m/\u001b[0m\u001b[1;36m0\u001b[0m\u001b[1;33m)\u001b[0m\u001b[1;33m\u001b[0m\u001b[1;33m\u001b[0m\u001b[0m\n\u001b[0m",
      "\u001b[1;31mZeroDivisionError\u001b[0m: division by zero"
     ]
    }
   ],
   "source": [
    "print(10/0)"
   ]
  },
  {
   "cell_type": "raw",
   "id": "6ff038d0",
   "metadata": {},
   "source": [
    "The error reported in the traceback, ZeroDivisionError, is an exception object.\n",
    "Python creates this kind of object in response to a situation where it can’t do what we ask it to. \n",
    "When this happens, Python stops the program and tells us the kind of exception that was raised. \n",
    "We can use this information to modify our program.\n",
    "We’ll tell Python what to do when this kind of exception occurs; that way, if it happens again, we’re prepared."
   ]
  },
  {
   "cell_type": "markdown",
   "id": "bf173227",
   "metadata": {},
   "source": [
    "### Using try-except Blocks\n",
    "When you think an error may occur, you can write a try-except block to handle the exception that might be raised.\n",
    "\n",
    "You tell Python to try running some code, and you tell it what to do if the code results in a particular kind of exception"
   ]
  },
  {
   "cell_type": "code",
   "execution_count": 2,
   "id": "d342a2cf",
   "metadata": {},
   "outputs": [
    {
     "name": "stdout",
     "output_type": "stream",
     "text": [
      "You can't divide by zero!\n"
     ]
    }
   ],
   "source": [
    "try:\n",
    " print(5/0)\n",
    "except ZeroDivisionError:\n",
    " print(\"You can't divide by zero!\")"
   ]
  },
  {
   "cell_type": "raw",
   "id": "9c9e1122",
   "metadata": {},
   "source": [
    "We put print(5/0), the line that caused the error, inside a try block.\n",
    "If the code in a try block works, Python skips over the except block.\n",
    "If the code in the try block causes an error, Python looks for an except block whose error matches the one that was raised and runs the code in that block.\n",
    "In this example, the code in the try block produces a ZeroDivisionError, so Python looks for an except block telling it how to respond.\n",
    "Python then runs the code in that block, and the user sees a friendly error message instead of a traceback:"
   ]
  },
  {
   "cell_type": "markdown",
   "id": "416403a6",
   "metadata": {},
   "source": [
    "### Using Exceptions to Prevent Crashes\n",
    "1. Handling errors correctly is especially important when the program has more work to do after the error occurs.\n",
    "2. This happens often in programs that prompt users for input.\n",
    "3. If the program responds to invalid input appropriately, it can prompt for more valid input instead of crashing"
   ]
  },
  {
   "cell_type": "code",
   "execution_count": 3,
   "id": "e6bcf228",
   "metadata": {},
   "outputs": [
    {
     "name": "stdout",
     "output_type": "stream",
     "text": [
      "Give me two numbers, and I'll divide them.\n",
      "Enter 'q' to quit.\n",
      "\n",
      "First number: 10\n",
      "Second number: 3\n",
      "3.3333333333333335\n",
      "\n",
      "First number: 3\n",
      "Second number: 4\n",
      "0.75\n",
      "\n",
      "First number: q\n"
     ]
    }
   ],
   "source": [
    "print(\"Give me two numbers, and I'll divide them.\")\n",
    "print(\"Enter 'q' to quit.\")\n",
    "while True:\n",
    "    first_number = input(\"\\nFirst number: \")\n",
    "    if first_number == 'q':\n",
    "        break\n",
    "    second_number = input(\"Second number: \")\n",
    "    if second_number == 'q':\n",
    "        break\n",
    "    answer = int(first_number) / int(second_number)\n",
    "    print(answer)"
   ]
  },
  {
   "cell_type": "code",
   "execution_count": 4,
   "id": "1489e99a",
   "metadata": {},
   "outputs": [
    {
     "name": "stdout",
     "output_type": "stream",
     "text": [
      "Give me two numbers, and I'll divide them.\n",
      "Enter 'q' to quit.\n",
      "\n",
      "First number: 5\n",
      "Second number: 0\n"
     ]
    },
    {
     "ename": "ZeroDivisionError",
     "evalue": "division by zero",
     "output_type": "error",
     "traceback": [
      "\u001b[1;31m---------------------------------------------------------------------------\u001b[0m",
      "\u001b[1;31mZeroDivisionError\u001b[0m                         Traceback (most recent call last)",
      "\u001b[1;32m~\\AppData\\Local\\Temp\\ipykernel_33048\\1325184248.py\u001b[0m in \u001b[0;36m<module>\u001b[1;34m\u001b[0m\n\u001b[0;32m      8\u001b[0m     \u001b[1;32mif\u001b[0m \u001b[0msecond_number\u001b[0m \u001b[1;33m==\u001b[0m \u001b[1;34m'q'\u001b[0m\u001b[1;33m:\u001b[0m\u001b[1;33m\u001b[0m\u001b[1;33m\u001b[0m\u001b[0m\n\u001b[0;32m      9\u001b[0m         \u001b[1;32mbreak\u001b[0m\u001b[1;33m\u001b[0m\u001b[1;33m\u001b[0m\u001b[0m\n\u001b[1;32m---> 10\u001b[1;33m     \u001b[0manswer\u001b[0m \u001b[1;33m=\u001b[0m \u001b[0mint\u001b[0m\u001b[1;33m(\u001b[0m\u001b[0mfirst_number\u001b[0m\u001b[1;33m)\u001b[0m \u001b[1;33m/\u001b[0m \u001b[0mint\u001b[0m\u001b[1;33m(\u001b[0m\u001b[0msecond_number\u001b[0m\u001b[1;33m)\u001b[0m\u001b[1;33m\u001b[0m\u001b[1;33m\u001b[0m\u001b[0m\n\u001b[0m\u001b[0;32m     11\u001b[0m     \u001b[0mprint\u001b[0m\u001b[1;33m(\u001b[0m\u001b[0manswer\u001b[0m\u001b[1;33m)\u001b[0m\u001b[1;33m\u001b[0m\u001b[1;33m\u001b[0m\u001b[0m\n",
      "\u001b[1;31mZeroDivisionError\u001b[0m: division by zero"
     ]
    }
   ],
   "source": [
    "print(\"Give me two numbers, and I'll divide them.\")\n",
    "print(\"Enter 'q' to quit.\")\n",
    "while True:\n",
    "    first_number = input(\"\\nFirst number: \")\n",
    "    if first_number == 'q':\n",
    "        break\n",
    "    second_number = input(\"Second number: \")\n",
    "    if second_number == 'q':\n",
    "        break\n",
    "    answer = int(first_number) / int(second_number)\n",
    "    print(answer)"
   ]
  },
  {
   "cell_type": "markdown",
   "id": "fb57827e",
   "metadata": {},
   "source": [
    "1. It’s bad that the program crashed, but it’s also not a good idea to let users see tracebacks.\n",
    "2. Nontechnical users will be confused by them, and in a malicious setting, attackers will learn more than you want them to know from a traceback.\n",
    "3. For example, they’ll know the name of your program file, and they’ll see a part of your code that isn’t working properly. \n",
    "4. A skilled attacker can sometimes use this information to determine which kind of attacks to use against your code."
   ]
  },
  {
   "cell_type": "markdown",
   "id": "1fa72c6d",
   "metadata": {},
   "source": [
    "### The else Block\n",
    "1. We can make this program more error resistant by wrapping the line that might produce errors in a try-except block. \n",
    "2. The error occurs on the line that performs the division, so that’s where we’ll put the try-except block. \n",
    "3. This example also includes an else block.\n",
    "4. Any code that depends on the tryblock executing successfully goes in the else block"
   ]
  },
  {
   "cell_type": "code",
   "execution_count": 6,
   "id": "f1637ed4",
   "metadata": {},
   "outputs": [
    {
     "name": "stdout",
     "output_type": "stream",
     "text": [
      "Give me two numbers, and I'll divide them.\n",
      "Enter 'q' to quit.\n",
      "\n",
      "First number: 6\n",
      "Second number: 9\n",
      "0.6666666666666666\n",
      "\n",
      "First number: 9\n",
      "Second number: 6\n",
      "1.5\n",
      "\n",
      "First number: 45\n",
      "Second number: 9\n",
      "5.0\n",
      "\n",
      "First number: 76\n",
      "Second number: 0\n",
      "You can't divide by 0!\n",
      "\n",
      "First number: 76\n",
      "Second number: 87\n",
      "0.8735632183908046\n",
      "\n",
      "First number: q\n"
     ]
    }
   ],
   "source": [
    "# this program will keep running until we enter q \n",
    "print(\"Give me two numbers, and I'll divide them.\")\n",
    "print(\"Enter 'q' to quit.\")\n",
    "while True:\n",
    " first_number = input(\"\\nFirst number: \")\n",
    " if first_number == 'q':\n",
    "     break\n",
    " second_number = input(\"Second number: \")\n",
    " try:\n",
    "     answer = int(first_number) / int(second_number)\n",
    " except ZeroDivisionError:\n",
    "     print(\"You can't divide by 0!\")   \n",
    " else:\n",
    "     print(answer)"
   ]
  },
  {
   "cell_type": "code",
   "execution_count": 7,
   "id": "d904d413",
   "metadata": {},
   "outputs": [
    {
     "name": "stdout",
     "output_type": "stream",
     "text": [
      "Give me two numbers, and I'll divide them.\n",
      "Enter 'q' to quit.\n",
      "\n",
      "First number: 45\n",
      "Second number: b\n"
     ]
    },
    {
     "ename": "ValueError",
     "evalue": "invalid literal for int() with base 10: 'b'",
     "output_type": "error",
     "traceback": [
      "\u001b[1;31m---------------------------------------------------------------------------\u001b[0m",
      "\u001b[1;31mValueError\u001b[0m                                Traceback (most recent call last)",
      "\u001b[1;32m~\\AppData\\Local\\Temp\\ipykernel_33048\\1558313832.py\u001b[0m in \u001b[0;36m<module>\u001b[1;34m\u001b[0m\n\u001b[0;32m      7\u001b[0m  \u001b[0msecond_number\u001b[0m \u001b[1;33m=\u001b[0m \u001b[0minput\u001b[0m\u001b[1;33m(\u001b[0m\u001b[1;34m\"Second number: \"\u001b[0m\u001b[1;33m)\u001b[0m\u001b[1;33m\u001b[0m\u001b[1;33m\u001b[0m\u001b[0m\n\u001b[0;32m      8\u001b[0m  \u001b[1;32mtry\u001b[0m\u001b[1;33m:\u001b[0m\u001b[1;33m\u001b[0m\u001b[1;33m\u001b[0m\u001b[0m\n\u001b[1;32m----> 9\u001b[1;33m      \u001b[0manswer\u001b[0m \u001b[1;33m=\u001b[0m \u001b[0mint\u001b[0m\u001b[1;33m(\u001b[0m\u001b[0mfirst_number\u001b[0m\u001b[1;33m)\u001b[0m \u001b[1;33m/\u001b[0m \u001b[0mint\u001b[0m\u001b[1;33m(\u001b[0m\u001b[0msecond_number\u001b[0m\u001b[1;33m)\u001b[0m\u001b[1;33m\u001b[0m\u001b[1;33m\u001b[0m\u001b[0m\n\u001b[0m\u001b[0;32m     10\u001b[0m  \u001b[1;32mexcept\u001b[0m \u001b[0mZeroDivisionError\u001b[0m\u001b[1;33m:\u001b[0m\u001b[1;33m\u001b[0m\u001b[1;33m\u001b[0m\u001b[0m\n\u001b[0;32m     11\u001b[0m      \u001b[0mprint\u001b[0m\u001b[1;33m(\u001b[0m\u001b[1;34m\"You can't divide by 0!\"\u001b[0m\u001b[1;33m)\u001b[0m\u001b[1;33m\u001b[0m\u001b[1;33m\u001b[0m\u001b[0m\n",
      "\u001b[1;31mValueError\u001b[0m: invalid literal for int() with base 10: 'b'"
     ]
    }
   ],
   "source": [
    "print(\"Give me two numbers, and I'll divide them.\")\n",
    "print(\"Enter 'q' to quit.\")\n",
    "while True:\n",
    " first_number = input(\"\\nFirst number: \")\n",
    " if first_number == 'q':\n",
    "     break\n",
    " second_number = input(\"Second number: \")\n",
    " try:\n",
    "     answer = int(first_number) / int(second_number)\n",
    " except ZeroDivisionError:\n",
    "     print(\"You can't divide by 0!\")   \n",
    " else:\n",
    "     print(answer)"
   ]
  },
  {
   "cell_type": "code",
   "execution_count": 8,
   "id": "c927d27e",
   "metadata": {},
   "outputs": [
    {
     "name": "stdout",
     "output_type": "stream",
     "text": [
      "Give me two numbers, and I'll divide them.\n",
      "Enter 'q' to quit.\n",
      "\n",
      "First number: 56\n",
      "Second number: h\n",
      "Please enter the integer\n",
      "\n",
      "First number: 78\n",
      "Second number: 90\n",
      "0.8666666666666667\n",
      "\n",
      "First number: 45\n",
      "Second number: 0\n",
      "You can't divide by 0!\n",
      "\n",
      "First number: q\n"
     ]
    }
   ],
   "source": [
    "print(\"Give me two numbers, and I'll divide them.\")\n",
    "print(\"Enter 'q' to quit.\")\n",
    "while True:\n",
    " first_number = input(\"\\nFirst number: \")\n",
    " if first_number == 'q':\n",
    "     break\n",
    " second_number = input(\"Second number: \")\n",
    " try:\n",
    "     answer = int(first_number) / int(second_number)\n",
    " except ZeroDivisionError:\n",
    "     print(\"You can't divide by 0!\") \n",
    " except ValueError:\n",
    "    print(\"Please enter the integer\")\n",
    " else:\n",
    "     print(answer)"
   ]
  },
  {
   "cell_type": "markdown",
   "id": "c42f36fb",
   "metadata": {},
   "source": [
    "1. We ask Python to try to complete the division operation in a try block u, which includes only the code that might cause an error.\n",
    "2. Any code that depends on the try block succeeding is added to the else block. \n",
    "3. In this case if the division operation is successful, we use the else block to print the result .\n",
    "4. The except block tells Python how to respond when a ZeroDivisionErrorarises . \n",
    "5. If the try statement doesn’t succeed because of a division by zero error, we print a friendly message telling the user how to avoid this kind of error.\n",
    "6. The program continues to run, and the user never sees a traceback:"
   ]
  },
  {
   "cell_type": "markdown",
   "id": "124a64f3",
   "metadata": {},
   "source": [
    "1. The try-except-else block works like this: Python attempts to run the code in the try statement. \n",
    "2. The only code that should go in a try statement is code that might cause an exception to be raised.\n",
    "3. Sometimes you’ll have additional code that should run only if the try block was successful; this code goes in the else block. \n",
    "4. The except block tells Python what to do in case a certain exception arises when it tries to run the code in the try statement.\n",
    "5. By anticipating likely sources of errors, you can write robust programs that continue to run even when they encounter invalid data and missing resources.\n",
    "6. Your code will be resistant to innocent user mistakes and mali\u0002cious attacks."
   ]
  },
  {
   "cell_type": "markdown",
   "id": "25eace85",
   "metadata": {},
   "source": [
    "### Handling the FileNotFoundError Exception\n",
    "1. One common issue when working with files is handling missing files. \n",
    "2. The file you’re looking for might be in a different location, the filename may be misspelled, or the file may not exist at all. \n",
    "3. You can handle all of these situations in a straightforward way with a try-except block."
   ]
  },
  {
   "cell_type": "code",
   "execution_count": 9,
   "id": "b9ee8476",
   "metadata": {},
   "outputs": [
    {
     "ename": "FileNotFoundError",
     "evalue": "[Errno 2] No such file or directory: 'alice.txt'",
     "output_type": "error",
     "traceback": [
      "\u001b[1;31m---------------------------------------------------------------------------\u001b[0m",
      "\u001b[1;31mFileNotFoundError\u001b[0m                         Traceback (most recent call last)",
      "\u001b[1;32m~\\AppData\\Local\\Temp\\ipykernel_33048\\2309368374.py\u001b[0m in \u001b[0;36m<module>\u001b[1;34m\u001b[0m\n\u001b[0;32m      1\u001b[0m \u001b[0mfilename\u001b[0m \u001b[1;33m=\u001b[0m \u001b[1;34m'alice.txt'\u001b[0m\u001b[1;33m\u001b[0m\u001b[1;33m\u001b[0m\u001b[0m\n\u001b[1;32m----> 2\u001b[1;33m \u001b[1;32mwith\u001b[0m \u001b[0mopen\u001b[0m\u001b[1;33m(\u001b[0m\u001b[0mfilename\u001b[0m\u001b[1;33m)\u001b[0m \u001b[1;32mas\u001b[0m \u001b[0mf_obj\u001b[0m\u001b[1;33m:\u001b[0m\u001b[1;33m\u001b[0m\u001b[1;33m\u001b[0m\u001b[0m\n\u001b[0m\u001b[0;32m      3\u001b[0m  \u001b[0mcontents\u001b[0m \u001b[1;33m=\u001b[0m \u001b[0mf_obj\u001b[0m\u001b[1;33m.\u001b[0m\u001b[0mread\u001b[0m\u001b[1;33m(\u001b[0m\u001b[1;33m)\u001b[0m\u001b[1;33m\u001b[0m\u001b[1;33m\u001b[0m\u001b[0m\n",
      "\u001b[1;31mFileNotFoundError\u001b[0m: [Errno 2] No such file or directory: 'alice.txt'"
     ]
    }
   ],
   "source": [
    "filename = 'alice.txt'\n",
    "with open(filename) as f_obj:\n",
    " contents = f_obj.read()"
   ]
  },
  {
   "cell_type": "markdown",
   "id": "dc172cbb",
   "metadata": {},
   "source": [
    "#### Python can’t read from a missing file, so it raises an exception:\n",
    "1. The last line of the traceback reports a FileNotFoundError: this is the exception Python creates when it can’t find the file it’s trying to open.\n",
    "2. In this example, the open() function produces the error, so to handle it, the try block will begin just before the line that contains open():"
   ]
  },
  {
   "cell_type": "code",
   "execution_count": 11,
   "id": "021e363a",
   "metadata": {},
   "outputs": [
    {
     "name": "stdout",
     "output_type": "stream",
     "text": [
      "Sorry, the file alice.txt does not exist.\n"
     ]
    }
   ],
   "source": [
    "filename = 'alice.txt'\n",
    "try:\n",
    " with open(filename) as f_obj:\n",
    "     contents = f_obj.read()\n",
    "except FileNotFoundError:\n",
    " msg = \"Sorry, the file \" + filename + \" does not exist.\"\n",
    " print(msg)"
   ]
  },
  {
   "cell_type": "code",
   "execution_count": 12,
   "id": "0e1eb0f5",
   "metadata": {},
   "outputs": [
    {
     "data": {
      "text/plain": [
       "['Alice', 'in', 'Wonderland']"
      ]
     },
     "execution_count": 12,
     "metadata": {},
     "output_type": "execute_result"
    }
   ],
   "source": [
    "#The string method split(),  can build a list of words from a string. \n",
    "#Here’s what split() does with a string containing just the title \"Alice in Wonderland\":\n",
    "title = \"Alice in Wonderland\" \n",
    "title.split() "
   ]
  },
  {
   "cell_type": "raw",
   "id": "d28c7f35",
   "metadata": {},
   "source": [
    "The split() method separates a string into parts wherever it finds a space and stores all the parts of the string in a list.\n",
    "The result is a list of words from the string, although some punctuation may also appear with some of the words. \n",
    "To count the number of words in Alice in Wonderland, we’ll use split() on the entire text.\n",
    "Then we’ll count the items in the list to get a rough idea of the number of words in the text."
   ]
  },
  {
   "cell_type": "code",
   "execution_count": 15,
   "id": "754716d9",
   "metadata": {},
   "outputs": [
    {
     "name": "stdout",
     "output_type": "stream",
     "text": [
      "7\n"
     ]
    }
   ],
   "source": [
    "filename = 'Names' # see in the current folder. A Names tex file is created.\n",
    "try:\n",
    " with open(filename) as f_obj:\n",
    "     contents = f_obj.read()\n",
    "except FileNotFoundError:\n",
    " msg = \"Sorry, the file \" + filename + \" does not exist.\"\n",
    " print(msg)\n",
    "else:\n",
    "    print(len(contents.split()))"
   ]
  },
  {
   "cell_type": "code",
   "execution_count": 17,
   "id": "3039ae72",
   "metadata": {},
   "outputs": [
    {
     "name": "stdout",
     "output_type": "stream",
     "text": [
      "7\n"
     ]
    }
   ],
   "source": [
    "def count_words(filename):\n",
    "    try:\n",
    "        with open(filename) as f_obj:\n",
    "         contents = f_obj.read()\n",
    "    except FileNotFoundError:\n",
    "     msg = \"Sorry, the file \" + filename + \" does not exist.\"\n",
    "     print(msg)\n",
    "    else:\n",
    "        print(len(contents.split()))\n",
    "filename = 'Names'\n",
    "count_words(filename)"
   ]
  },
  {
   "cell_type": "code",
   "execution_count": 22,
   "id": "7fd19782",
   "metadata": {},
   "outputs": [
    {
     "name": "stdout",
     "output_type": "stream",
     "text": [
      "7\n",
      "Sorry, the file classes does not exist.\n",
      "Sorry, the file students does not exist.\n"
     ]
    }
   ],
   "source": [
    "## Working with Multiple Files\n",
    "# to work with multiple files,we need to use the functions and for loop to take one file at a time.\n",
    "def count_words(filename):\n",
    "    try:\n",
    "        with open(filename) as f_obj:\n",
    "         contents = f_obj.read()\n",
    "    except FileNotFoundError:\n",
    "     msg = \"Sorry, the file \" + filename + \" does not exist.\"\n",
    "     print(msg)\n",
    "    else:\n",
    "        print(len(contents.split()))\n",
    "filename = ['Names','classes','students']\n",
    "for file in filename:\n",
    "    count_words(file)"
   ]
  },
  {
   "cell_type": "markdown",
   "id": "004345a0",
   "metadata": {},
   "source": [
    "## Failing Silently\n",
    "1. In the previous example, we informed our users that one of the files was unavailable. \n",
    "2. But you don’t need to report every exception you catch. \n",
    "3. Sometimes you’ll want the program to fail silently when an exception occurs and continue on as if nothing happened. \n",
    "4. To make a program fail silently, you write a try block as usual, but you explicitly tell Python to do nothing in the except block. \n",
    "5. Python has a pass statement that tells it to do nothing in a block:"
   ]
  },
  {
   "cell_type": "raw",
   "id": "6a406145",
   "metadata": {},
   "source": [
    "Now when a FileNotFoundError is raised, the code in the except block runs, but nothing happens. \n",
    "No traceback is produced, and there’s no output in response to the error that was raised.\n",
    "Users see the word counts for each file that exists, but they don’t see any indication that a file was not found.\n",
    "The pass statement also acts as a placeholder.\n",
    "It’s a reminder that you’re choosing to do nothing at a specific point in your program’s execution and that you might want to do something there later."
   ]
  },
  {
   "cell_type": "code",
   "execution_count": 23,
   "id": "899e27c1",
   "metadata": {},
   "outputs": [
    {
     "name": "stdout",
     "output_type": "stream",
     "text": [
      "7\n"
     ]
    }
   ],
   "source": [
    "def count_words(filename):\n",
    "    try:\n",
    "        with open(filename) as f_obj:\n",
    "         contents = f_obj.read()\n",
    "    except FileNotFoundError:\n",
    "        pass\n",
    "    else:\n",
    "        print(len(contents.split()))\n",
    "filename = ['Names','classes','students']\n",
    "for file in filename:\n",
    "    count_words(file)"
   ]
  },
  {
   "cell_type": "raw",
   "id": "bc3b8970",
   "metadata": {},
   "source": [
    "Python’s error-handling structures give you fine grained control over how much to share with users when things go wrong; \n",
    "it’s up to you to decide how much information to share."
   ]
  },
  {
   "cell_type": "code",
   "execution_count": null,
   "id": "d25d0d31",
   "metadata": {},
   "outputs": [],
   "source": []
  }
 ],
 "metadata": {
  "kernelspec": {
   "display_name": "Python 3 (ipykernel)",
   "language": "python",
   "name": "python3"
  },
  "language_info": {
   "codemirror_mode": {
    "name": "ipython",
    "version": 3
   },
   "file_extension": ".py",
   "mimetype": "text/x-python",
   "name": "python",
   "nbconvert_exporter": "python",
   "pygments_lexer": "ipython3",
   "version": "3.9.13"
  }
 },
 "nbformat": 4,
 "nbformat_minor": 5
}
