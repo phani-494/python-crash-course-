{
 "cells": [
  {
   "cell_type": "markdown",
   "id": "b9268ca0",
   "metadata": {},
   "source": [
    "# Introduction "
   ]
  },
  {
   "cell_type": "markdown",
   "id": "f9c9cf18",
   "metadata": {},
   "source": [
    "## There is real satisfaction in building something with a purpose, something that solves a problem. "
   ]
  },
  {
   "cell_type": "markdown",
   "id": "f72196d9",
   "metadata": {},
   "source": [
    "# Chapter -2\n",
    "## Variables and string datatypes "
   ]
  },
  {
   "cell_type": "code",
   "execution_count": 2,
   "id": "97d203e9",
   "metadata": {},
   "outputs": [
    {
     "name": "stdout",
     "output_type": "stream",
     "text": [
      "INDRASENA REDDY\n"
     ]
    }
   ],
   "source": [
    "st1=\" INDRASENA REDDY   \"\n",
    "print(st1.strip())"
   ]
  },
  {
   "cell_type": "code",
   "execution_count": 3,
   "id": "76a5192a",
   "metadata": {},
   "outputs": [
    {
     "data": {
      "text/plain": [
       "' INDRASENA REDDY   '"
      ]
     },
     "execution_count": 3,
     "metadata": {},
     "output_type": "execute_result"
    }
   ],
   "source": [
    "st1"
   ]
  },
  {
   "cell_type": "raw",
   "id": "9fbe5b2a",
   "metadata": {},
   "source": [
    " In the real world, these stripping functions are used most often to clean up user input before it’s stored in a program."
   ]
  },
  {
   "cell_type": "code",
   "execution_count": 5,
   "id": "2d0e8e26",
   "metadata": {},
   "outputs": [
    {
     "data": {
      "text/plain": [
       "'INDRASENA REDDY'"
      ]
     },
     "execution_count": 5,
     "metadata": {},
     "output_type": "execute_result"
    }
   ],
   "source": [
    "st1.strip() # removed the white spaces from both sides"
   ]
  },
  {
   "cell_type": "raw",
   "id": "16065b91",
   "metadata": {},
   "source": [
    "The method title() appears after the variable in the print() statement.\n",
    "A method is an action that Python can perform on a piece of data. \n",
    "The dot (.) after name in name.title() tells Python to make the title() method act on the variable name.\n",
    "Every method is followed by a set of parentheses, because methods often need additional information to do their work. \n",
    "That information is provided inside the parentheses. The title() function doesn’t need any additional information, so its parentheses are empty. "
   ]
  },
  {
   "cell_type": "raw",
   "id": "79a968d1",
   "metadata": {},
   "source": [
    "Floats:\n",
    "Python calls any number with a decimal point a float. "
   ]
  },
  {
   "cell_type": "raw",
   "id": "25d75adf",
   "metadata": {},
   "source": [
    " type error. It means Python can’t recognize the kind of information you’re using."
   ]
  },
  {
   "cell_type": "raw",
   "id": "1e691433",
   "metadata": {},
   "source": [
    "Adding Whitespace to Strings with Tabs or Newlines\n",
    "In programming, whitespace refers to any nonprinting character, such as spaces, tabs, and end-of-line symbols. \n",
    "You can use whitespace to organize your output so it’s easier for users to read"
   ]
  },
  {
   "cell_type": "markdown",
   "id": "8f46fcf6",
   "metadata": {},
   "source": [
    "# Chapter-3\n",
    "## Lists "
   ]
  },
  {
   "cell_type": "markdown",
   "id": "5ea48da8",
   "metadata": {},
   "source": [
    "1. Lists allow you to store sets of information in one place, whether you have just a few items or millions of items.\n",
    "2. A list is a collection of items in a particular order. You can make a list that includes the letters of the alphabet, the digits from 0–9, or the names of all the people in your family. \n",
    "3. You can put anything you want into a list, and the items in your list don’t have to be related in any particular way.\n",
    "4. Accessing Elements in a List: Lists are ordered collections, so you can access any element in a list by telling Python the position, or index, of the item desired."
   ]
  },
  {
   "cell_type": "code",
   "execution_count": 1,
   "id": "ac5042cc",
   "metadata": {},
   "outputs": [
    {
     "name": "stdout",
     "output_type": "stream",
     "text": [
      "['Yamaha', 'R15', 'Apache', 'Honda']\n"
     ]
    }
   ],
   "source": [
    "bikes=[\"Yamaha\",\"R15\",\"Apache\",\"Honda\"]\n",
    "print(bikes)"
   ]
  },
  {
   "cell_type": "code",
   "execution_count": 2,
   "id": "418bec4a",
   "metadata": {},
   "outputs": [
    {
     "data": {
      "text/plain": [
       "'Yamaha'"
      ]
     },
     "execution_count": 2,
     "metadata": {},
     "output_type": "execute_result"
    }
   ],
   "source": [
    "bikes[0]"
   ]
  },
  {
   "cell_type": "code",
   "execution_count": 3,
   "id": "00ee1a7a",
   "metadata": {},
   "outputs": [
    {
     "data": {
      "text/plain": [
       "'Honda'"
      ]
     },
     "execution_count": 3,
     "metadata": {},
     "output_type": "execute_result"
    }
   ],
   "source": [
    "bikes[3]"
   ]
  },
  {
   "cell_type": "code",
   "execution_count": 4,
   "id": "74c8008f",
   "metadata": {},
   "outputs": [
    {
     "data": {
      "text/plain": [
       "'HONDA'"
      ]
     },
     "execution_count": 4,
     "metadata": {},
     "output_type": "execute_result"
    }
   ],
   "source": [
    "bikes[3].upper()"
   ]
  },
  {
   "cell_type": "raw",
   "id": "5fb147c5",
   "metadata": {},
   "source": [
    "# we can use string methods also on the elements of a string.\n",
    "# since it returns a string we can apply string methods on them.\n",
    "#  you’ll often want to access the last items in a list without knowing exactly how long the list is. \n",
    "# This convention extends to other negative index values as well. \n",
    "# The index -2 returns the second item from the end of the list, the index -3 returns the third item from the end, and so forth."
   ]
  },
  {
   "cell_type": "code",
   "execution_count": 5,
   "id": "21bc54b3",
   "metadata": {},
   "outputs": [
    {
     "data": {
      "text/plain": [
       "'Apache'"
      ]
     },
     "execution_count": 5,
     "metadata": {},
     "output_type": "execute_result"
    }
   ],
   "source": [
    "bikes[-2]"
   ]
  },
  {
   "cell_type": "code",
   "execution_count": 7,
   "id": "b9e87bb0",
   "metadata": {},
   "outputs": [
    {
     "data": {
      "text/plain": [
       "'Honda'"
      ]
     },
     "execution_count": 7,
     "metadata": {},
     "output_type": "execute_result"
    }
   ],
   "source": [
    "bikes[-1] # last element"
   ]
  },
  {
   "cell_type": "raw",
   "id": "99abcdaa",
   "metadata": {},
   "source": [
    "Most lists you create will be dynamic, meaning you’ll build a list and then add and remove elements from it as your program runs its course.\n",
    "For example, you might create a game in which a player has to shoot aliens out of the sky.\n",
    "You could store the initial set of aliens in a list and then remove an alien from the list each time one is shot down.\n",
    "Each time a new alien appears on the screen, you add it to the list.\n",
    "Your list of aliens will decrease and increase in length throughout the course of the game"
   ]
  },
  {
   "cell_type": "code",
   "execution_count": 8,
   "id": "b8f15969",
   "metadata": {},
   "outputs": [],
   "source": [
    "del bikes[2] # apache will be deleted."
   ]
  },
  {
   "cell_type": "code",
   "execution_count": 9,
   "id": "4ebe92fb",
   "metadata": {},
   "outputs": [
    {
     "data": {
      "text/plain": [
       "['Yamaha', 'R15', 'Honda']"
      ]
     },
     "execution_count": 9,
     "metadata": {},
     "output_type": "execute_result"
    }
   ],
   "source": [
    "bikes"
   ]
  },
  {
   "cell_type": "raw",
   "id": "eebce471",
   "metadata": {},
   "source": [
    "Removing an Item Using the del Statement\n",
    "If you know the position of the item you want to remove from a list, you can use the del statement. \n",
    "You can no longer access the value that was removed from the list after the del statement is used.\n",
    "\n",
    "\n",
    "Removing an Item Using the pop() Method:\n",
    "1. Sometimes you’ll want to use the value of an item after you remove it from a list. \n",
    "2.For example, you might want to get the x and y position of an alien that was just shot down, so you can draw an explosion at that position.\n",
    "3. In a web application, you might want to remove a user from a list of active members and then add that user to a list of inactive members.\n",
    "4. The pop() method removes the last item in a list, but it lets you work with that item after removing it. \n",
    "5. The term pop comes from thinking of a list as a stack of items and popping one item off the top of the stack. \n",
    "6.In this analogy, the top of a stack corresponds to the end of a list."
   ]
  },
  {
   "cell_type": "code",
   "execution_count": 10,
   "id": "14a1dae7",
   "metadata": {},
   "outputs": [
    {
     "data": {
      "text/plain": [
       "'Honda'"
      ]
     },
     "execution_count": 10,
     "metadata": {},
     "output_type": "execute_result"
    }
   ],
   "source": [
    "bikes.pop()"
   ]
  },
  {
   "cell_type": "code",
   "execution_count": 11,
   "id": "de224e62",
   "metadata": {},
   "outputs": [
    {
     "data": {
      "text/plain": [
       "['Yamaha', 'R15']"
      ]
     },
     "execution_count": 11,
     "metadata": {},
     "output_type": "execute_result"
    }
   ],
   "source": [
    "bikes"
   ]
  },
  {
   "cell_type": "markdown",
   "id": "1b9a1239",
   "metadata": {},
   "source": [
    "##### Popping Items from any Position in a List\n",
    "You can actually use pop() to remove an item in a list at any position by including the index of the item you want to remove in parentheses"
   ]
  },
  {
   "cell_type": "code",
   "execution_count": 13,
   "id": "48f17005",
   "metadata": {},
   "outputs": [
    {
     "data": {
      "text/plain": [
       "['Yamaha', 'R15']"
      ]
     },
     "execution_count": 13,
     "metadata": {},
     "output_type": "execute_result"
    }
   ],
   "source": [
    "bikes"
   ]
  },
  {
   "cell_type": "code",
   "execution_count": 14,
   "id": "af5b6c67",
   "metadata": {},
   "outputs": [
    {
     "data": {
      "text/plain": [
       "'Yamaha'"
      ]
     },
     "execution_count": 14,
     "metadata": {},
     "output_type": "execute_result"
    }
   ],
   "source": [
    "bikes.pop(0)"
   ]
  },
  {
   "cell_type": "code",
   "execution_count": 15,
   "id": "964a72ce",
   "metadata": {},
   "outputs": [
    {
     "data": {
      "text/plain": [
       "['R15']"
      ]
     },
     "execution_count": 15,
     "metadata": {},
     "output_type": "execute_result"
    }
   ],
   "source": [
    "bikes"
   ]
  },
  {
   "cell_type": "raw",
   "id": "630ec39a",
   "metadata": {},
   "source": [
    "If you’re unsure whether to use the del statement or the pop() method, here’s a simple way to decide:\n",
    "when you want to delete an item from a list and not use that item in any way, use the del statement; \n",
    "if you want to use an item as you remove it, use the pop() method."
   ]
  },
  {
   "cell_type": "raw",
   "id": "1570d5db",
   "metadata": {},
   "source": [
    "Removing an Item by Value:\n",
    "Sometimes you won’t know the position of the value you want to remove from a list. \n",
    "If you only know the value of the item you want to remove, you can use the remove() method."
   ]
  },
  {
   "cell_type": "code",
   "execution_count": 17,
   "id": "7dc266bc",
   "metadata": {},
   "outputs": [],
   "source": [
    "bikes=[\"Yamaha\",\"R15\",\"Apache\",\"Honda\"]\n",
    "bikes.remove(\"R15\")"
   ]
  },
  {
   "cell_type": "code",
   "execution_count": 18,
   "id": "814c0aec",
   "metadata": {},
   "outputs": [
    {
     "data": {
      "text/plain": [
       "['Yamaha', 'Apache', 'Honda']"
      ]
     },
     "execution_count": 18,
     "metadata": {},
     "output_type": "execute_result"
    }
   ],
   "source": [
    "bikes"
   ]
  },
  {
   "cell_type": "raw",
   "id": "3aff8b25",
   "metadata": {},
   "source": [
    "The remove() method deletes only the first occurrence of the value you specify.\n",
    "If there’s a possibility the value appears more than once in the list, you’ll need to use a loop to \n",
    "determine if all occurrences of the value have been removed. "
   ]
  },
  {
   "cell_type": "raw",
   "id": "0f3a35a1",
   "metadata": {},
   "source": [
    "Python’s sort() method makes it relatively easy to sort a list.\n",
    "The sort() method changes the order of the list permanently. The cars are now in alphabetical order, and we can never revert to \n",
    "the original order once sort() applied."
   ]
  },
  {
   "cell_type": "code",
   "execution_count": 1,
   "id": "7186c76b",
   "metadata": {},
   "outputs": [
    {
     "name": "stdout",
     "output_type": "stream",
     "text": [
      "['audi', 'bmw', 'honda', 'toyata']\n"
     ]
    }
   ],
   "source": [
    "cars=[\"bmw\",\"toyata\",\"honda\",\"audi\"]\n",
    "cars.sort()\n",
    "print(cars)"
   ]
  },
  {
   "cell_type": "code",
   "execution_count": 2,
   "id": "90d2851a",
   "metadata": {},
   "outputs": [
    {
     "data": {
      "text/plain": [
       "['audi', 'bmw', 'honda', 'toyata']"
      ]
     },
     "execution_count": 2,
     "metadata": {},
     "output_type": "execute_result"
    }
   ],
   "source": [
    "cars"
   ]
  },
  {
   "cell_type": "code",
   "execution_count": 6,
   "id": "65855c35",
   "metadata": {},
   "outputs": [
    {
     "data": {
      "text/plain": [
       "['audi', 'bmw', 'honda', 'toyata']"
      ]
     },
     "execution_count": 6,
     "metadata": {},
     "output_type": "execute_result"
    }
   ],
   "source": [
    "cars2=[\"bmw\",\"toyata\",\"honda\",\"audi\"]\n",
    "sorted(cars2)"
   ]
  },
  {
   "cell_type": "code",
   "execution_count": 7,
   "id": "0d83ff8d",
   "metadata": {},
   "outputs": [
    {
     "data": {
      "text/plain": [
       "['bmw', 'toyata', 'honda', 'audi']"
      ]
     },
     "execution_count": 7,
     "metadata": {},
     "output_type": "execute_result"
    }
   ],
   "source": [
    "cars2"
   ]
  },
  {
   "cell_type": "raw",
   "id": "357659ff",
   "metadata": {},
   "source": [
    "You can also sort this list in reverse alphabetical order by passing the argument reverse=True to the sort() method. \n",
    "The following example sorts the list of cars in reverse alphabetical order:\n"
   ]
  },
  {
   "cell_type": "code",
   "execution_count": 9,
   "id": "ab6d8f70",
   "metadata": {},
   "outputs": [],
   "source": [
    "cars2.sort(reverse=True)"
   ]
  },
  {
   "cell_type": "code",
   "execution_count": 10,
   "id": "4dc87fb6",
   "metadata": {},
   "outputs": [
    {
     "data": {
      "text/plain": [
       "['toyata', 'honda', 'bmw', 'audi']"
      ]
     },
     "execution_count": 10,
     "metadata": {},
     "output_type": "execute_result"
    }
   ],
   "source": [
    "cars2"
   ]
  },
  {
   "cell_type": "raw",
   "id": "f9b3c5d7",
   "metadata": {},
   "source": [
    "Sorting a List Temporarily with the sorted() Function\n",
    "To maintain the original order of a list but present it in a sorted order, you can use the sorted() function. \n",
    "The sorted() function lets you display your list in a particular order but doesn’t affect the actual order of the list.\n",
    "The reverse() method changes the order of a list permanently, but you can revert to the original order anytime by applying reverse() to the same list a second time"
   ]
  },
  {
   "cell_type": "code",
   "execution_count": 13,
   "id": "a2ecfe47",
   "metadata": {},
   "outputs": [
    {
     "data": {
      "text/plain": [
       "['audi', 'honda', 'toyata', 'bmw']"
      ]
     },
     "execution_count": 13,
     "metadata": {},
     "output_type": "execute_result"
    }
   ],
   "source": [
    "cars3=[\"bmw\",\"toyata\",\"honda\",\"audi\"]\n",
    "cars3.reverse()\n",
    "cars3 "
   ]
  },
  {
   "cell_type": "code",
   "execution_count": 15,
   "id": "c4ecc7b9",
   "metadata": {},
   "outputs": [
    {
     "data": {
      "text/plain": [
       "['audi', 'honda', 'toyata', 'bmw']"
      ]
     },
     "execution_count": 15,
     "metadata": {},
     "output_type": "execute_result"
    }
   ],
   "source": [
    "cars3"
   ]
  },
  {
   "cell_type": "code",
   "execution_count": 16,
   "id": "a506dbb7",
   "metadata": {},
   "outputs": [
    {
     "data": {
      "text/plain": [
       "4"
      ]
     },
     "execution_count": 16,
     "metadata": {},
     "output_type": "execute_result"
    }
   ],
   "source": [
    "len(cars)"
   ]
  },
  {
   "cell_type": "markdown",
   "id": "5b5355e1",
   "metadata": {},
   "source": [
    "# Chapter-4\n",
    "## Working with lists"
   ]
  },
  {
   "cell_type": "raw",
   "id": "9cfe0f50",
   "metadata": {},
   "source": [
    "Looping allows you to take the same action, or set of actions, with every item in a list.\n",
    "You’ll often want to run through all entries in a list, performing the same task with each item. \n",
    "For example, in a game you might want to move every element on the screen by the same amount, or in a list of numbers you \n",
    "might want to perform the same statistical operation on every element. \n",
    "Or perhaps you’ll want to display each headline from a list of articles on a website.\n",
    "When you want to do the same action with every item in a list, you can use Python’s for loop."
   ]
  },
  {
   "cell_type": "code",
   "execution_count": 1,
   "id": "628453c2",
   "metadata": {},
   "outputs": [
    {
     "name": "stdout",
     "output_type": "stream",
     "text": [
      "alice\n",
      "david\n",
      "carolina\n"
     ]
    }
   ],
   "source": [
    "magicians = ['alice', 'david', 'carolina'] \n",
    "for magician in magicians: \n",
    "    print(magician)"
   ]
  },
  {
   "cell_type": "raw",
   "id": "dbe09043",
   "metadata": {},
   "source": [
    "we define a for loop here. This line tells Python to pull a name from the list magicians, and store it in the variable magician.\n",
    "At line 3, we tell Python to print the name that was just stored in magician.\n",
    "Python then repeats lines 2 and 3, once for each name in the list. \n",
    "It might help to read this code as “For every magician in the list of magicians, print the magician’s name.”"
   ]
  },
  {
   "cell_type": "code",
   "execution_count": 2,
   "id": "65f46cd9",
   "metadata": {},
   "outputs": [
    {
     "name": "stdout",
     "output_type": "stream",
     "text": [
      "Alice, that was a great trick!\n",
      "David, that was a great trick!\n",
      "Carolina, that was a great trick!\n"
     ]
    }
   ],
   "source": [
    "magicians = ['alice', 'david', 'carolina'] \n",
    "for magician in magicians: \n",
    "    print(magician.title() + \", that was a great trick!\") "
   ]
  },
  {
   "cell_type": "code",
   "execution_count": 8,
   "id": "99bc2849",
   "metadata": {},
   "outputs": [
    {
     "name": "stdout",
     "output_type": "stream",
     "text": [
      "APPLE is giving good taste\n",
      "I can't wait to see your next trick, Carolina.\n",
      "\n",
      "BANANA is giving good taste\n",
      "I can't wait to see your next trick, Carolina.\n",
      "\n",
      "MANGO is giving good taste\n",
      "I can't wait to see your next trick, Carolina.\n",
      "\n",
      "GRAPE is giving good taste\n",
      "I can't wait to see your next trick, Carolina.\n",
      "\n"
     ]
    }
   ],
   "source": [
    "fruits=[\"Apple\",\"Banana\",\"Mango\",\"Grape\"]\n",
    "for fruit in fruits:\n",
    "    print(fruit.upper()+\" is giving good taste\")\n",
    "    print(\"I can't wait to see your next trick, \" + magician.title() + \".\\n\")"
   ]
  },
  {
   "cell_type": "raw",
   "id": "b41b5efb",
   "metadata": {},
   "source": [
    "Python uses indentation to determine when one line of code is cronnected to the line above it.\n",
    "Python’s use of indentation makes code very easy to read.\n",
    "Basically, it uses whitespace to force you to write neatly formatted code with a clear visual structure.\n",
    "The colon at the end of a for statement tells Python to interpret the next line as the start of a loop"
   ]
  },
  {
   "cell_type": "raw",
   "id": "7b97314c",
   "metadata": {},
   "source": [
    "Indenting Unnecessarily:\n",
    "If you accidentally indent a line that doesn’t need to be indented, Python informs you about the unexpected indent:"
   ]
  },
  {
   "cell_type": "code",
   "execution_count": 16,
   "id": "c5924871",
   "metadata": {},
   "outputs": [
    {
     "ename": "IndentationError",
     "evalue": "expected an indented block (1349417615.py, line 3)",
     "output_type": "error",
     "traceback": [
      "\u001b[1;36m  File \u001b[1;32m\"C:\\Users\\Phanindra Reddy\\AppData\\Local\\Temp\\ipykernel_35336\\1349417615.py\"\u001b[1;36m, line \u001b[1;32m3\u001b[0m\n\u001b[1;33m    print(magician)\u001b[0m\n\u001b[1;37m    ^\u001b[0m\n\u001b[1;31mIndentationError\u001b[0m\u001b[1;31m:\u001b[0m expected an indented block\n"
     ]
    }
   ],
   "source": [
    "magicians = ['alice', 'david', 'carolina'] \n",
    "for magician in magicians:\n",
    "print(magician)"
   ]
  },
  {
   "cell_type": "code",
   "execution_count": 21,
   "id": "58127c7e",
   "metadata": {},
   "outputs": [
    {
     "ename": "IndentationError",
     "evalue": "unexpected indent (2495908521.py, line 2)",
     "output_type": "error",
     "traceback": [
      "\u001b[1;36m  File \u001b[1;32m\"C:\\Users\\Phanindra Reddy\\AppData\\Local\\Temp\\ipykernel_35336\\2495908521.py\"\u001b[1;36m, line \u001b[1;32m2\u001b[0m\n\u001b[1;33m    print(message)\u001b[0m\n\u001b[1;37m    ^\u001b[0m\n\u001b[1;31mIndentationError\u001b[0m\u001b[1;31m:\u001b[0m unexpected indent\n"
     ]
    }
   ],
   "source": [
    "message = \"Hello Python world!\"\n",
    "    print(message)\n",
    "# We don’t need to indent the print statement, because it doesn’t belong to the line above it; hence, Python reports that error:"
   ]
  },
  {
   "cell_type": "code",
   "execution_count": 22,
   "id": "a8c02965",
   "metadata": {},
   "outputs": [
    {
     "name": "stdout",
     "output_type": "stream",
     "text": [
      "1\n",
      "2\n",
      "3\n",
      "4\n"
     ]
    }
   ],
   "source": [
    "# Using the range() Function\n",
    "# Python’s range() function makes it easy to generate a series of numbers. \n",
    "# For example, you can use the range() function to print a series of numbers like this:\n",
    "for value in range(1,5):\n",
    " print(value)"
   ]
  },
  {
   "cell_type": "raw",
   "id": "31970fad",
   "metadata": {},
   "source": [
    "The range() function causes Python to start counting at the first value you give it, and it stops when it reaches the second value you provide. \n",
    "Because it stops at that second value, the output never contains the end value, which would have been 5 in this case."
   ]
  },
  {
   "cell_type": "markdown",
   "id": "01aaeefb",
   "metadata": {},
   "source": [
    "#### Using range() to Make a List of Numbers\n",
    "1. If you want to make a list of numbers, you can convert the results of range() directly into a list using the list() function.\n",
    "2. When you wrap list() around a call to the range() function, the output will be a list of numbers"
   ]
  },
  {
   "cell_type": "code",
   "execution_count": 24,
   "id": "a3023457",
   "metadata": {},
   "outputs": [
    {
     "name": "stdout",
     "output_type": "stream",
     "text": [
      "[1, 2, 3, 4, 5, 6, 7, 8, 9, 10, 11, 12, 13, 14, 15, 16, 17, 18, 19, 20, 21, 22, 23, 24, 25, 26, 27, 28, 29, 30, 31, 32, 33, 34, 35, 36, 37, 38, 39, 40, 41, 42, 43, 44, 45, 46, 47, 48, 49, 50]\n"
     ]
    }
   ],
   "source": [
    "a= list(range(1,51))\n",
    "print(a)"
   ]
  },
  {
   "cell_type": "code",
   "execution_count": 25,
   "id": "e4c02437",
   "metadata": {},
   "outputs": [
    {
     "name": "stdout",
     "output_type": "stream",
     "text": [
      "[2, 4, 6, 8, 10]\n"
     ]
    }
   ],
   "source": [
    "even_numbers = list(range(2,11,2)) \n",
    "print(even_numbers)"
   ]
  },
  {
   "cell_type": "raw",
   "id": "cd5cf6e7",
   "metadata": {},
   "source": [
    "In this example, the range() function starts with the value 2 and then adds 2 to that value.\n",
    "It adds 2 repeatedly until it reaches or passes the end value, 11, and produces above result."
   ]
  },
  {
   "cell_type": "code",
   "execution_count": 26,
   "id": "8b0f4332",
   "metadata": {},
   "outputs": [
    {
     "name": "stdout",
     "output_type": "stream",
     "text": [
      "[1, 4, 9, 16, 25, 36, 49, 64, 81, 100]\n"
     ]
    }
   ],
   "source": [
    "squares = []\n",
    "for value in range(1,11):\n",
    " squares.append(value**2)\n",
    "print(squares)"
   ]
  },
  {
   "cell_type": "raw",
   "id": "9fcff2cf",
   "metadata": {},
   "source": [
    "List Comprehensions:\n",
    "The approach described earlier for generating the list squares consisted of using three or four lines of code. \n",
    "A list comprehension allows you to generate this same list in just one line of code.\n",
    "A list comprehension combines the for loop and the creation of new elements into one line, and automatically appends each new element."
   ]
  },
  {
   "cell_type": "code",
   "execution_count": 27,
   "id": "1c740cbf",
   "metadata": {},
   "outputs": [
    {
     "name": "stdout",
     "output_type": "stream",
     "text": [
      "[1, 4, 9, 16, 25, 36, 49, 64, 81, 100]\n"
     ]
    }
   ],
   "source": [
    "squares = [value**2 for value in range(1,11)] # since it automatically appends no need to give the append here.\n",
    "print(squares)"
   ]
  },
  {
   "cell_type": "raw",
   "id": "f6032ef4",
   "metadata": {},
   "source": [
    "Slicing a List\n",
    "To make a slice, you specify the index of the first and last elements you want to work with.\n",
    "As with the range() function, Python stops one item before the second index you specify.\n",
    "If you omit the first index in a slice, Python automatically starts your slice at the beginning of the list.\n"
   ]
  },
  {
   "cell_type": "raw",
   "id": "17b4c7df",
   "metadata": {},
   "source": [
    "if we want to output the last three players on the roster, we can use the slice as players[-3:].\n",
    "You can use a slice in a for loop if you want to loop through a subset of `rthe elements in a list. "
   ]
  },
  {
   "cell_type": "code",
   "execution_count": 5,
   "id": "4652e259",
   "metadata": {},
   "outputs": [
    {
     "name": "stdout",
     "output_type": "stream",
     "text": [
      "Here are the first three players on my team:\n",
      "['charles', 'martina', 'michael']\n",
      "Charles\n",
      "Martina\n",
      "Michael\n"
     ]
    }
   ],
   "source": [
    "players = ['charles', 'martina', 'michael', 'florence', 'eli'] \n",
    "print(\"Here are the first three players on my team:\")\n",
    "print(players[:3])\n",
    "for player in players[:3]:\n",
    "    print(player.title())"
   ]
  },
  {
   "cell_type": "raw",
   "id": "4c85cb0e",
   "metadata": {},
   "source": [
    "Slices are very useful in a number of situations.\n",
    "For instance, when you’re creating a game, you could add a player’s final score to a list every time that player finishes playing. \n",
    "You could then get a player’s top three scores by sorting the list in decreasing order and taking a slice that includes just the first three scores"
   ]
  },
  {
   "cell_type": "raw",
   "id": "c57a7afa",
   "metadata": {},
   "source": [
    "Copying a List:\n",
    "To copy a list, you can make a slice that includes the entire original list by omitting the first index and the second index ([:]). Both will be separate lists only.a new copy will be created.\n",
    "# changing one element in one copy/list doesn't affect the another list\n",
    "This tells Python to make a slice that starts at the first item and ends with the last item, producing a copy of the entire list."
   ]
  },
  {
   "cell_type": "code",
   "execution_count": 8,
   "id": "e08a1c88",
   "metadata": {},
   "outputs": [
    {
     "name": "stdout",
     "output_type": "stream",
     "text": [
      "My favorite foods are:\n",
      "['pizza', 'falafel', 'carrot cake', 'cannoli']\n",
      "\n",
      "My friend's favorite foods are:\n",
      "['pizza', 'falafel', 'carrot cake', 'ice cream']\n"
     ]
    }
   ],
   "source": [
    "my_foods = ['pizza', 'falafel', 'carrot cake'] \n",
    "friend_foods = my_foods[:]\n",
    "my_foods.append('cannoli')\n",
    "friend_foods.append('ice cream')\n",
    "print(\"My favorite foods are:\")\n",
    "print(my_foods)\n",
    "print(\"\\nMy friend's favorite foods are:\")\n",
    "print(friend_foods)"
   ]
  },
  {
   "cell_type": "code",
   "execution_count": 6,
   "id": "a518acb2",
   "metadata": {},
   "outputs": [
    {
     "name": "stdout",
     "output_type": "stream",
     "text": [
      "My favorite foods are:\n",
      "['pizza', 'falafel', 'carrot cake', 'cannoli', 'ice cream']\n",
      "\n",
      "My friend's favorite foods are:\n",
      "['pizza', 'falafel', 'carrot cake', 'cannoli', 'ice cream']\n"
     ]
    }
   ],
   "source": [
    "my_foods = ['pizza', 'falafel', 'carrot cake']\n",
    "# This doesn't work:\n",
    "friend_foods = my_foods\n",
    "my_foods.append('cannoli')\n",
    "friend_foods.append('ice cream')\n",
    "print(\"My favorite foods are:\")\n",
    "print(my_foods)\n",
    "print(\"\\nMy friend's favorite foods are:\")\n",
    "print(friend_foods)"
   ]
  },
  {
   "cell_type": "raw",
   "id": "a7046d71",
   "metadata": {},
   "source": [
    "Tuples\n",
    "Lists work well for storing sets of items that can change throughout the life of a program. \n",
    "The ability to modify lists is particularly important when you’re working with a list of users on a website or a list of characters in a \n",
    "game.\n",
    "However, sometimes you’ll want to create a list of items that cannot change.\n",
    "Tuples allow you to do just that. Python refers to values that cannot change as immutable, and an immutable list is called a tuple."
   ]
  },
  {
   "cell_type": "raw",
   "id": "8a71fb23",
   "metadata": {},
   "source": [
    "Writing over a Tuple\n",
    "Although you can’t modify a tuple, you can assign a new value to a variable that holds a tuple. \n",
    "So if we wanted to change our dimensions, we could redefine the entire tuple:"
   ]
  },
  {
   "cell_type": "code",
   "execution_count": 9,
   "id": "fd3fb365",
   "metadata": {},
   "outputs": [
    {
     "name": "stdout",
     "output_type": "stream",
     "text": [
      "Original dimensions:\n",
      "200\n",
      "50\n",
      "\n",
      "Modified dimensions:\n",
      "400\n",
      "100\n"
     ]
    }
   ],
   "source": [
    "dimensions = (200, 50)\n",
    "print(\"Original dimensions:\")\n",
    "for dimension in dimensions:\n",
    " print(dimension)\n",
    " \n",
    "dimensions = (400, 100)\n",
    "print(\"\\nModified dimensions:\")\n",
    "for dimension in dimensions:\n",
    " print(dimension)"
   ]
  },
  {
   "cell_type": "markdown",
   "id": "20bc8af4",
   "metadata": {},
   "source": [
    "# Chapter-5\n",
    "## If statements"
   ]
  },
  {
   "cell_type": "markdown",
   "id": "8bea2015",
   "metadata": {},
   "source": [
    "1. Programming often involves examining a set of conditions and deciding which action to take based on those conditions. \n",
    "2. Python’s if statement allows you to examine the current state of a program and respond appropriately to that state.\n",
    "3. At the heart of every if statement is an expression that can be evaluated as True or False and is called a conditional test.\n",
    "4. Python uses the values True and False to decide whether the code in an if statement should be executed.\n",
    "5. If a conditional test evaluates to True, Python executes the code following the if statement.\n",
    "6. If the test evaluates to False, Python ignores the code following the if statement."
   ]
  },
  {
   "cell_type": "markdown",
   "id": "0694ac16",
   "metadata": {},
   "source": [
    "#### Using and to Check Multiple Conditions\n",
    "To check whether two conditions are both True simultaneously, use the keyword 'and' to combine the two conditional tests; if each test passes, the over all expression evaluates to True. If either test fails or if both tests fail, the \n",
    "expression evaluates to False."
   ]
  },
  {
   "cell_type": "markdown",
   "id": "97cf7db9",
   "metadata": {},
   "source": [
    "##### Using or to Check Multiple Conditions\n",
    "The keyword or allows you to check multiple conditions as well, but it \n",
    "passes when either or both of the individual tests pass. An or expression \n",
    "fails only when both individual tests fail."
   ]
  },
  {
   "cell_type": "code",
   "execution_count": 1,
   "id": "9dd6f644",
   "metadata": {},
   "outputs": [
    {
     "name": "stdout",
     "output_type": "stream",
     "text": [
      "rocky is powerful\n"
     ]
    }
   ],
   "source": [
    "# To find out whether a particular value is already in a list, use the keyword in.\n",
    "names=[\"indra\",\"hema\",\"srinu\",\"rocky\",\"garuda\"]\n",
    "if \"rocky\" in names:\n",
    "    print(f\"rocky is powerful\")"
   ]
  },
  {
   "cell_type": "code",
   "execution_count": 2,
   "id": "f0aa9fc8",
   "metadata": {},
   "outputs": [
    {
     "data": {
      "text/plain": [
       "True"
      ]
     },
     "execution_count": 2,
     "metadata": {},
     "output_type": "execute_result"
    }
   ],
   "source": [
    "\"garuda\" in names"
   ]
  },
  {
   "cell_type": "markdown",
   "id": "c15975d3",
   "metadata": {},
   "source": [
    "#### if-else Statements\n",
    "1. Often, you’ll want to take one action when a conditional test passes and a different action in all other cases. \n",
    "2. Python’s if-else syntax makes this possible. \n",
    "3. An if-else block is similar to a simple if statement, but the else statement allows you to define an action or set of actions that are executed when the conditional test fails.\n"
   ]
  },
  {
   "cell_type": "raw",
   "id": "bfc8fafe",
   "metadata": {},
   "source": [
    "You can do some interesting work when you combine lists and if statements.\n",
    "You can watch for special values that need to be treated differently than other values in the list. "
   ]
  },
  {
   "cell_type": "code",
   "execution_count": 5,
   "id": "31da66d0",
   "metadata": {},
   "outputs": [
    {
     "name": "stdout",
     "output_type": "stream",
     "text": [
      "False\n"
     ]
    }
   ],
   "source": [
    "requested_toppings = []\n",
    "if requested_toppings:\n",
    "    print(\"True\")\n",
    "else:\n",
    "    print(\"False\")"
   ]
  },
  {
   "cell_type": "code",
   "execution_count": null,
   "id": "de20684e",
   "metadata": {},
   "outputs": [],
   "source": []
  }
 ],
 "metadata": {
  "kernelspec": {
   "display_name": "Python 3 (ipykernel)",
   "language": "python",
   "name": "python3"
  },
  "language_info": {
   "codemirror_mode": {
    "name": "ipython",
    "version": 3
   },
   "file_extension": ".py",
   "mimetype": "text/x-python",
   "name": "python",
   "nbconvert_exporter": "python",
   "pygments_lexer": "ipython3",
   "version": "3.9.13"
  }
 },
 "nbformat": 4,
 "nbformat_minor": 5
}
