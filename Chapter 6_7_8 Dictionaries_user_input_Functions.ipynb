{
 "cells": [
  {
   "cell_type": "markdown",
   "id": "ffdda6ea",
   "metadata": {},
   "source": [
    "# Chapter -6\n",
    "## Dictionaries"
   ]
  },
  {
   "cell_type": "markdown",
   "id": "996811ac",
   "metadata": {},
   "source": [
    "### Delete Scrap from mind.... Don't think about unnecessary things\n",
    "### MOOD .. START WITH THE EASY AND LIKED SUBJECT\n",
    "#### UNDERSTAND ALL THE TOPICS CLEARLY\n",
    "#### REVISE ALL THE TOPICS BACK ATLEAST 3 TIMES \n",
    "#### HIGHLY FOCUSSED\n",
    "#####  JUST FOCUS ON THE CURRENT TASK.. JUST OBSERVE... DON'T SIMPLY STUDY..\n",
    "### BE A DISCIPLINED GUY.\n"
   ]
  },
  {
   "cell_type": "markdown",
   "id": "bcb8e5fa",
   "metadata": {},
   "source": [
    "# KYLIAN MBAPPE"
   ]
  },
  {
   "cell_type": "markdown",
   "id": "7738495e",
   "metadata": {},
   "source": [
    "## Countless hours of practice\n",
    "## Dedication\n",
    "## Lot of Sacrifices\n",
    "# Hard work is must.\n",
    "## Beleive in yourself...start now and keep moving forward"
   ]
  },
  {
   "cell_type": "markdown",
   "id": "4812e1d1",
   "metadata": {},
   "source": [
    "## Every sacrifice will pay off."
   ]
  },
  {
   "cell_type": "markdown",
   "id": "7d1a6c5a",
   "metadata": {},
   "source": [
    "## Don't afraid of change."
   ]
  },
  {
   "cell_type": "markdown",
   "id": "1d91c0eb",
   "metadata": {},
   "source": [
    "## Your life is just beginning."
   ]
  },
  {
   "cell_type": "raw",
   "id": "92a6c5de",
   "metadata": {},
   "source": [
    "Understanding dictionaries allows you to model a variety of real-world objects more accurately.\n",
    "You’ll be able to create a dictionary representing a person and then store as much information as you want about that person. \n",
    "You can store their name, age, location, profession, and any other aspect of a person you can describe.\n",
    "You’ll be able to store any two kinds of information that can be matched up, such as a list of words and their meanings, a list of people’s names and their favorite numbers, a list of mountains and their elevations, and so forth."
   ]
  },
  {
   "cell_type": "markdown",
   "id": "a6be2f6c",
   "metadata": {},
   "source": [
    "### Working with Dictionaries\n",
    "1. A dictionary in Python is a collection of key-value pairs.\n",
    "2. Each key is connected to a value, and you can use a key to access the value associated with that key. \n",
    "3. A key’s value can be a number, a string, a list, or even another dictionary. \n",
    "4. In fact, you can use any object that you can create in Python as a value in a dictionary.\n",
    "5. In Python, a dictionary is wrapped in braces, {}, with a series of key\u0002value pairs inside the braces."
   ]
  },
  {
   "cell_type": "code",
   "execution_count": 1,
   "id": "b04a9554",
   "metadata": {},
   "outputs": [
    {
     "name": "stdout",
     "output_type": "stream",
     "text": [
      "indra\n",
      "21\n"
     ]
    }
   ],
   "source": [
    "stud1={\"name\":\"indra\",\"age\":21}\n",
    "print(stud1[\"name\"])\n",
    "print(stud1[\"age\"])"
   ]
  },
  {
   "cell_type": "raw",
   "id": "03398e12",
   "metadata": {},
   "source": [
    "A key-value pair is a set of values associated with each other.\n",
    "When you provide a key, Python returns the value associated with that key. \n",
    "Every key is connected to its value by a colon, and individual key-value pairs are separated by commas. \n",
    "You can store as many key-value pairs as you want in a dictionary.\n",
    "The simplest dictionary has exactly one key-value pair.\n",
    "To get the value associated with a key, give the name of the dictionary and then place the key inside a set of square brackets."
   ]
  },
  {
   "cell_type": "markdown",
   "id": "7ac2f219",
   "metadata": {},
   "source": [
    "1. The order of the key-value pairs does not match the order in which we added them.\n",
    "2. Python doesn’t care about the order in which you store each key-value pair; it cares only about the connection between each key and its value."
   ]
  },
  {
   "cell_type": "markdown",
   "id": "ca6fa055",
   "metadata": {},
   "source": [
    "### Adding New Key-Value Pairs\n",
    "1. Dictionaries are dynamic structures, and you can add new key-value pairs to a dictionary at any time.\n",
    "2. For example, to add a new key-value pair, you would give the name of the dictionary followed by the new key in square brackets along with the new value."
   ]
  },
  {
   "cell_type": "code",
   "execution_count": 2,
   "id": "42c277d6",
   "metadata": {},
   "outputs": [],
   "source": [
    "stud1[\"height\"]=160\n",
    "stud1[\"class\"]=12"
   ]
  },
  {
   "cell_type": "code",
   "execution_count": 3,
   "id": "ac5e52cd",
   "metadata": {},
   "outputs": [
    {
     "data": {
      "text/plain": [
       "{'name': 'indra', 'age': 21, 'height': 160, 'class': 12}"
      ]
     },
     "execution_count": 3,
     "metadata": {},
     "output_type": "execute_result"
    }
   ],
   "source": [
    "stud1"
   ]
  },
  {
   "cell_type": "markdown",
   "id": "0caadb88",
   "metadata": {},
   "source": [
    "#### Modifying Values in a Dictionary:\n",
    "To modify a value in a dictionary, give the name of the dictionary with the key in square brackets and then the new value you want associated with \n",
    "that key"
   ]
  },
  {
   "cell_type": "code",
   "execution_count": 4,
   "id": "78588052",
   "metadata": {},
   "outputs": [
    {
     "name": "stdout",
     "output_type": "stream",
     "text": [
      "{'name': 'indra', 'age': 17, 'height': 160, 'class': 12}\n"
     ]
    }
   ],
   "source": [
    "stud1[\"age\"]=17\n",
    "print(stud1)"
   ]
  },
  {
   "cell_type": "markdown",
   "id": "7e058301",
   "metadata": {},
   "source": [
    "### Removing Key-Value Pairs\n",
    "1. When you no longer need a piece of information that’s stored in a dictionary, you can use the del statement to completely remove a key-value pair. \n",
    "2. All del needs is the name of the dictionary and the key that you want to remove."
   ]
  },
  {
   "cell_type": "code",
   "execution_count": 5,
   "id": "e8f3bf33",
   "metadata": {},
   "outputs": [
    {
     "name": "stdout",
     "output_type": "stream",
     "text": [
      "{'name': 'indra', 'age': 17, 'height': 160}\n"
     ]
    }
   ],
   "source": [
    "del stud1[\"class\"]\n",
    "print(stud1)"
   ]
  },
  {
   "cell_type": "raw",
   "id": "c5d42460",
   "metadata": {},
   "source": [
    "Note : Be aware that the deleted key-value pair is removed permanently. "
   ]
  },
  {
   "cell_type": "code",
   "execution_count": 6,
   "id": "cfac156d",
   "metadata": {},
   "outputs": [
    {
     "name": "stdout",
     "output_type": "stream",
     "text": [
      "Sarah's favorite language is C.\n"
     ]
    }
   ],
   "source": [
    "favorite_languages = {\n",
    "    'jen': 'python',\n",
    "    'sarah': 'c',\n",
    "    'edward': 'ruby',\n",
    "    'phil': 'python',\n",
    " }\n",
    "print(\"Sarah's favorite language is \" +favorite_languages['sarah'].title() + \".\")"
   ]
  },
  {
   "cell_type": "code",
   "execution_count": 14,
   "id": "c1c6a4ad",
   "metadata": {},
   "outputs": [
    {
     "name": "stdout",
     "output_type": "stream",
     "text": [
      "jen python\n",
      "sarah c\n",
      "edward ruby\n",
      "phil python\n"
     ]
    }
   ],
   "source": [
    "favorite_languages = {\n",
    "    'jen': 'python',\n",
    "    'sarah': 'c',\n",
    "    'edward': 'ruby',\n",
    "    'phil': 'python',\n",
    " }\n",
    "for i,j in favorite_languages.items():\n",
    "    print(i,j)"
   ]
  },
  {
   "cell_type": "markdown",
   "id": "561755ff",
   "metadata": {},
   "source": [
    "1. The keys() method is useful when you don’t need to work with all of the values in a dictionary.\n",
    "2. The keys() method isn’t just for looping: It actually returns a list of all the keys"
   ]
  },
  {
   "cell_type": "code",
   "execution_count": 17,
   "id": "d1ba0bbc",
   "metadata": {},
   "outputs": [
    {
     "name": "stdout",
     "output_type": "stream",
     "text": [
      "jen\n",
      "sarah\n",
      "edward\n",
      "phil\n"
     ]
    }
   ],
   "source": [
    "favorite_languages = {\n",
    "    'jen': 'python',\n",
    "    'sarah': 'c',\n",
    "    'edward': 'ruby',\n",
    "    'phil': 'python',\n",
    " }\n",
    "for i in favorite_languages.keys():\n",
    "    print(i)"
   ]
  },
  {
   "cell_type": "code",
   "execution_count": 18,
   "id": "53bcde6b",
   "metadata": {},
   "outputs": [
    {
     "name": "stdout",
     "output_type": "stream",
     "text": [
      "jen\n",
      "sarah\n",
      "edward\n",
      "phil\n"
     ]
    }
   ],
   "source": [
    "# Looping through the keys is actually the default behavior when looping \n",
    "# through a dictionary, so this code would have exactly the same output if you wrote . . . \n",
    "favorite_languages = {\n",
    "    'jen': 'python',\n",
    "    'sarah': 'c',\n",
    "    'edward': 'ruby',\n",
    "    'phil': 'python',\n",
    " }\n",
    "for i in favorite_languages: # we can aslo simply give like this.\n",
    "    print(i)"
   ]
  },
  {
   "cell_type": "code",
   "execution_count": 20,
   "id": "c5476ef5",
   "metadata": {},
   "outputs": [
    {
     "name": "stdout",
     "output_type": "stream",
     "text": [
      "python\n",
      "c\n",
      "ruby\n",
      "python\n"
     ]
    }
   ],
   "source": [
    "favorite_languages = {\n",
    "    'jen': 'python',\n",
    "    'sarah': 'c',\n",
    "    'edward': 'ruby',\n",
    "    'phil': 'python',\n",
    " }\n",
    "for i in favorite_languages: # we can also simply give like this.\n",
    "    print(favorite_languages[i])"
   ]
  },
  {
   "cell_type": "markdown",
   "id": "73621b1d",
   "metadata": {},
   "source": [
    "### Looping Through All Values in a Dictionary\n",
    "If you are primarily interested in the values that a dictionary contains, you can use the values() method to return a list of values without any keys. "
   ]
  },
  {
   "cell_type": "code",
   "execution_count": 22,
   "id": "b0b550f8",
   "metadata": {},
   "outputs": [
    {
     "name": "stdout",
     "output_type": "stream",
     "text": [
      "The following languages have been mentioned:\n",
      "Python\n",
      "C\n",
      "Ruby\n",
      "Python\n"
     ]
    }
   ],
   "source": [
    "favorite_languages = {\n",
    " 'jen': 'python',\n",
    " 'sarah': 'c',\n",
    " 'edward': 'ruby',\n",
    " 'phil': 'python',\n",
    " }\n",
    "print(\"The following languages have been mentioned:\")\n",
    "for language in favorite_languages.values():\n",
    "    print(language.title())"
   ]
  },
  {
   "cell_type": "raw",
   "id": "ecd4b408",
   "metadata": {},
   "source": [
    "This approach pulls all the values from the dictionary without checking for repeats. \n",
    "That might work fine with a small number of values, but in a poll with a large number of respondents, this would result in a very repetitive list.\n",
    "To see each language chosen without repetition, we can use a set. \n",
    "A set is similar to a list except that each item in the set must be unique:"
   ]
  },
  {
   "cell_type": "code",
   "execution_count": 23,
   "id": "9f3515bc",
   "metadata": {},
   "outputs": [
    {
     "name": "stdout",
     "output_type": "stream",
     "text": [
      "The following languages have been mentioned:\n",
      "Ruby\n",
      "Python\n",
      "C\n"
     ]
    }
   ],
   "source": [
    "favorite_languages = {\n",
    " 'jen': 'python',\n",
    " 'sarah': 'c',\n",
    " 'edward': 'ruby',\n",
    " 'phil': 'python',\n",
    " }\n",
    "print(\"The following languages have been mentioned:\")\n",
    "for language in set(favorite_languages.values()):\n",
    "    print(language.title())"
   ]
  },
  {
   "cell_type": "raw",
   "id": "13250960",
   "metadata": {},
   "source": [
    "When you wrap set() around a list that contains duplicate items, Python identifies the unique items in the list and builds a set from those items."
   ]
  },
  {
   "cell_type": "markdown",
   "id": "37fee50e",
   "metadata": {},
   "source": [
    "### Looping Through a Dictionary’s Keys in Order\n",
    "1. A dictionary always maintains a clear connection between each key and its associated value, but you never get the items from a dictionary in any predictable order.\n",
    "2. That’s not a problem, because you’ll usually just want to obtain the correct value associated with each key.\n",
    "3. One way to return items in a certain order is to sort the keys as they’re returned in the for loop.\n",
    "4. You can use the sorted() function to get a copy of the keys in order."
   ]
  },
  {
   "cell_type": "code",
   "execution_count": 25,
   "id": "415312b7",
   "metadata": {},
   "outputs": [
    {
     "name": "stdout",
     "output_type": "stream",
     "text": [
      "The following languages have been mentioned:\n",
      "C\n",
      "Java\n",
      "Python\n",
      "Ruby\n"
     ]
    }
   ],
   "source": [
    "favorite_languages = {\n",
    " 'jen': 'python',\n",
    " 'sarah': 'c',\n",
    " 'edward': 'ruby',\n",
    " 'phil': 'java',\n",
    " }\n",
    "print(\"The following languages have been mentioned:\")\n",
    "for language in sorted(favorite_languages.values()):\n",
    "    print(language.title())"
   ]
  },
  {
   "cell_type": "markdown",
   "id": "c1407ad4",
   "metadata": {},
   "source": [
    "### Nesting\n",
    "1. Sometimes you’ll want to store a set of dictionaries in a list or a list of items as a value in a dictionary.\n",
    "2. This is called nesting.\n",
    "3. You can nest a set of dictionaries inside a list, a list of items inside a dictionary, or even a dictionary inside another dictionary. Nesting is a powerful feature"
   ]
  },
  {
   "cell_type": "code",
   "execution_count": 26,
   "id": "8eccb9e2",
   "metadata": {},
   "outputs": [
    {
     "name": "stdout",
     "output_type": "stream",
     "text": [
      "{'color': 'green', 'points': 5}\n",
      "{'color': 'yellow', 'points': 10}\n",
      "{'color': 'red', 'points': 15}\n"
     ]
    }
   ],
   "source": [
    "alien_0 = {'color': 'green', 'points': 5}\n",
    "alien_1 = {'color': 'yellow', 'points': 10}\n",
    "alien_2 = {'color': 'red', 'points': 15}\n",
    "aliens = [alien_0, alien_1, alien_2]\n",
    "for alien in aliens:\n",
    " print(alien)"
   ]
  },
  {
   "cell_type": "raw",
   "id": "4dff1117",
   "metadata": {},
   "source": [
    "A more realistic example would involve more than three aliens with code that automatically generates each alien.\n",
    "In the following example we use range() to create a fleet of 30 aliens:"
   ]
  },
  {
   "cell_type": "code",
   "execution_count": 29,
   "id": "a4be07db",
   "metadata": {},
   "outputs": [
    {
     "name": "stdout",
     "output_type": "stream",
     "text": [
      "{'color': 'green', 'points': 5, 'speed': 'slow'}\n",
      "{'color': 'green', 'points': 5, 'speed': 'slow'}\n",
      "{'color': 'green', 'points': 5, 'speed': 'slow'}\n",
      "{'color': 'green', 'points': 5, 'speed': 'slow'}\n",
      "{'color': 'green', 'points': 5, 'speed': 'slow'}\n",
      "...\n",
      "Total number of aliens: 30\n"
     ]
    }
   ],
   "source": [
    "# Make an empty list for storing aliens.\n",
    "aliens = []\n",
    "# Make 30 green aliens.\n",
    "for alien_number in range(30):\n",
    "    new_alien = {'color': 'green', 'points': 5, 'speed': 'slow'}\n",
    "    aliens.append(new_alien)\n",
    " \n",
    "# Show the first 5 aliens:\n",
    "for alien in aliens[:5]:\n",
    " print(alien)\n",
    "print(\"...\")\n",
    "#Show how many aliens have been created.\n",
    "print(\"Total number of aliens: \" + str(len(aliens)))\n"
   ]
  },
  {
   "cell_type": "code",
   "execution_count": 33,
   "id": "d79c2811",
   "metadata": {},
   "outputs": [
    {
     "name": "stdout",
     "output_type": "stream",
     "text": [
      "Jen's favorite languages are:\n",
      "Python\n",
      "Ruby\n",
      "Sarah's favorite languages are:\n",
      "C\n",
      "Edward's favorite languages are:\n",
      "Ruby\n",
      "Go\n",
      "Phil's favorite languages are:\n",
      "Python\n",
      "Haskell\n"
     ]
    }
   ],
   "source": [
    "favorite_languages = {\n",
    " 'jen': ['python', 'ruby'],\n",
    " 'sarah': ['c'],\n",
    " 'edward': ['ruby', 'go'],\n",
    " 'phil': ['python', 'haskell'],\n",
    " }\n",
    "for name, languages in favorite_languages.items():\n",
    "    print( name.title() + \"'s favorite languages are:\")\n",
    "    for language in languages:\n",
    "        print(language.title())"
   ]
  },
  {
   "cell_type": "code",
   "execution_count": 34,
   "id": "daf22091",
   "metadata": {},
   "outputs": [
    {
     "name": "stdout",
     "output_type": "stream",
     "text": [
      "Indra\n",
      "jaya\n",
      "hema\n",
      "simha\n",
      "rocky\n"
     ]
    }
   ],
   "source": [
    "section={\"room_no\":10,\"names\":[\"Indra\",\"jaya\",\"hema\",\"simha\",\"rocky\"],\"marks\":\"pass\"}\n",
    "for j in section[\"names\"]:\n",
    "    print(j)"
   ]
  },
  {
   "cell_type": "markdown",
   "id": "7b8b6b57",
   "metadata": {},
   "source": [
    "### A Dictionary in a Dictionary\n",
    "1. You can nest a dictionary inside another dictionary, but your code can get complicated quickly when you do.\n",
    "2. For example, if you have several users for a website, each with a unique username, you can use the usernames as the keys in a dictionary.\n",
    "3. You can then store information about each user by using a dictionary as the value associated with their username."
   ]
  },
  {
   "cell_type": "code",
   "execution_count": 38,
   "id": "de355764",
   "metadata": {},
   "outputs": [
    {
     "name": "stdout",
     "output_type": "stream",
     "text": [
      "\n",
      "Username: aeinstein\n",
      "\tFull name: Albert Einstein\n",
      "\tLocation: Princeton\n",
      "\n",
      "Username: mcurie\n",
      "\tFull name: Marie Curie\n",
      "\tLocation: Paris\n"
     ]
    }
   ],
   "source": [
    "users = {\n",
    " 'aeinstein': {\n",
    " 'first': 'albert',\n",
    " 'last': 'einstein',\n",
    " 'location': 'princeton',\n",
    " },\n",
    "'mcurie': {\n",
    " 'first': 'marie',\n",
    " 'last': 'curie',\n",
    " 'location': 'paris',\n",
    " },\n",
    " }\n",
    "for username, user_info in users.items():\n",
    "  print(\"\\nUsername: \" + username)\n",
    "  full_name = user_info['first'] + \" \" + user_info['last']\n",
    "  location = user_info['location']\n",
    "  print(\"\\tFull name: \" + full_name.title())\n",
    "  print(\"\\tLocation: \" + location.title())"
   ]
  },
  {
   "cell_type": "markdown",
   "id": "79cd1762",
   "metadata": {},
   "source": [
    "## Chapter-7\n",
    "### User Input and while loops"
   ]
  },
  {
   "cell_type": "markdown",
   "id": "18666ab9",
   "metadata": {},
   "source": [
    "# Become the champion you want to be\n",
    "## Train Hard\n",
    "## Miracles will happen\n",
    "## Dreams do come true\n",
    "## Hard work and Persistence will set you free from the shackles of Poverty."
   ]
  },
  {
   "cell_type": "raw",
   "id": "307dadb4",
   "metadata": {},
   "source": [
    "Most programs are written to solve an end user’s problem.\n",
    "To do so, you usually need to get some information from the user.\n",
    "With the ability to work with user input and the ability to control how long your programs run, you’ll be able to write fully interactive programs"
   ]
  },
  {
   "cell_type": "markdown",
   "id": "f0157b6f",
   "metadata": {},
   "source": [
    "## How the input() Function Works\n",
    "1. The input() function pauses your program and waits for the user to enter some text. \n",
    "2. Once Python receives the user’s input, it stores it in a variable to make it convenient for you to work with."
   ]
  },
  {
   "cell_type": "code",
   "execution_count": 1,
   "id": "49f23e7e",
   "metadata": {},
   "outputs": [
    {
     "name": "stdout",
     "output_type": "stream",
     "text": [
      "Tell me something, and I will repeat it back to you: Hi Lucky\n",
      "Hi Lucky\n"
     ]
    }
   ],
   "source": [
    "message = input(\"Tell me something, and I will repeat it back to you: \")\n",
    "print(message)"
   ]
  },
  {
   "cell_type": "raw",
   "id": "b1c71a9b",
   "metadata": {},
   "source": [
    "The input() function takes one argument: the prompt, or instructions, that we want to display to the user so they know what to do.\n",
    "In this example, when Python runs the first line, the user sees the prompt Tell me something, and I will repeat it back to you: \n",
    "    \n",
    "The program waits while the user enters their response and continues after the user presses enter.\n",
    "The response is stored in the variable message, then print(message) displays the input back to the user:"
   ]
  },
  {
   "cell_type": "raw",
   "id": "3e53e9d1",
   "metadata": {},
   "source": [
    "Sometimes you’ll want to write a prompt that’s longer than one line.\n",
    "For example, you might want to tell the user why you’re asking for certain input. \n",
    "\n",
    "You can store your prompt in a variable and pass that variable to the input()function.\n",
    "This allows you to build your prompt over several lines, then write a clean input() statement."
   ]
  },
  {
   "cell_type": "code",
   "execution_count": 2,
   "id": "de2009f5",
   "metadata": {},
   "outputs": [
    {
     "name": "stdout",
     "output_type": "stream",
     "text": [
      "If you tell us who you are, we can personalize the messages you see.\n",
      "What is your first name? INdra\n",
      "\n",
      "Hello, INdra!\n"
     ]
    }
   ],
   "source": [
    "prompt = \"If you tell us who you are, we can personalize the messages you see.\"\n",
    "prompt += \"\\nWhat is your first name? \"\n",
    "name = input(prompt)\n",
    "print(\"\\nHello, \" + name + \"!\")"
   ]
  },
  {
   "cell_type": "code",
   "execution_count": 3,
   "id": "43f439e8",
   "metadata": {},
   "outputs": [],
   "source": [
    "prompt=\"\"\"\n",
    " pls tell your name\n",
    " else i will go away!\"\"\""
   ]
  },
  {
   "cell_type": "code",
   "execution_count": 4,
   "id": "0b7bd0b6",
   "metadata": {},
   "outputs": [
    {
     "name": "stdout",
     "output_type": "stream",
     "text": [
      "\n",
      " pls tell your name\n",
      " else i will go away!indrasena\n",
      "indrasena\n"
     ]
    }
   ],
   "source": [
    "name=input(prompt)\n",
    "print(name)"
   ]
  },
  {
   "cell_type": "markdown",
   "id": "7525ed43",
   "metadata": {},
   "source": [
    "## Introducing while Loops\n",
    "1. The for loop takes a collection of items and executes a block of code once for each item in the collection.\n",
    "2. In contrast, the while loop runs as long as, or while, a certain condition is true. \n",
    "3. You can use a while loop to count up through a series of numbers."
   ]
  },
  {
   "cell_type": "code",
   "execution_count": 5,
   "id": "c6d2f944",
   "metadata": {},
   "outputs": [
    {
     "name": "stdout",
     "output_type": "stream",
     "text": [
      "1\n",
      "2\n",
      "3\n",
      "4\n",
      "5\n",
      "6\n",
      "7\n",
      "8\n",
      "9\n",
      "10\n"
     ]
    }
   ],
   "source": [
    "i=1\n",
    "while i<=10:\n",
    "    print(i)\n",
    "    i=i+1"
   ]
  },
  {
   "cell_type": "raw",
   "id": "ba6199f8",
   "metadata": {},
   "source": [
    "The programs you use every day most likely contain while loops.\n",
    "For example, a game needs a while loop to keep running as long as you want to keep playing, and so it can stop running as soon as you ask it to quit. \n",
    "Programs wouldn’t be fun to use if they stopped running before we told them to or kept running even after we wanted to quit, so while loops are quite useful."
   ]
  },
  {
   "cell_type": "markdown",
   "id": "167b1d56",
   "metadata": {},
   "source": [
    "### Letting the User Choose When to Quit"
   ]
  },
  {
   "cell_type": "raw",
   "id": "5c42cde9",
   "metadata": {},
   "source": [
    "We can make the program run as long as the user wants by putting most of the program inside a while loop.\n",
    "We’ll define a quit value and then keep the program running as long as the user has not entered the quit value:"
   ]
  },
  {
   "cell_type": "code",
   "execution_count": 1,
   "id": "c8bff7b0",
   "metadata": {},
   "outputs": [
    {
     "name": "stdout",
     "output_type": "stream",
     "text": [
      "please enter your msg here: india\n",
      "india\n",
      "please enter your msg here: lucky\n",
      "lucky\n",
      "please enter your msg here: phani\n",
      "phani\n",
      "please enter your msg here: sena\n",
      "sena\n",
      "please enter your msg here: quit\n",
      "quit\n"
     ]
    }
   ],
   "source": [
    "msg=\"\"\n",
    "while True:\n",
    "    if msg==\"quit\":\n",
    "        break\n",
    "    msg=input(\"please enter your msg here: \")\n",
    "    print(msg)"
   ]
  },
  {
   "cell_type": "code",
   "execution_count": 3,
   "id": "db296c28",
   "metadata": {},
   "outputs": [
    {
     "name": "stdout",
     "output_type": "stream",
     "text": [
      "please enter here: india\n",
      "india\n",
      "please enter here: mahi\n",
      "mahi\n",
      "please enter here: lucky\n",
      "lucky\n",
      "please enter here: raja\n",
      "raja\n",
      "please enter here: quit\n",
      "quit\n"
     ]
    }
   ],
   "source": [
    "#We define message as an empty string, \"\", so Python has something to check the first time it reaches the while line. \n",
    "message = \"\"\n",
    "while message != 'quit':\n",
    " message = input(\"please enter here: \")\n",
    " print(message)"
   ]
  },
  {
   "cell_type": "raw",
   "id": "ddc1ffab",
   "metadata": {},
   "source": [
    "This program works well, except that it prints the word 'quit' as if it were an actual message.\n",
    "A simple if test fixes this:"
   ]
  },
  {
   "cell_type": "code",
   "execution_count": 1,
   "id": "2dedfd4f",
   "metadata": {},
   "outputs": [
    {
     "name": "stdout",
     "output_type": "stream",
     "text": [
      "please enter here: india\n",
      "india\n",
      "please enter here: bharat\n",
      "bharat\n",
      "please enter here: swamy vivekananda\n",
      "swamy vivekananda\n",
      "please enter here: quit\n"
     ]
    }
   ],
   "source": [
    "message = \"\"\n",
    "while message != 'quit':\n",
    " message = input(\"please enter here: \")\n",
    " if message !=\"quit\":\n",
    "    print(message)"
   ]
  },
  {
   "cell_type": "markdown",
   "id": "3b9bd629",
   "metadata": {},
   "source": [
    "### Using a Flag"
   ]
  },
  {
   "cell_type": "raw",
   "id": "58a4e1c5",
   "metadata": {},
   "source": [
    "In the previous example, we had the program perform certain tasks while a given condition was true.\n",
    "But what about more complicated programs in which many different events could cause the program to stop running?\n",
    "For example, in a game, several different events can end the game. \n",
    "When the player runs out of ships, their time runs out, or the cities they were supposed to protect are all destroyed, the game should end. \n",
    "It needs to end if any one of these events happens. \n",
    "If many possible events might occur to stop the program, trying to test all these conditions in one whilestatement becomes complicated and difficult."
   ]
  },
  {
   "cell_type": "raw",
   "id": "2cfa324d",
   "metadata": {},
   "source": [
    "For a program that should run only as long as many conditions are true, you can define one variable that determines whether or not the entire program is active.\n",
    "This variable, called a flag, acts as a signal to the program. We \n",
    "can write our programs so they run while the flag is set to True and stop running when any of several events sets the value of the flag to False. \n",
    "As a result, our overall while statement needs to check only one condition: whether or not the flag is currently True.\n",
    "Then, all our other tests (to see if an event has occurred that should set the flag to False) can be neatly organized in the rest of the program.\n",
    "This flag, which we’ll call active (though you can call it anything), will monitor whether or not the program should continue running."
   ]
  },
  {
   "cell_type": "code",
   "execution_count": 4,
   "id": "0d7a091f",
   "metadata": {},
   "outputs": [
    {
     "name": "stdout",
     "output_type": "stream",
     "text": [
      "pls enter: india\n",
      "india\n",
      "pls enter: mahi\n",
      "mahi\n",
      "pls enter: raja\n",
      "raja\n",
      "pls enter: quit\n"
     ]
    }
   ],
   "source": [
    "active = True\n",
    "while active:\n",
    " message = input(\"pls enter: \")\n",
    " if message == 'quit':\n",
    "     active = False\n",
    " else:\n",
    "     print(message)\n"
   ]
  },
  {
   "cell_type": "code",
   "execution_count": 5,
   "id": "f978fd73",
   "metadata": {},
   "outputs": [
    {
     "name": "stdout",
     "output_type": "stream",
     "text": [
      "pls enter: india\n",
      "india\n",
      "pls enter: Quit\n"
     ]
    }
   ],
   "source": [
    "active = True\n",
    "while active:\n",
    " message = input(\"pls enter: \")\n",
    " if message == 'quit':\n",
    "     active = False\n",
    " elif message==\"Quit\":\n",
    "    active=False\n",
    " else:\n",
    "     print(message)\n"
   ]
  },
  {
   "cell_type": "raw",
   "id": "634106ee",
   "metadata": {},
   "source": [
    "This program has the same output as the previous example where we placed the conditional test directly in the while statement.\n",
    "But now that we have a flag to indicate whether the overall program is in an active state, it would be easy to add more tests (such as elif statements) for events that should cause active to become False.\n",
    "This is useful in complicated programs like games in which there may be many events that should each make the program stop running. \n",
    "When any of these events causes the active flag to become False, the main game loop will exit, a Game Over message can be displayed, and the player can be given the option to play again."
   ]
  },
  {
   "cell_type": "raw",
   "id": "92f43572",
   "metadata": {},
   "source": [
    "### Using break to Exit a Loop\n",
    "1. To exit a while loop immediately without running any remaining code in the loop, regardless of the results of any conditional test, use the break statement. \n",
    "The break statement directs the flow of your program; you can use it to control which lines of code are executed and which aren’t, so the program only executes code that you want it to, when you want it to. "
   ]
  },
  {
   "cell_type": "code",
   "execution_count": 6,
   "id": "8c69f0ac",
   "metadata": {},
   "outputs": [
    {
     "name": "stdout",
     "output_type": "stream",
     "text": [
      "Please enter the city name: kadapa\n",
      "I'd love to go to Kadapa!\n",
      "Please enter the city name: hyderabad\n",
      "I'd love to go to Hyderabad!\n",
      "Please enter the city name: kochi\n",
      "I'd love to go to Kochi!\n",
      "Please enter the city name: quit\n"
     ]
    }
   ],
   "source": [
    "while True:\n",
    " city = input(\"Please enter the city name: \")\n",
    " if city == 'quit':\n",
    "     break\n",
    " else:\n",
    "     print(\"I'd love to go to \" + city.title() + \"!\")"
   ]
  },
  {
   "cell_type": "raw",
   "id": "a1621fde",
   "metadata": {},
   "source": [
    "A loop that starts with while True will run forever unless it reaches a break statement.\n",
    "The loop in this program continues asking the user to enter the names of cities they’ve been to until they enter 'quit'.\n",
    "When they enter 'quit', the break statement runs, causing Python to exit the loop"
   ]
  },
  {
   "cell_type": "markdown",
   "id": "94145b7d",
   "metadata": {},
   "source": [
    "### Using continue in a Loop\n",
    "1. Rather than breaking out of a loop entirely without executing the rest of its code, you can use the continue statement to return to the beginning of the loop based on the result of a conditional test.\n",
    "2. For example, consider a loop that counts from 1 to 10 but prints only the odd numbers in that range:"
   ]
  },
  {
   "cell_type": "code",
   "execution_count": 3,
   "id": "05d0fec7",
   "metadata": {},
   "outputs": [
    {
     "name": "stdout",
     "output_type": "stream",
     "text": [
      "1\n",
      "3\n",
      "5\n",
      "7\n",
      "9\n"
     ]
    }
   ],
   "source": [
    "i=0\n",
    "while i<10:\n",
    "    i=i+1\n",
    "    if i%2!=0:\n",
    "        print(i)\n",
    "    else:\n",
    "        continue\n",
    "        "
   ]
  },
  {
   "cell_type": "code",
   "execution_count": 4,
   "id": "7cebf0f1",
   "metadata": {},
   "outputs": [
    {
     "name": "stdout",
     "output_type": "stream",
     "text": [
      "1\n",
      "3\n",
      "5\n",
      "7\n",
      "9\n"
     ]
    }
   ],
   "source": [
    "current_number = 0\n",
    "while current_number < 10:\n",
    "    current_number += 1\n",
    "    if current_number % 2 == 0:\n",
    "        continue\n",
    "    print(current_number)"
   ]
  },
  {
   "cell_type": "markdown",
   "id": "a9dd9981",
   "metadata": {},
   "source": [
    "### Talk less and work more\n",
    "### Trace your mistakes\n",
    "### Achieve high morale to do something to the world.\n",
    "### Ignition of heart to awake inner strength.\n",
    "### Put yourself to work and you will find such tremendous power coming to you .\n",
    "### even the least work done for others awakens the power within you.\n",
    "#### Effort is Inevitable.\n",
    "\n"
   ]
  },
  {
   "cell_type": "markdown",
   "id": "b4e581a5",
   "metadata": {},
   "source": [
    "### Avoiding Infinite Loops\n",
    "Every while loop needs a way to stop running so it won’t continue to run forever."
   ]
  },
  {
   "cell_type": "raw",
   "id": "c1cd7bef",
   "metadata": {},
   "source": [
    "# This loop runs forever!\n",
    "x = 1\n",
    "while x <= 5:\n",
    "    print(x)"
   ]
  },
  {
   "cell_type": "raw",
   "id": "60e4ed78",
   "metadata": {},
   "source": [
    "To avoid writing infinite loops, test every while loop and make sure the loop stops when you expect it to.\n",
    "If you want your program to end when the user enters a certain input value, run the program and enter that value.\n",
    "If the program doesn’t end, scrutinize the way your program handles the value that should cause the loop to exit. \n",
    "Make sure at least one part of the program can make the loop’s condition False or cause it to reach a break statement.\n",
    "Every programmer accidentally writes an infinite while loop from time to time, especially when a program’s loops have subtle exit conditions.\n",
    "If your program gets stuck in an infinite loop, press ctrl-C or just close the terminal window displaying your program’s output. "
   ]
  },
  {
   "cell_type": "markdown",
   "id": "1496f5d9",
   "metadata": {},
   "source": [
    "### Using a while Loop with Lists and Dictionaries"
   ]
  },
  {
   "cell_type": "raw",
   "id": "e1049a5e",
   "metadata": {},
   "source": [
    "To keep track of many users and pieces of information, we’ll need to use lists and dictionaries with our while loops.\n",
    "A for loop is effective for looping through a list, but you shouldn’t modify a list inside a for loop because Python will have trouble keeping track of the items in the list. \n",
    "To modify a list as you work through it, use a while loop. \n",
    "Using while loops with lists and dictionaries allows you to collect, store, and organize lots of input to examine and report on later."
   ]
  },
  {
   "cell_type": "code",
   "execution_count": null,
   "id": "3c7a2016",
   "metadata": {},
   "outputs": [],
   "source": [
    "Moving Items from One List to Another\n",
    "Consider a list of newly registered but unverified users of a website. After \n",
    "we verify these users, how can we move them to a separate list of confirmed \n",
    "users? One way would be to use a while loop to pull users from the list of \n",
    "unconfirmed users as we verify them and then add them to a separate list of \n",
    "confirmed users. "
   ]
  },
  {
   "cell_type": "code",
   "execution_count": 9,
   "id": "90a924e4",
   "metadata": {},
   "outputs": [
    {
     "name": "stdout",
     "output_type": "stream",
     "text": [
      "Verifying user: Lakshmi\n",
      "Verifying user: Raja\n",
      "Verifying user: Mahi\n",
      "Verifying user: Indra\n",
      "\n",
      "The following users have been confirmed:\n",
      "Lakshmi\n",
      "Raja\n",
      "Mahi\n",
      "Indra\n"
     ]
    }
   ],
   "source": [
    "# Start with users that need to be verified,  and an empty list to hold confirmed users.\n",
    "unconfirmed_users = ['indra','mahi','raja','lakshmi']\n",
    "confirmed_users = []\n",
    "# Verify each user until there are no more unconfirmed users.\n",
    "# Move each verified user into the list of confirmed users.\n",
    "while unconfirmed_users:\n",
    "    current_user = unconfirmed_users.pop()\n",
    "    print(\"Verifying user: \" + current_user.title())\n",
    "    confirmed_users.append(current_user)\n",
    "# Display all confirmed users.\n",
    "print(\"\\nThe following users have been confirmed:\")\n",
    "for confirmed_user in confirmed_users:\n",
    " print((confirmed_user.title()))"
   ]
  },
  {
   "cell_type": "raw",
   "id": "9531613a",
   "metadata": {},
   "source": [
    "The while loop runs as long as the list unconfirmed_users is not empty.\n",
    "Within this loop, the pop() function removes unverified users one at a time from the end of unconfirmed_users.\n",
    "When the list of unconfirmed users is empty, the loop stops and the list of confirmed users is printed."
   ]
  },
  {
   "cell_type": "markdown",
   "id": "0fb24af2",
   "metadata": {},
   "source": [
    "### Removing All Instances of Specific Values from a List\n",
    "1. We used remove() to remove a specific value from a list.\n",
    "2. The remove() function worked because the value we were interested in appeared only once in the list.\n",
    "3. But what if you want to remove all instances of a value from a list?\n",
    "4. Say you have a list of values with the value 5 repeated several times.\n",
    "5. To remove all instances of that value, you can run a while loop until 5 is no longer in the list, as shown here:"
   ]
  },
  {
   "cell_type": "code",
   "execution_count": 10,
   "id": "3466fa1b",
   "metadata": {},
   "outputs": [
    {
     "name": "stdout",
     "output_type": "stream",
     "text": [
      "[2, 3, 4, 3, 4, 7, 8, 9, 6, 7, 42, 1, 45, 76, 56, 68, 9]\n"
     ]
    }
   ],
   "source": [
    "l1=[2,3,4,5,3,4,7,8,9,5,6,7,42,1,45,76,56,5,5,5,68,9,5]\n",
    "while 5 in l1:\n",
    "    l1.remove(5)\n",
    "print(l1)"
   ]
  },
  {
   "cell_type": "raw",
   "id": "15415f07",
   "metadata": {},
   "source": [
    "Once inside the loop, Python removes the first instance of 5, returns to the while line, and then reenters the loop when it finds that 5 is still in the list. \n",
    "It removes each instance of 5 until the value is no longer in the list, at which point Python exits the loop and prints the list again."
   ]
  },
  {
   "cell_type": "code",
   "execution_count": 12,
   "id": "3f9dc37d",
   "metadata": {},
   "outputs": [
    {
     "name": "stdout",
     "output_type": "stream",
     "text": [
      "[2, 3, 4, 5, 3, 4, 7, 8, 9, 5, 6, 7, 42, 20, 30, 40, 30, 1, 45, 76, 56, 5, 5, 5, 68, 9, 5]\n"
     ]
    }
   ],
   "source": [
    "l1=[2,3,4,5,3,4,7,8,9,10,5,6,7,42,10,20,30,10,40,10,30,10,1,45,76,56,5,5,5,68,9,5]\n",
    "a=10\n",
    "while a in l1:\n",
    "    l1.remove(a)\n",
    "print(l1)"
   ]
  },
  {
   "cell_type": "markdown",
   "id": "f30ceebf",
   "metadata": {},
   "source": [
    "### Filling a Dictionary with User Input:\n",
    "    \n",
    "1. You can prompt for as much input as you need in each pass through a whileloop.\n",
    "2. Let’s make a polling program in which each pass through the loop prompts for the participant’s name and response. We’ll store the data we gather in a dictionary, because we want to connect each response with a particular user."
   ]
  },
  {
   "cell_type": "code",
   "execution_count": 15,
   "id": "171d7eb3",
   "metadata": {},
   "outputs": [
    {
     "name": "stdout",
     "output_type": "stream",
     "text": [
      "\n",
      "What is your name? indra\n",
      "Which mountain would you like to climb someday? palalondalu\n",
      "Would you like to let another person respond? (yes/ no) yes\n",
      "\n",
      "What is your name? mahi\n",
      "Which mountain would you like to climb someday? mount kilimanjaro\n",
      "Would you like to let another person respond? (yes/ no) no\n",
      "\n",
      "--- Poll Results ---\n",
      "indra would like to climb palalondalu.\n",
      "mahi would like to climb mount kilimanjaro.\n"
     ]
    }
   ],
   "source": [
    "responses = {}\n",
    "# Set a flag to indicate that polling is active.\n",
    "polling_active = True\n",
    "while polling_active:  \n",
    " # Prompt for the person's name and response.\n",
    "   name = input(\"\\nWhat is your name? \")\n",
    "   response = input(\"Which mountain would you like to climb someday? \")\n",
    " # Store the response in the dictionary:\n",
    "   responses[name] = response\n",
    " # Find out if anyone else is going to take the poll.\n",
    "   repeat = input(\"Would you like to let another person respond? (yes/ no) \")\n",
    "   if repeat == 'no':\n",
    "     polling_active = False\n",
    " \n",
    "# Polling is complete. Show the results.\n",
    "print(\"\\n--- Poll Results ---\")\n",
    "for name, response in responses.items():\n",
    " print(name + \" would like to climb \" + response + \".\")"
   ]
  },
  {
   "cell_type": "raw",
   "id": "b08f71c1",
   "metadata": {},
   "source": [
    "The program first defines an empty dictionary (responses) and sets a flag (polling_active) to indicate that polling is active.\n",
    "As long as polling_active is True, Python will run the code in the while loop. \n",
    "Within the loop, the user is prompted to enter their username and a mountain they’d like to climb.\n",
    "That information is stored in the responses dictionary, and the user is asked whether or not to keep the poll running .\n",
    "If they enter yes, the program enters the while loop again.\n",
    "If they enter no, the polling_active flag is set to False, the while loop stops running, and the final code block displays the results of the poll"
   ]
  },
  {
   "cell_type": "markdown",
   "id": "1fafff4f",
   "metadata": {},
   "source": [
    "# Be a DISCIPLINED student first.\n",
    "## Strength, wit and pratice\n",
    "# Wake up early. 4:30 AM.\n",
    "## EAT BEFORE 8 PM AND GO TO SLEEP AT 8:30 PM\n",
    "## Exercise or yoga\n",
    "## Healthy Diet\n",
    "## Practice and Hard work.. \n",
    "### Always focus on Goal ,never let it disappear .you will definitely achieve your GOAL"
   ]
  },
  {
   "cell_type": "markdown",
   "id": "28e2a647",
   "metadata": {},
   "source": [
    "## Chapter-8\n",
    "# Functions"
   ]
  },
  {
   "cell_type": "raw",
   "id": "20eeff33",
   "metadata": {},
   "source": [
    "Functions are named blocks of code that are designed to do one specific job. \n",
    "When you want to perform a particular task that you’ve defined in a function, you call the name of the function responsible for it. \n",
    "If you need to perform that task multiple times throughout your program, you don’t need to type all the code for the same task again and again; \n",
    "you just call the function dedicated to handling that task, and the call tells Python to run the code inside the function. \n",
    "You’ll find that using functions makes your programs easier to write, read, test, and fix."
   ]
  },
  {
   "cell_type": "raw",
   "id": "7484d9b6",
   "metadata": {},
   "source": [
    "The keyword def  informs Python that you’re defining a function.\n",
    "This is the function definition, which tells Python the name of the function and, if applicable, what kind of information the function needs to do its job.\n",
    "Finally, the definition ends in a colon."
   ]
  },
  {
   "cell_type": "code",
   "execution_count": 2,
   "id": "4cca436b",
   "metadata": {},
   "outputs": [
    {
     "name": "stdout",
     "output_type": "stream",
     "text": [
      "Hello!\n"
     ]
    }
   ],
   "source": [
    "def greet_user():\n",
    " \"\"\"Display a simple greeting.\"\"\"\n",
    " print(\"Hello!\")\n",
    " \n",
    "greet_user()"
   ]
  },
  {
   "cell_type": "raw",
   "id": "11ef54f4",
   "metadata": {},
   "source": [
    "Any indented lines that follow def greet_user(): make up the body of the function. \n",
    "The text at line 2 is a comment called a docstring, which describes what the function does. \n",
    "Docstrings are enclosed in triple quotes, which Python looks for when it generates documentation for the functions in your programs. "
   ]
  },
  {
   "cell_type": "raw",
   "id": "09fb62bf",
   "metadata": {},
   "source": [
    "When you want to use this function, you call it. \n",
    "A function call tells Python to execute the code in the function.\n",
    "To call a function, you write the name of the function, followed by any necessary information in parentheses."
   ]
  },
  {
   "cell_type": "markdown",
   "id": "514d2441",
   "metadata": {},
   "source": [
    "## Passing Information to a Function"
   ]
  },
  {
   "cell_type": "markdown",
   "id": "20cfaee5",
   "metadata": {},
   "source": [
    "1. Modified slightly, the function greet_user() can not only tell the user Hello! but also greet them by name. \n",
    "2. For the function to do this, you enter username in the parentheses of the function’s definition at def greet_user().\n",
    "3. By adding username here you allow the function to accept any value of username you specify. \n",
    "4. The function now expects you to provide a value for username each time you call it.\n",
    "5. When you call greet_user(), you can pass it a name, such as 'jesse', inside the parentheses."
   ]
  },
  {
   "cell_type": "code",
   "execution_count": 4,
   "id": "919d2dbc",
   "metadata": {},
   "outputs": [
    {
     "name": "stdout",
     "output_type": "stream",
     "text": [
      "Hello, Jesse!\n"
     ]
    }
   ],
   "source": [
    "def greet_user(username):\n",
    " \"\"\"Display a simple greeting.\"\"\"\n",
    " print(\"Hello, \" + username.title() + \"!\")\n",
    " \n",
    "greet_user('jesse')"
   ]
  },
  {
   "cell_type": "code",
   "execution_count": 9,
   "id": "3f26ea97",
   "metadata": {},
   "outputs": [
    {
     "name": "stdout",
     "output_type": "stream",
     "text": [
      "my name is: indra\n"
     ]
    }
   ],
   "source": [
    "def name(n): # here n is called as parameter \n",
    "    print(\"my name is: \"+n)\n",
    "name(\"indra\") # here \"indra\" is reffered to as Argument."
   ]
  },
  {
   "cell_type": "raw",
   "id": "a3b8f670",
   "metadata": {},
   "source": [
    "The variable username in the definition of greet_user() is an example of a parameter, a piece of information the function needs to do its job. \n",
    "The value 'indra' in greet_user('indra') is an example of an argument.\n",
    "An argument is a piece of information that is passed from a function call to a function. \n",
    "When we call the function, we place the value we want the function to work with in parentheses.\n",
    "In this case the argument 'indra' was passed to the function greet_user(), and the value was stored in the parameter username."
   ]
  },
  {
   "cell_type": "markdown",
   "id": "61bb93b7",
   "metadata": {},
   "source": [
    "## Passing Arguments"
   ]
  },
  {
   "cell_type": "raw",
   "id": "e20c641b",
   "metadata": {},
   "source": [
    "Because a function definition can have multiple parameters, a function call may need multiple arguments. \n",
    "You can pass arguments to your functions in a number of ways. \n",
    "You can use positional arguments, which need to be in the same order the parameters were written; keyword arguments, where each \n",
    "argument consists of a variable name and a value; and lists and dictionaries of values."
   ]
  },
  {
   "cell_type": "raw",
   "id": "5836338e",
   "metadata": {},
   "source": [
    "When you call a function, Python must match each argument in the function call with a parameter in the function definition. \n",
    "The simplest way to do this is based on the order of the arguments provided.\n",
    "Values matched up this way are called positional arguments."
   ]
  },
  {
   "cell_type": "code",
   "execution_count": 10,
   "id": "e404f035",
   "metadata": {},
   "outputs": [
    {
     "name": "stdout",
     "output_type": "stream",
     "text": [
      "\n",
      "I have a hamster.\n",
      "My hamster's name is Harry.\n"
     ]
    }
   ],
   "source": [
    "def describe_pet(animal_type, pet_name):\n",
    " \"\"\"Display information about a pet.\"\"\"\n",
    " print(\"\\nI have a \" + animal_type + \".\")\n",
    " print(\"My \" + animal_type + \"'s name is \" + pet_name.title() + \".\")\n",
    " \n",
    "describe_pet('hamster', 'harry')"
   ]
  },
  {
   "cell_type": "raw",
   "id": "2cbcfc95",
   "metadata": {},
   "source": [
    "You can use as many positional arguments as you need in your functions. \n",
    "Python works through the arguments you provide when calling the function and matches each one with the corresponding parameter in the function’s definition."
   ]
  },
  {
   "cell_type": "code",
   "execution_count": 11,
   "id": "cdd4b7f6",
   "metadata": {},
   "outputs": [
    {
     "name": "stdout",
     "output_type": "stream",
     "text": [
      "\n",
      "I have a hamster.\n",
      "My hamster's name is Harry.\n",
      "\n",
      "I have a lobster.\n",
      "My lobster's name is Jimmy.\n"
     ]
    }
   ],
   "source": [
    "def describe_pet(animal_type, pet_name):\n",
    " \"\"\"Display information about a pet.\"\"\"\n",
    " print(\"\\nI have a \" + animal_type + \".\")\n",
    " print(\"My \" + animal_type + \"'s name is \" + pet_name.title() + \".\")\n",
    " \n",
    "describe_pet('hamster', 'harry')\n",
    "describe_pet('lobster', 'jimmy')"
   ]
  },
  {
   "cell_type": "raw",
   "id": "a6a89a9a",
   "metadata": {},
   "source": [
    "Order Matters in Positional Arguments\n",
    "You can get unexpected results if you mix up the order of the arguments in a function call when using positional arguments.\n",
    "make sure that the order we are passing is correct or else we get wrong results."
   ]
  },
  {
   "cell_type": "code",
   "execution_count": 13,
   "id": "619fb66d",
   "metadata": {},
   "outputs": [
    {
     "name": "stdout",
     "output_type": "stream",
     "text": [
      "Full name is: Reddy Indrasena\n"
     ]
    }
   ],
   "source": [
    "# see below we are passing the order of names in the wrong way. so we get wrong results.\n",
    "# so order matters while we are using the positional arguments.\n",
    "def colg(first_name,last_name):\n",
    "    print(\"Full name is: \"+first_name+\" \"+last_name)\n",
    "colg(\"Reddy\",\"Indrasena\")"
   ]
  },
  {
   "cell_type": "markdown",
   "id": "e6131d19",
   "metadata": {},
   "source": [
    "### Keyword Arguments\n",
    "1. A keyword argument is a name-value pair that you pass to a function. You directly associate the name and the value within the argument, so when you pass the argument to the function, there’s no confusion (you won’t end up with a harry named Hamster).\n",
    "2. Keyword arguments free you from having to worry about correctly ordering your arguments in the function call, and they clarify the role of each value in the function call."
   ]
  },
  {
   "cell_type": "code",
   "execution_count": 14,
   "id": "cfbccf94",
   "metadata": {},
   "outputs": [
    {
     "name": "stdout",
     "output_type": "stream",
     "text": [
      "Full name is: Indrasena Reddy\n"
     ]
    }
   ],
   "source": [
    "def colg(first_name,last_name):\n",
    "    print(\"Full name is: \"+first_name+\" \"+last_name)\n",
    "colg(last_name=\"Reddy\",first_name=\"Indrasena\")"
   ]
  },
  {
   "cell_type": "raw",
   "id": "617c746a",
   "metadata": {},
   "source": [
    "The function colg hasn’t changed. But when we call the function, we explicitly tell Python which parameter each argument should be matched with.\n",
    "When Python reads the function call, it knows to store the argument 'Reddy' in the parameter last_name and the argument 'Indrasena' in first_name. \n",
    "The order of keyword arguments doesn’t matter because Python knows where each value should go."
   ]
  },
  {
   "cell_type": "markdown",
   "id": "f605a8cb",
   "metadata": {},
   "source": [
    "## Default Values"
   ]
  },
  {
   "cell_type": "markdown",
   "id": "da7206f6",
   "metadata": {},
   "source": [
    "1. When writing a function, you can define a default value for each parameter. \n",
    "2. If an argument for a parameter is provided in the function call, Python uses the argument value.\n",
    "3. If not, it uses the parameter’s default value.\n",
    "4. So when you define a default value for a parameter, you can exclude the corresponding argument you’d usually write in the function call. \n",
    "5. Using default values can simplify your function calls and clarify the ways in which your functions are typically used."
   ]
  },
  {
   "cell_type": "code",
   "execution_count": 2,
   "id": "62edc26a",
   "metadata": {},
   "outputs": [
    {
     "name": "stdout",
     "output_type": "stream",
     "text": [
      "Full name is: Indrasena Reddy\n"
     ]
    }
   ],
   "source": [
    "# for example we can give default value for last_name as \"Reddy\" in the function definition.\n",
    "# if we don't mention  last value in function call, then \"Reddy\" is taken as default value.\n",
    "def name(first_name,last_name=\"Reddy\"):\n",
    "    print(\"Full name is: \"+first_name+\" \"+last_name)\n",
    "name(\"Indrasena\")\n",
    "# Because no argument is provided for last_name, Python uses the default value 'Reddy'."
   ]
  },
  {
   "cell_type": "code",
   "execution_count": 3,
   "id": "f72c3c35",
   "metadata": {},
   "outputs": [
    {
     "name": "stdout",
     "output_type": "stream",
     "text": [
      "Full name is: Indrasena Swamiji\n"
     ]
    }
   ],
   "source": [
    "def name(first_name,last_name=\"Reddy\"):\n",
    "    print(\"Full name is: \"+first_name+\" \"+last_name)\n",
    "name(\"Indrasena\",\"Swamiji\") # since Swamiji is given here, so last_name will hold this value."
   ]
  },
  {
   "cell_type": "raw",
   "id": "804fd5b9",
   "metadata": {},
   "source": [
    "#### Note that the order of the parameters in the function definition had to be changed.\n",
    "Because the default value makes it unnecessary to specify a type of last_name as an argument, the only argument left in the function call is the first_name.\n",
    "Python still interprets this as a positional argument, so if the function is called with just first_name, that argument will match up with the first parameter listed in the function’s definition.\n",
    "This is the reason the first parameter needs to be first_name."
   ]
  },
  {
   "cell_type": "code",
   "execution_count": 4,
   "id": "bed7e96d",
   "metadata": {},
   "outputs": [
    {
     "ename": "SyntaxError",
     "evalue": "non-default argument follows default argument (1126491448.py, line 1)",
     "output_type": "error",
     "traceback": [
      "\u001b[1;36m  File \u001b[1;32m\"C:\\Users\\Phanindra Reddy\\AppData\\Local\\Temp\\ipykernel_38592\\1126491448.py\"\u001b[1;36m, line \u001b[1;32m1\u001b[0m\n\u001b[1;33m    def name(last_name=\"Reddy\",first_name):\u001b[0m\n\u001b[1;37m                                         ^\u001b[0m\n\u001b[1;31mSyntaxError\u001b[0m\u001b[1;31m:\u001b[0m non-default argument follows default argument\n"
     ]
    }
   ],
   "source": [
    "def name(last_name=\"Reddy\",first_name):\n",
    "    print(\"Full name is: \"+first_name+\" \"+last_name)\n",
    "name(\"Indrasena\")"
   ]
  },
  {
   "cell_type": "markdown",
   "id": "9118abee",
   "metadata": {},
   "source": [
    " ***When you use default values, any parameter with a default value needs to be listed after all the parameters that don’t have default values.\n",
    "This allows Python to continue interpreting positional arguments correctly."
   ]
  },
  {
   "cell_type": "code",
   "execution_count": 5,
   "id": "fdd95762",
   "metadata": {},
   "outputs": [
    {
     "name": "stdout",
     "output_type": "stream",
     "text": [
      "Full name is: Phanindra Gowda\n"
     ]
    }
   ],
   "source": [
    "name(last_name=\"Gowda\",first_name=\"Phanindra\")\n",
    "#Because an explicit argument for both names are provided, Python will ignore the parameter’s default value."
   ]
  },
  {
   "cell_type": "code",
   "execution_count": 7,
   "id": "1913005a",
   "metadata": {},
   "outputs": [
    {
     "ename": "TypeError",
     "evalue": "name() missing 1 required positional argument: 'first_name'",
     "output_type": "error",
     "traceback": [
      "\u001b[1;31m---------------------------------------------------------------------------\u001b[0m",
      "\u001b[1;31mTypeError\u001b[0m                                 Traceback (most recent call last)",
      "\u001b[1;32m~\\AppData\\Local\\Temp\\ipykernel_38592\\1313990134.py\u001b[0m in \u001b[0;36m<module>\u001b[1;34m\u001b[0m\n\u001b[0;32m      1\u001b[0m \u001b[1;32mdef\u001b[0m \u001b[0mname\u001b[0m\u001b[1;33m(\u001b[0m\u001b[0mfirst_name\u001b[0m\u001b[1;33m)\u001b[0m\u001b[1;33m:\u001b[0m\u001b[1;33m\u001b[0m\u001b[1;33m\u001b[0m\u001b[0m\n\u001b[0;32m      2\u001b[0m     \u001b[0mprint\u001b[0m\u001b[1;33m(\u001b[0m\u001b[1;34m\"Full name is: \"\u001b[0m\u001b[1;33m+\u001b[0m\u001b[0mfirst_name\u001b[0m\u001b[1;33m+\u001b[0m\u001b[1;34m\" \"\u001b[0m\u001b[1;33m+\u001b[0m\u001b[0mlast_name\u001b[0m\u001b[1;33m)\u001b[0m\u001b[1;33m\u001b[0m\u001b[1;33m\u001b[0m\u001b[0m\n\u001b[1;32m----> 3\u001b[1;33m \u001b[0mname\u001b[0m\u001b[1;33m(\u001b[0m\u001b[1;33m)\u001b[0m\u001b[1;33m\u001b[0m\u001b[1;33m\u001b[0m\u001b[0m\n\u001b[0m",
      "\u001b[1;31mTypeError\u001b[0m: name() missing 1 required positional argument: 'first_name'"
     ]
    }
   ],
   "source": [
    "def name(first_name):\n",
    "    print(\"Full name is: \"+first_name+\" \"+last_name)\n",
    "name()"
   ]
  },
  {
   "cell_type": "raw",
   "id": "4c254e33",
   "metadata": {},
   "source": [
    "Python is helpful in that it reads the function’s code for us and tells us the names of the arguments we need to provide. \n",
    "This is another motivation for giving your variables and functions descriptive names.\n",
    "If you do, Python’s error messages will be more useful to you and anyone else who might use your code."
   ]
  },
  {
   "cell_type": "markdown",
   "id": "ddb74d79",
   "metadata": {},
   "source": [
    "## Return Values\n",
    "1. A function doesn’t always have to display its output directly. \n",
    "2. Instead, it can process some data and then return a value or set of values. \n",
    "3. The value the function returns is called a return value.\n",
    "4. The return statement takes a value from inside a function and sends it back to the line that called the function. \n",
    "5. Return values allow you to move much of your program’s grunt work into functions, which can simplify the body of your program.\n"
   ]
  },
  {
   "cell_type": "raw",
   "id": "9d467b37",
   "metadata": {},
   "source": [
    "When you call a function that returns a value, you need to provide a variable where the return value can be stored. "
   ]
  },
  {
   "cell_type": "code",
   "execution_count": 11,
   "id": "6325cc61",
   "metadata": {},
   "outputs": [
    {
     "name": "stdout",
     "output_type": "stream",
     "text": [
      "Full name is:Indrasena Reddy\n"
     ]
    }
   ],
   "source": [
    "def name(first_name,last_name):\n",
    "    return (\"Full name is:\")+ ((first_name+\" \"+last_name).title())\n",
    "name1=name(\"Indrasena\",\"reddy\")\n",
    "print(name1)"
   ]
  },
  {
   "cell_type": "code",
   "execution_count": 14,
   "id": "36b743ab",
   "metadata": {},
   "outputs": [
    {
     "name": "stdout",
     "output_type": "stream",
     "text": [
      "Indrasena Reddy\n"
     ]
    }
   ],
   "source": [
    " # simply  we can give like this to understand much more clearly.\n",
    "def name(first_name,last_name):\n",
    "# \"\"\"Return a full name, neatly formatted.\"\"\"\n",
    "  full_name = first_name + ' ' + last_name\n",
    "  return full_name.title()\n",
    "name1=name(\"Indrasena\",\"reddy\")\n",
    "print(name1)"
   ]
  },
  {
   "cell_type": "markdown",
   "id": "619807b8",
   "metadata": {},
   "source": [
    "## Making an Argument Optional\n",
    "1. Sometimes it makes sense to make an argument optional so that people using the function can choose to provide extra information only if they want to. \n",
    "2. You can use default values to make an argument optional."
   ]
  },
  {
   "cell_type": "raw",
   "id": "d7e03dff",
   "metadata": {},
   "source": [
    "Sometimes middle names aren’t always needed in a full name.It is optional.\n",
    "To make the middle name optional, we can give the middle_name argument an empty default value and ignore the argument unless the user provides a value.\n",
    "To make get_formatted_name() work without a middle name, we set the default value of middle_name to an empty string and move it to the end of the list of parameters."
   ]
  },
  {
   "cell_type": "code",
   "execution_count": 15,
   "id": "abfed0e4",
   "metadata": {},
   "outputs": [
    {
     "name": "stdout",
     "output_type": "stream",
     "text": [
      "Jimi Hendrix\n",
      "John Lee Hooker\n"
     ]
    }
   ],
   "source": [
    "def get_formatted_name(first_name, last_name, middle_name=''):\n",
    "    if middle_name:  #Python interprets non-empty strings as True\n",
    "        full_name = first_name + ' ' + middle_name + ' ' + last_name\n",
    "    else:\n",
    "        full_name = first_name + ' ' + last_name\n",
    "    return full_name.title()\n",
    "musician = get_formatted_name('jimi', 'hendrix')\n",
    "print(musician)\n",
    "musician = get_formatted_name('john', 'hooker', 'lee')\n",
    "print(musician)\n",
    "# If we’re using a middle name, however, we have to make sure the middle name is the last argument passed so Python will match up the positional arguments correctly"
   ]
  },
  {
   "cell_type": "markdown",
   "id": "f2bba78f",
   "metadata": {},
   "source": [
    "## Returning a Dictionary"
   ]
  },
  {
   "cell_type": "markdown",
   "id": "5ea90bf1",
   "metadata": {},
   "source": [
    "1. A function can return any kind of value you need it to, including more complicated data structures like lists and dictionaries"
   ]
  },
  {
   "cell_type": "code",
   "execution_count": 2,
   "id": "de58f7b6",
   "metadata": {},
   "outputs": [
    {
     "name": "stdout",
     "output_type": "stream",
     "text": [
      "{'first': 'srinu', 'last': 'reddy'}\n"
     ]
    }
   ],
   "source": [
    "def info(first_name, last_name):\n",
    "  person = {'first': first_name, 'last': last_name} # packing the values into the dictionary\n",
    "  return person\n",
    "stud1 = info('srinu','reddy')\n",
    "print(stud1)"
   ]
  },
  {
   "cell_type": "code",
   "execution_count": 3,
   "id": "baf727c9",
   "metadata": {},
   "outputs": [
    {
     "name": "stdout",
     "output_type": "stream",
     "text": [
      "{'first': 'srinu', 'last': 'reddy'}\n"
     ]
    }
   ],
   "source": [
    "def info(first_name, last_name):\n",
    "  return {'first': first_name, 'last': last_name} # we can give directly here also.\n",
    "stud1 = info('srinu','reddy')\n",
    "print(stud1)"
   ]
  },
  {
   "cell_type": "code",
   "execution_count": 4,
   "id": "6a5219f9",
   "metadata": {},
   "outputs": [
    {
     "name": "stdout",
     "output_type": "stream",
     "text": [
      "{'first': 'Raja', 'last': 'reddy'}\n"
     ]
    }
   ],
   "source": [
    "stud2 = info('Raja','reddy')\n",
    "print(stud2)"
   ]
  },
  {
   "cell_type": "code",
   "execution_count": 8,
   "id": "1b118d2d",
   "metadata": {},
   "outputs": [
    {
     "name": "stdout",
     "output_type": "stream",
     "text": [
      "{'first': 'jimi', 'last': 'hendrix', 'age': 27}\n"
     ]
    }
   ],
   "source": [
    "# You can easily extend this function to accept optional values like a middle name, an age, an occupation, or any other information you want to store about a person.\n",
    "# For example, the following change allows you to store a person’s age as well:\n",
    "\n",
    "def build_person(first_name, last_name, age=0):\n",
    " \"\"\"Return a dictionary of information about a person.\"\"\"\n",
    " person = {'first': first_name, 'last': last_name}\n",
    " if age:\n",
    "     person['age'] = age\n",
    " return person\n",
    "musician = build_person('jimi', 'hendrix', age=27)\n",
    "print(musician)\n"
   ]
  },
  {
   "cell_type": "code",
   "execution_count": 12,
   "id": "cc5ea722",
   "metadata": {},
   "outputs": [
    {
     "name": "stdout",
     "output_type": "stream",
     "text": [
      "{'first': 'jimi', 'last': 'hendrix'}\n"
     ]
    }
   ],
   "source": [
    "def build_person(first_name, last_name, age=0):\n",
    "    # here we should give age as 0. but if we pass string then \"\" empty string should be kept.\n",
    " \"\"\"Return a dictionary of information about a person.\"\"\"\n",
    " person = {'first': first_name, 'last': last_name}\n",
    " if age:\n",
    "     person['age'] = age # e. If the function call includes a value for this parameter, the value is stored in the dictionary\n",
    " return person\n",
    "musician = build_person('jimi', 'hendrix')\n",
    "print(musician)"
   ]
  },
  {
   "cell_type": "code",
   "execution_count": null,
   "id": "439fd26f",
   "metadata": {},
   "outputs": [],
   "source": [
    "def get_formatted_name(first_name, last_name):\n",
    " \"\"\"Return a full name, neatly formatted.\"\"\"\n",
    " full_name = first_name + ' ' + last_name\n",
    " return full_name.title()\n",
    "# This is an infinite loop!\n",
    "while True:\n",
    " print(\"\\nPlease tell me your name:\")\n",
    " f_name = input(\"First name: \")\n",
    " l_name = input(\"Last name: \")\n",
    " formatted_name = get_formatted_name(f_name, l_name)\n",
    " print(\"\\nHello, \" + formatted_name + \"!\")"
   ]
  },
  {
   "cell_type": "code",
   "execution_count": 2,
   "id": "efc8bfdc",
   "metadata": {},
   "outputs": [
    {
     "name": "stdout",
     "output_type": "stream",
     "text": [
      "\n",
      "Please tell me your name:\n",
      "(enter 'q' at any time to quit)\n",
      "First name: indra\n",
      "Last name: sena\n",
      "\n",
      "Hello, Indra Sena!\n",
      "\n",
      "Please tell me your name:\n",
      "(enter 'q' at any time to quit)\n",
      "First name: raja\n",
      "Last name: q\n"
     ]
    }
   ],
   "source": [
    "# this is an infinite loop. it will keep running forever. so didn't run it here.\n",
    "# we need to come out of this loop. so we need to use break if user enters 'q'\n",
    "def get_formatted_name(first_name, last_name):\n",
    " \"\"\"Return a full name, neatly formatted.\"\"\"\n",
    " full_name = first_name + ' ' + last_name\n",
    " return full_name.title()\n",
    "while True:\n",
    " print(\"\\nPlease tell me your name:\")\n",
    " print(\"(enter 'q' at any time to quit)\")\n",
    " \n",
    " f_name = input(\"First name: \")\n",
    " if f_name == 'q':\n",
    "  break\n",
    " \n",
    " l_name = input(\"Last name: \")\n",
    " if l_name == 'q':\n",
    "  break\n",
    " formatted_name = get_formatted_name(f_name, l_name)\n",
    " print(\"\\nHello, \" + formatted_name + \"!\")"
   ]
  },
  {
   "cell_type": "markdown",
   "id": "fd3c98c0",
   "metadata": {},
   "source": [
    "## Passing a List"
   ]
  },
  {
   "cell_type": "markdown",
   "id": "80d8165a",
   "metadata": {},
   "source": [
    "1. You’ll often find it useful to pass a list to a function, whether it’s a list of names, numbers, or more complex objects, such as dictionaries. \n",
    "2. When you pass a list to a function, the function gets direct access to the contents of the list."
   ]
  },
  {
   "cell_type": "code",
   "execution_count": 6,
   "id": "5e89b88d",
   "metadata": {},
   "outputs": [
    {
     "name": "stdout",
     "output_type": "stream",
     "text": [
      "Hello, Honey!\n",
      "Hello, Sena!\n",
      "Hello, Samar!\n"
     ]
    }
   ],
   "source": [
    "# Say we have a list of users and want to print a greeting to each.\n",
    "# The following example sends a list of names to a function called greet_users(), which greets each person in the list individually:\n",
    "def greet_users(names):\n",
    " \"\"\"Print a simple greeting to each user in the list.\"\"\"\n",
    " for name in names:\n",
    "     msg = \"Hello, \" + name.title() + \"!\"\n",
    "     print(msg)\n",
    "usernames = ['Honey', 'Sena', 'Samar']\n",
    "greet_users(usernames)"
   ]
  },
  {
   "cell_type": "code",
   "execution_count": 7,
   "id": "d9fa6093",
   "metadata": {},
   "outputs": [
    {
     "data": {
      "text/plain": [
       "'Hello, Honey!'"
      ]
     },
     "execution_count": 7,
     "metadata": {},
     "output_type": "execute_result"
    }
   ],
   "source": [
    "def greet_users(names):\n",
    " \"\"\"Print a simple greeting to each user in the list.\"\"\"\n",
    " for name in names:\n",
    "     msg = \"Hello, \" + name.title() + \"!\"\n",
    "     return msg  # we cannot use return here since it will exit the function for the first execution itself.\n",
    "usernames = ['Honey', 'Sena', 'Samar']\n",
    "greet_users(usernames)"
   ]
  },
  {
   "cell_type": "markdown",
   "id": "799def6a",
   "metadata": {},
   "source": [
    "## Modifying a List in a Function"
   ]
  },
  {
   "cell_type": "markdown",
   "id": "75447dd1",
   "metadata": {},
   "source": [
    "1. When you pass a list to a function, the function can modify the list.\n",
    "2. Any changes made to the list inside the function’s body are permanent, allowing you to work efficiently even when you’re dealing with large amounts of data."
   ]
  },
  {
   "cell_type": "code",
   "execution_count": 11,
   "id": "48929ca2",
   "metadata": {},
   "outputs": [
    {
     "name": "stdout",
     "output_type": "stream",
     "text": [
      "['dodecahedron', 'robot pendant', 'iphone case']\n"
     ]
    }
   ],
   "source": [
    "# Consider a company that creates 3D printed models of designs that users submit. \n",
    "# Designs that need to be printed are stored in a list, and after being printed they’re moved to a separate list. \n",
    "# The following code does this without using functions:\n",
    "# Start with some designs that need to be printed.\n",
    "unprinted_designs = ['iphone case', 'robot pendant', 'dodecahedron']\n",
    "completed_models = []\n",
    "# Simulate printing each design, until none are left.\n",
    "# Move each design to completed_models after printing.\n",
    "while unprinted_designs: # this loop will continue until there are no elements present in the list.\n",
    " current_design = unprinted_designs.pop()\n",
    " completed_models.append(current_design)\n",
    "    \n",
    "print(completed_models)"
   ]
  },
  {
   "cell_type": "code",
   "execution_count": 12,
   "id": "ba679448",
   "metadata": {},
   "outputs": [
    {
     "name": "stdout",
     "output_type": "stream",
     "text": [
      "\n",
      "The following models have been printed:\n",
      "dodecahedron\n",
      "robot pendant\n",
      "iphone case\n"
     ]
    }
   ],
   "source": [
    "# We can reorganize this code by writing two functions, each of which does one specific job\n",
    "def print_models(unprinted_designs, completed_models):\n",
    " while unprinted_designs:\n",
    "     current_design = unprinted_designs.pop()\n",
    "     completed_models.append(current_design)\n",
    "def show_completed_models(completed_models):\n",
    " for completed_model in completed_models:\n",
    "     print(completed_model)\n",
    "unprinted_designs = ['iphone case', 'robot pendant', 'dodecahedron']\n",
    "completed_models = []\n",
    "print_models(unprinted_designs, completed_models)\n",
    "show_completed_models(completed_models)"
   ]
  },
  {
   "cell_type": "markdown",
   "id": "6b6483ba",
   "metadata": {},
   "source": [
    "1. This program is easier to extend and maintain than the version without functions. \n",
    "2. If we need to print more designs later on, we can simply call print_models() again. \n",
    "3. If we realize the printing code needs to be modified, we can change the code once, and our changes will take place everywhere the function is called.\n",
    "4. This technique is more efficient than having to update code separately in several places in the program."
   ]
  },
  {
   "cell_type": "markdown",
   "id": "75a516b5",
   "metadata": {},
   "source": [
    "1. If you’re writing a function and notice the function is doing too many different tasks, try to split the code into two functions. \n",
    "2. Remember that you can always call a function from another function, which can be helpful when splitting a complex task into a series of steps."
   ]
  },
  {
   "cell_type": "markdown",
   "id": "528eeb24",
   "metadata": {},
   "source": [
    "## Preventing a Function from Modifying a List\n",
    "1. Sometimes you’ll want to prevent a function from modifying a list.\n",
    "2. you can address this issue by passing the function a copy of the list, not the original.\n",
    "3. Any changes the function makes to the list will affect only the copy, leaving the original list intact.\n",
    "4. You can send a copy of a list to a function like this: function_name(list_name[:])\n",
    "5. The slice notation [:] makes a copy of the list to send to the function. "
   ]
  },
  {
   "cell_type": "code",
   "execution_count": 14,
   "id": "082a301a",
   "metadata": {},
   "outputs": [
    {
     "name": "stdout",
     "output_type": "stream",
     "text": [
      "dodecahedron\n",
      "robot pendant\n",
      "iphone case\n",
      "['iphone case', 'robot pendant', 'dodecahedron']\n"
     ]
    }
   ],
   "source": [
    "# this time it uses a copy of the original unprinted designs list, not the actual unprinted_designs list.\n",
    "def print_models(unprinted_designs, completed_models):\n",
    " while unprinted_designs:\n",
    "     current_design = unprinted_designs.pop()\n",
    "     completed_models.append(current_design)\n",
    "def show_completed_models(completed_models):\n",
    " for completed_model in completed_models:\n",
    "     print(completed_model)\n",
    "unprinted_designs1 = ['iphone case', 'robot pendant', 'dodecahedron']\n",
    "completed_models = []\n",
    "print_models(unprinted_designs1[:], completed_models)\n",
    "\n",
    "show_completed_models(completed_models)\n",
    "print(unprinted_designs1) # see here the original list doesn't changes as we send a copy of elements here."
   ]
  },
  {
   "cell_type": "code",
   "execution_count": 17,
   "id": "27f9bd9d",
   "metadata": {},
   "outputs": [
    {
     "name": "stdout",
     "output_type": "stream",
     "text": [
      "dodecahedron\n",
      "robot pendant\n",
      "iphone case\n",
      "[]\n"
     ]
    }
   ],
   "source": [
    "def print_models(unprinted_designs, completed_models):\n",
    " while unprinted_designs:\n",
    "     current_design = unprinted_designs.pop()\n",
    "     completed_models.append(current_design)\n",
    "def show_completed_models(completed_models):\n",
    " for completed_model in completed_models:\n",
    "     print(completed_model)\n",
    "unprinted_designs1 = ['iphone case', 'robot pendant', 'dodecahedron']\n",
    "completed_models = []\n",
    "print_models(unprinted_designs1, completed_models)\n",
    "show_completed_models(completed_models)\n",
    "print(unprinted_designs1) # since the original list is passed here,we got the empty result."
   ]
  },
  {
   "cell_type": "markdown",
   "id": "1efbcf07",
   "metadata": {},
   "source": [
    "## Passing an Arbitrary Number of Arguments\n",
    "1. Sometimes you won’t know ahead of time how many arguments a function needs to accept. \n",
    "2. Fortunately, Python allows a function to collect an arbitrary number of arguments from the calling statement"
   ]
  },
  {
   "cell_type": "code",
   "execution_count": 18,
   "id": "c4a2c911",
   "metadata": {},
   "outputs": [
    {
     "name": "stdout",
     "output_type": "stream",
     "text": [
      "('pepperoni',)\n",
      "('mushrooms', 'green peppers', 'extra cheese')\n"
     ]
    }
   ],
   "source": [
    "def make_pizza(*toppings): # this will work for any number of arguments.\n",
    " \"\"\"Print the list of toppings that have been requested.\"\"\"\n",
    " print(toppings)\n",
    " \n",
    "make_pizza('pepperoni')\n",
    "make_pizza('mushrooms', 'green peppers', 'extra cheese')"
   ]
  },
  {
   "cell_type": "raw",
   "id": "2377ff29",
   "metadata": {},
   "source": [
    "# The asterisk in the parameter name *toppings tells Python to make an empty tuple called toppings and pack whatever values it receives into this tuple.\n",
    "# The print statement in the function body produces output showing that Python can handle a function call with one value and a  call with three values.\n",
    "# It treats the different calls similarly. \n",
    "# Note that Python packs the arguments into a tuple, even if the function receives only one value."
   ]
  },
  {
   "cell_type": "code",
   "execution_count": 20,
   "id": "e765bce1",
   "metadata": {},
   "outputs": [
    {
     "name": "stdout",
     "output_type": "stream",
     "text": [
      "\n",
      "Making a pizza with the following toppings:\n",
      "- pepperoni\n",
      "\n",
      "Making a pizza with the following toppings:\n",
      "- mushrooms\n",
      "- green peppers\n",
      "- extra cheese\n"
     ]
    }
   ],
   "source": [
    "def make_pizza(*toppings):\n",
    " \"\"\"Summarize the pizza we are about to make.\"\"\"\n",
    " print(\"\\nMaking a pizza with the following toppings:\")\n",
    " for topping in toppings:\n",
    "     print(\"- \" + topping)\n",
    " \n",
    "make_pizza('pepperoni')\n",
    "make_pizza('mushrooms', 'green peppers', 'extra cheese')"
   ]
  },
  {
   "cell_type": "markdown",
   "id": "76fb5a34",
   "metadata": {},
   "source": [
    " **This syntax works no matter how many arguments the function receives."
   ]
  },
  {
   "cell_type": "markdown",
   "id": "cbd82bba",
   "metadata": {},
   "source": [
    "## Mixing Positional and Arbitrary Arguments\n",
    "1. If you want a function to accept several different kinds of arguments, the parameter that accepts an arbitrary number of arguments must be placed last in the function definition.\n",
    "2. Python matches positional and keyword arguments first and then collects any remaining arguments in the final parameter."
   ]
  },
  {
   "cell_type": "code",
   "execution_count": 2,
   "id": "30d65c64",
   "metadata": {},
   "outputs": [
    {
     "name": "stdout",
     "output_type": "stream",
     "text": [
      "\n",
      "Making a 16-inch pizza with the following toppings:\n",
      "- pepperoni\n",
      "\n",
      "Making a 12-inch pizza with the following toppings:\n",
      "- mushrooms\n",
      "- green peppers\n",
      "- extra cheese\n"
     ]
    }
   ],
   "source": [
    "def make_pizza(size, *toppings): \n",
    " \"\"\"Summarize the pizza we are about to make.\"\"\"\n",
    " print(\"\\nMaking a \" + str(size) + \n",
    " \"-inch pizza with the following toppings:\") \n",
    " for topping in toppings: \n",
    "  print(\"- \" + topping) \n",
    " \n",
    "make_pizza(16, 'pepperoni') \n",
    "make_pizza(12, 'mushrooms', 'green peppers', 'extra cheese')"
   ]
  },
  {
   "cell_type": "code",
   "execution_count": 7,
   "id": "bb863a3c",
   "metadata": {},
   "outputs": [
    {
     "ename": "SyntaxError",
     "evalue": "positional argument follows keyword argument (1982344676.py, line 8)",
     "output_type": "error",
     "traceback": [
      "\u001b[1;36m  File \u001b[1;32m\"C:\\Users\\Phanindra Reddy\\AppData\\Local\\Temp\\ipykernel_17964\\1982344676.py\"\u001b[1;36m, line \u001b[1;32m8\u001b[0m\n\u001b[1;33m    make_pizza(pieces=8,size=10,'pepperoni')\u001b[0m\n\u001b[1;37m                                           ^\u001b[0m\n\u001b[1;31mSyntaxError\u001b[0m\u001b[1;31m:\u001b[0m positional argument follows keyword argument\n"
     ]
    }
   ],
   "source": [
    "def make_pizza(size,pieces, *toppings): \n",
    " \"\"\"Summarize the pizza we are about to make.\"\"\"\n",
    " print(\"\\nMaking a \" + str(size) + \n",
    " \"-inch pizza with the following toppings into:\"+str(pieces)+\" pieces.\") \n",
    " for topping in toppings: \n",
    "  print(\"- \" + topping) \n",
    " \n",
    "make_pizza(pieces=8,size=10,'pepperoni') # this will give error since, positional arguments should be placed first.\n",
    "make_pizza(12,5, 'mushrooms', 'green peppers', 'extra cheese')"
   ]
  },
  {
   "cell_type": "markdown",
   "id": "4f782cd7",
   "metadata": {},
   "source": [
    " ***python will first map the positional argument and then any keyword argument if present."
   ]
  },
  {
   "cell_type": "code",
   "execution_count": 10,
   "id": "16ab53c1",
   "metadata": {},
   "outputs": [
    {
     "name": "stdout",
     "output_type": "stream",
     "text": [
      "\n",
      "Making a 12-inch pizza with the following toppings into 5 pieces.\n",
      "- mushrooms\n",
      "- green peppers\n",
      "- extra cheese\n"
     ]
    }
   ],
   "source": [
    "def make_pizza(size,pieces, *toppings): \n",
    " \"\"\"Summarize the pizza we are about to make.\"\"\"\n",
    " print(\"\\nMaking a \" + str(size) + \n",
    " \"-inch pizza with the following toppings into \"+str(pieces)+\" pieces.\") \n",
    " for topping in toppings: \n",
    "  print(\"- \" + topping) \n",
    "make_pizza(12,5, 'mushrooms', 'green peppers', 'extra cheese')"
   ]
  },
  {
   "cell_type": "code",
   "execution_count": 13,
   "id": "a64b0f59",
   "metadata": {},
   "outputs": [
    {
     "name": "stdout",
     "output_type": "stream",
     "text": [
      "first == Geeks\n",
      "mid == for\n",
      "last == Geeks\n"
     ]
    }
   ],
   "source": [
    "def myFun(**kwargs):\n",
    "    for key, value in kwargs.items():\n",
    "        print(\"%s == %s\" % (key, value))\n",
    " \n",
    " \n",
    "# Driver code\n",
    "myFun(first='Geeks', mid='for', last='Geeks')"
   ]
  },
  {
   "cell_type": "markdown",
   "id": "8c82a47d",
   "metadata": {},
   "source": [
    "## Using Arbitrary Keyword Arguments\n",
    "1. Sometimes you’ll want to accept an arbitrary number of arguments, but you won’t know ahead of time what kind of information will be passed to the function. In this case, you can write functions that accept as many key-value pairs as the calling statement provides.\n",
    "2. One example involves building user profiles: you know you’ll get information about a user, but you’re not sure what kind of information you’ll receive. "
   ]
  },
  {
   "cell_type": "code",
   "execution_count": 14,
   "id": "de941744",
   "metadata": {},
   "outputs": [
    {
     "name": "stdout",
     "output_type": "stream",
     "text": [
      "{'first_name': 'albert', 'last_name': 'einstein', 'location': 'princeton', 'field': 'physics'}\n"
     ]
    }
   ],
   "source": [
    "def build_profile(first, last, **user_info):\n",
    " \"\"\"Build a dictionary containing everything we know about a user.\"\"\"\n",
    " profile = {}\n",
    " profile['first_name'] = first\n",
    " profile['last_name'] = last\n",
    " for key, value in user_info.items():\n",
    "     profile[key] = value\n",
    " return profile\n",
    "user_profile = build_profile('albert', 'einstein',\n",
    " location='princeton',\n",
    " field='physics')\n",
    "print(user_profile)"
   ]
  },
  {
   "cell_type": "markdown",
   "id": "157f57f4",
   "metadata": {},
   "source": [
    "1. The double asterisks before the parameter **user_info cause Python to create an empty dictionary called user_info and pack whatever name-value pairs it receives into this dictionary.\n",
    "2. Within the function, you can access the namevalue pairs in user_info just as you would for any dictionary.\n",
    "3. In the body of build_profile(), we make an empty dictionary called profile to hold the user’s profile."
   ]
  },
  {
   "cell_type": "raw",
   "id": "ade9526f",
   "metadata": {},
   "source": [
    "The function would work no matter how many additional key-value pairs are provided in the function call.\n",
    "You can mix positional, keyword, and arbitrary values in many different ways when writing your own functions. \n",
    "It’s useful to know that all these argument types exist because you’ll see them often when you start reading other people’s code."
   ]
  },
  {
   "cell_type": "markdown",
   "id": "d85454bb",
   "metadata": {},
   "source": [
    "## Josh Talks ..vasundhara Burning Desire "
   ]
  },
  {
   "cell_type": "markdown",
   "id": "80e629f4",
   "metadata": {},
   "source": [
    "***if u don't take any responsibilities, then your family  also suffer because of your laziness and lack of responsibility.\n",
    "mind says let's sleep...say no.\n",
    "let's go to movie...say no.\n",
    "lets's to to eat...say nooo\n",
    "let's go to party... say noooo\n",
    "let's go to marriage,festival...say noooo\n",
    "let's watch a movie in youtube and some comedy shows,reels....say noooooooooooooooo\n",
    "no instagram,no internet,no frnds,no relatives..no girls....nooo emotions... just u and your desire to achieve something greatly...\n",
    "\n",
    "***fight hard ..... fight with your mind and control it... say no to most of the things....\n"
   ]
  },
  {
   "cell_type": "markdown",
   "id": "4392e5b2",
   "metadata": {},
   "source": [
    "***something different and very good mindset..\n",
    "your carrer.. your dream.. u need to achieve your dreams. do anything powerfully with 100 % heart in it...\n",
    "10hrs ..keep continously sitting there and work hard..\n",
    "create it .... you need to something..\n",
    "convert all negatives into the positives and u can do it...\n",
    "continously 10 months..no where going..sitting there and keep doing the work...."
   ]
  },
  {
   "cell_type": "markdown",
   "id": "ea7a552d",
   "metadata": {},
   "source": [
    " ## we all have dreams..but in order to make dreams come into reality,it takes an awful lot of determination,dedication,self-discipline and effort."
   ]
  },
  {
   "cell_type": "markdown",
   "id": "b71139b0",
   "metadata": {},
   "source": [
    "## Power of silence\n",
    "***just keep silent...just be silent in most of the situations.... just talk with eyes and be silent for most of the situations..\n",
    "just talk whenever it is necessary and required.. know about yourself...\n",
    " "
   ]
  },
  {
   "cell_type": "markdown",
   "id": "203b3885",
   "metadata": {},
   "source": [
    "## Modules "
   ]
  },
  {
   "cell_type": "markdown",
   "id": "e11f3fc0",
   "metadata": {},
   "source": [
    "## Storing Your Functions in Modules\n",
    "1. One advantage of functions is the way they separate blocks of code from your main program.\n",
    "2. By using descriptive names for your functions, your main program will be much easier to follow.\n",
    "3. You can go a step further by storing your functions in a separate file called a module and then importing that module into your main program.\n",
    "4. An import statement tells Python to make the code in a module available in the currently running program file.\n",
    "5. Storing your functions in a separate file allows you to hide the details of your program’s code and focus on its higher-level logic.\n",
    "6. It also allows you to reuse functions in many different programs. When you store your functions in separate files, you can share those files with other programmers without having to share your entire program. \n",
    "7. Knowing how to import functions also allows you to use libraries of functions that other programmers have written."
   ]
  },
  {
   "cell_type": "markdown",
   "id": "c3dee41f",
   "metadata": {},
   "source": [
    "### Importing an Entire Module\n",
    "1. To start importing functions, we first need to create a module. \n",
    "2. A moduleis a file ending in .py that contains the code you want to import into your program."
   ]
  },
  {
   "cell_type": "code",
   "execution_count": null,
   "id": "7cc30660",
   "metadata": {},
   "outputs": [],
   "source": [
    "Now we’ll make a separate file called making_pizzas.py in the same directory as pizza.py.\n",
    "This file imports the module we just created and then makes two calls to make_pizza():\n",
    "  \n",
    "\n",
    "\n",
    "import pizza\n",
    "pizza.make_pizza(16, 'pepperoni')\n",
    "pizza.make_pizza(12, 'mushrooms', 'green peppers', 'extra cheese')"
   ]
  },
  {
   "cell_type": "raw",
   "id": "111a3406",
   "metadata": {},
   "source": [
    "When Python reads this file, the line import pizza tells Python to open the file pizza.py and copy all the functions from it into this program. \n",
    "You don’t actually see code being copied between files because Python copies the code behind the scenes as the program runs.\n",
    "All you need to know is that any function defined in pizza.py will now be available in making_pizzas.py. \n",
    "To call a function from an imported module, enter the name of the module you imported, pizza, followed by the name of the function, make_pizza(), separated by a dot."
   ]
  },
  {
   "cell_type": "markdown",
   "id": "631bd8f1",
   "metadata": {},
   "source": [
    "***This first approach to importing, in which you simply write import followed by the name of the module, makes every function from the module available in your program. \n",
    "If you use this kind of import statement to import an entire module named module_name.py, each function in the module is \n",
    "available through the following syntax:\n",
    "module_name.function_name()"
   ]
  },
  {
   "cell_type": "markdown",
   "id": "94ecf3a5",
   "metadata": {},
   "source": [
    "## Importing Specific Functions\n",
    "You can also import a specific function from a module. Here’s the general syntax for this approach:\n",
    "    \n",
    "from module_name import function_name\n",
    "\n",
    "\n",
    "You can import as many functions as you want from a module by separating each function’s name with a comma:\n",
    "    \n",
    "from module_name import function_0, function_1, function_2"
   ]
  },
  {
   "cell_type": "markdown",
   "id": "2f7729e3",
   "metadata": {},
   "source": [
    "***With this syntax, you don’t need to use the dot notation when you call a function.\n",
    "Because we’ve explicitly imported the function make_pizza() in the import statement, we can call it by name when we use the function."
   ]
  },
  {
   "cell_type": "markdown",
   "id": "71304937",
   "metadata": {},
   "source": [
    "## Using as to Give a Function an Alias\n",
    "1. If the name of a function you’re importing might conflict with an existing name in your program or if the function name is long, you can use a short, unique alias—an alternate name similar to a nickname for the function.\n",
    "2. You’ll give the function this special nickname when you import the function"
   ]
  },
  {
   "cell_type": "code",
   "execution_count": null,
   "id": "103b861b",
   "metadata": {},
   "outputs": [],
   "source": [
    "from pizza import make_pizza as mp\n",
    "\n",
    "\n",
    "#The import statement shown here renames the function make_pizza() to mp() in this program. \n",
    "2. Any time we want to call make_pizza() we can simply write mp() instead, and Python will run the code\n",
    "# in make_pizza() while avoiding any confusion with another make_pizza() function you might have written in this program file.\n",
    "3. The general syntax for providing an alias is:\n",
    "    \n",
    "    from module_name import function_name as fn\n"
   ]
  },
  {
   "cell_type": "code",
   "execution_count": null,
   "id": "fcdf03cc",
   "metadata": {},
   "outputs": [],
   "source": [
    "#### Using as to Give a Module an Alias\n",
    "\n",
    "You can also provide an alias for a module name. \n",
    "\n",
    "import module_name as mn\n",
    "\n",
    "example-\n",
    "import pizza as p"
   ]
  },
  {
   "cell_type": "raw",
   "id": "4301b699",
   "metadata": {},
   "source": [
    "Importing All Functions in a Module\n",
    "You can tell Python to import every function in a module by using the asterisk (*) operator:\n",
    "\n",
    "from module_name import *\n",
    "\n",
    "example-\n",
    "from pizza import *"
   ]
  },
  {
   "cell_type": "markdown",
   "id": "a414dbeb",
   "metadata": {},
   "source": [
    "1. The asterisk in the import statement tells Python to copy every function from the module pizza into this program file.\n",
    "2. Because every function is imported, you can call each function by name without using the dot notation. \n",
    "3. However, it’s best not to use this approach when you’re working with larger modules that you didn’t write: if the module has a function name that matches an existing name in your project, you can get some unexpected results.\n",
    "4. Python may see several functions or variables with the same name, and instead of importing all the functions separately, it will overwrite the functions.\n",
    "5. The best approach is to import the function or functions you want, or import the entire module and use the dot notation.\n",
    "6. This leads to clear code that’s easy to read and understand."
   ]
  },
  {
   "cell_type": "markdown",
   "id": "f7043c19",
   "metadata": {},
   "source": [
    "## Styling Functions\n",
    "1. Every function should have a comment that explains concisely what the function does. \n",
    "2. This comment should appear immediately after the function definition and use the docstring format.\n",
    "3. In a well-documented function, other programmers can use the function by reading only the description in the docstring. "
   ]
  },
  {
   "cell_type": "code",
   "execution_count": null,
   "id": "ccc62c67",
   "metadata": {},
   "outputs": [],
   "source": [
    "If you specify a default value for a parameter, no spaces should be used on either side of the equal sign:\n",
    "    \n",
    "def function_name(parameter_0, parameter_1='default value')\n",
    "\n",
    "The same convention should be used for keyword arguments in function calls:\n",
    "\n",
    "    function_name(value_0, parameter_1='value')"
   ]
  },
  {
   "cell_type": "markdown",
   "id": "4c176fcb",
   "metadata": {},
   "source": [
    "###                                                                                  END "
   ]
  },
  {
   "cell_type": "code",
   "execution_count": null,
   "id": "10a5737b",
   "metadata": {},
   "outputs": [],
   "source": []
  }
 ],
 "metadata": {
  "kernelspec": {
   "display_name": "Python 3 (ipykernel)",
   "language": "python",
   "name": "python3"
  },
  "language_info": {
   "codemirror_mode": {
    "name": "ipython",
    "version": 3
   },
   "file_extension": ".py",
   "mimetype": "text/x-python",
   "name": "python",
   "nbconvert_exporter": "python",
   "pygments_lexer": "ipython3",
   "version": "3.9.13"
  }
 },
 "nbformat": 4,
 "nbformat_minor": 5
}
