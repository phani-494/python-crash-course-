{
 "cells": [
  {
   "cell_type": "markdown",
   "id": "1866b3a9",
   "metadata": {},
   "source": [
    "\n",
    "# CLASSES "
   ]
  },
  {
   "cell_type": "markdown",
   "id": "303bd040",
   "metadata": {},
   "source": [
    "1. Object-oriented programming is one of the most effective approaches to writing software. \n",
    "2. In object-oriented programming you write classes that represent real-world things and situations, and you create objects based on these classes.\n",
    "3. When you write a class, you define the general behavior that a whole category of objects can have. "
   ]
  },
  {
   "cell_type": "markdown",
   "id": "520ef311",
   "metadata": {},
   "source": [
    "4. When you create individual objects from the class, each object is automatically equipped with the general behavior; you can then give each object whatever unique traits you desire.\n",
    "6. You’ll be amazed how well real-world situations can be modeled with object-oriented programming.\n",
    "7. Making an object from a class is called instantiation, and you work with instances of a class. \n",
    "8. You’ll specify the kind of information that can be stored in instances, and you’ll define actions that can be taken with these instances. \n",
    "9. You’ll also write classes that extend the functionality of existing classes, so similar classes can share code efficiently.\n",
    "\n",
    "10. You’ll store your classes in modules and import classes written by other programmers into your own program files.\n"
   ]
  },
  {
   "cell_type": "markdown",
   "id": "c48a23e2",
   "metadata": {},
   "source": [
    "1. Understanding object-oriented programming will help you see the world as a programmer does. \n",
    "2. It’ll help you really know your code, not just what’s happening line by line, but also the bigger concepts behind it. \n",
    "3. Knowing the logic behind classes will train you to think logically so you can write programs that effectively address almost any problem you encounter"
   ]
  },
  {
   "cell_type": "markdown",
   "id": "0556756f",
   "metadata": {},
   "source": [
    "## Creating and Using a Class\n",
    "1. You can model almost anything using classes.\n",
    "2. Let’s start by writing a simple class, Car, that represents a car—not one car in particular, but any car. \n",
    "3. What do we know about most car? Well, they all have a name and price. \n",
    "4. We also know that cars moves and stops. Those two pieces of information (name and price) and those two behaviors (move and stop) will go in our Car class because they’re common to most cars. \n",
    "5. This class will tell Python how to make an object representing a Car. \n",
    "6. After our class is written, we’ll use it to make individual instances, each of which represents one specific car."
   ]
  },
  {
   "cell_type": "markdown",
   "id": "f4af8428",
   "metadata": {},
   "source": [
    "***Creating the Car Class\n",
    "Each instance created from the Car class will store a name and an price, and we’ll give each car the ability to move() and stop():"
   ]
  },
  {
   "cell_type": "code",
   "execution_count": 7,
   "id": "b296246b",
   "metadata": {},
   "outputs": [
    {
     "data": {
      "text/plain": [
       "345000"
      ]
     },
     "execution_count": 7,
     "metadata": {},
     "output_type": "execute_result"
    }
   ],
   "source": [
    "class Car:\n",
    "    def __init__(self,name,price):\n",
    "        self.name=name\n",
    "        self.price=price\n",
    "    def move(self):\n",
    "        print(self.name+\" Car is moving\")\n",
    "    def stop(self):\n",
    "        print(\"Car will stop\")\n",
    "Tesla=Car(\"Tesla x\",345000)\n",
    "Tesla.price"
   ]
  },
  {
   "cell_type": "markdown",
   "id": "fbf66286",
   "metadata": {},
   "source": [
    "## The __init__() Method\n",
    "1. A function that’s part of a class is a method. \n",
    "2. Everything you learned about functions applies to methods as well; the only practical difference for now is the way we’ll call methods.\n",
    "3. The __init__() method is a special method Python runs automatically whenever we create a new instance based on the Car class. \n",
    "4. This method has two leading underscores and two trailing underscores, a convention that helps prevent Python’s default method names from conflicting with your method names.\n",
    "5. We define the __init__() method to have three parameters: self, name, and price.\n",
    "6. The self parameter is required in the method definition, and it must come first before the other parameters. \n",
    "7. It must be included in the definition because when Python calls this __init__() method later (to create an instance of Dog), the method call will automatically pass the self argument. \n",
    "8. Every method call associated with a class automatically passes self, which is a reference to the instance itself; it gives the individual instance access to the attributes and methods in the class.\n",
    "9. When we make an instance of Car, Python will call the __init__() method from the Car class.\n",
    "10. We’ll pass Car(name,price) as arguments; self is passed automatically, so we don’t need to pass it. Whenever we want to make an instance from the Car class, we’ll provide values for only the last two parameters, name and price.\n",
    "\n"
   ]
  },
  {
   "cell_type": "markdown",
   "id": "eb75bcf9",
   "metadata": {},
   "source": [
    "1. The two variables defined in init each have the prefix self.\n",
    "2. Any variable prefixed with self is available to every method in the class, and we’ll also be able to access these variables through any instance created from the class. \n",
    "3. self.name = name takes the value stored in the parameter name and stores it in the variable name, which is then attached to the instance being created. \n",
    "4. The same process happens with self.price = price. Variables that are accessible through instances like this are called attributes.\n",
    "5. The Car class has two other methods defined: move() and stop() . \n",
    "6. Because these methods don’t need additional information like a name or price, we just define them to have one parameter, self. \n",
    "7. The instances we create later will have access to these methods. In other words, they’ll be able to move and stop.  \n"
   ]
  },
  {
   "cell_type": "markdown",
   "id": "da66edd5",
   "metadata": {},
   "source": [
    "## Making an Instance from a Class\n",
    "1. Think of a class as a set of instructions for how to make an instance.\n",
    "2. The class Car is a set of instructions that tells Python how to make individual instances representing specific car."
   ]
  },
  {
   "cell_type": "code",
   "execution_count": 8,
   "id": "aef2c0e1",
   "metadata": {},
   "outputs": [
    {
     "data": {
      "text/plain": [
       "'Tesla'"
      ]
     },
     "execution_count": 8,
     "metadata": {},
     "output_type": "execute_result"
    }
   ],
   "source": [
    "my_car=Car('Tesla',45000000)  # we tell Python to create a Car whose name is 'Tesla' and whose pricee is 45000000.\n",
    "\n",
    "my_car.name #To access the attributes of an instance, you use dot notation."
   ]
  },
  {
   "cell_type": "markdown",
   "id": "a083174f",
   "metadata": {},
   "source": [
    "1. When Python reads this line, it calls the __init__() method \n",
    "in Car with the arguments 'Tesla' and 45000000.\n",
    "2. The __init__() method creates an instance representing this particular car and sets the name and price attributes using the values we provided.\n",
    "3. The __init__() method has no explicit returnstatement, but Python automatically returns an instance representing this car. We store that instance in the variable my_car."
   ]
  },
  {
   "cell_type": "code",
   "execution_count": 9,
   "id": "8fff4875",
   "metadata": {},
   "outputs": [
    {
     "data": {
      "text/plain": [
       "45000000"
      ]
     },
     "execution_count": 9,
     "metadata": {},
     "output_type": "execute_result"
    }
   ],
   "source": [
    "my_car.price\n",
    "# Here Python looks at the instance my_car and then finds the attribute price associated with my_car"
   ]
  },
  {
   "cell_type": "code",
   "execution_count": 10,
   "id": "d4e1aed8",
   "metadata": {},
   "outputs": [
    {
     "name": "stdout",
     "output_type": "stream",
     "text": [
      "Tesla Car is moving\n"
     ]
    }
   ],
   "source": [
    "#we can use dot notation to call any method defined in Car.\n",
    "my_car.move()"
   ]
  },
  {
   "cell_type": "markdown",
   "id": "daaa2736",
   "metadata": {},
   "source": [
    "1. To call a method, give the name of the instance (in this case, my_car) and the method you want to call, separated by a dot.\n",
    "2. When Python reads my_car.move(), it looks for the method move() in the class Car and runs that code."
   ]
  },
  {
   "cell_type": "code",
   "execution_count": 11,
   "id": "6e5258e1",
   "metadata": {},
   "outputs": [],
   "source": [
    "## Creating Multiple Instances\n",
    "##You can create as many instances from a class as you need.\n",
    "car1=Car(\"Tata\",400000)\n",
    "car2=Car(\"Toyota\",600000)\n",
    "# Each car here is a separate instance with its own set of attributes, capable of the same set of actions:"
   ]
  },
  {
   "cell_type": "markdown",
   "id": "6be0ef42",
   "metadata": {},
   "source": [
    "1. Even if we used the same name and price for the second car, Python would still create a separate instance from the Car class. \n",
    "2. You can make as many instances from one class as you need, as long as you give each instance a unique variable name or it occupies a unique spot in a list or dictionary."
   ]
  },
  {
   "cell_type": "markdown",
   "id": "cfda15fb",
   "metadata": {},
   "source": [
    "## Working with Classes and Instances\n",
    "1. You can use classes to represent many real-world situations. \n",
    "2. Once you write a class, you’ll spend most of your time working with instances created from that class. \n",
    "3. One of the first tasks you’ll want to do is modify the attributes associated with a particular instance. \n",
    "4. You can modify the attributes of an instance directly or write methods that update attributes in specific ways."
   ]
  },
  {
   "cell_type": "raw",
   "id": "d86a4913",
   "metadata": {},
   "source": [
    "# To make the class more interesting, let’s add an attribute that changes over time. We’ll add an attribute that stores the car’s overall mileage."
   ]
  },
  {
   "cell_type": "markdown",
   "id": "71b43fbe",
   "metadata": {},
   "source": [
    "## Setting a Default Value for an Attribute\n",
    "1. Every attribute in a class needs an initial value, even if that value is 0 or an empty string. \n",
    "2. In some cases, such as when setting a default value, it makes sense to specify this initial value in the body of the __init__() method; if you do this for an attribute, you don’t have to include a parameter for that attribute.\n",
    "3. Let’s add an attribute called odometer_reading that always starts with a value of 0. \n",
    "4. We’ll also add a method read_odometer() that helps us read each car’s odometer:"
   ]
  },
  {
   "cell_type": "code",
   "execution_count": 21,
   "id": "0775389a",
   "metadata": {},
   "outputs": [
    {
     "name": "stdout",
     "output_type": "stream",
     "text": [
      "This car has 0 miles on it.\n"
     ]
    }
   ],
   "source": [
    "class Car:\n",
    " def __init__(self,model, year):\n",
    "  self.model = model\n",
    "  self.year = year\n",
    "  self.odometer_reading = 0\n",
    " \n",
    " def read_odometer(self):\n",
    "     print(\"This car has \" + str(self.odometer_reading) + \" miles on it.\")\n",
    " \n",
    "my_new_car = Car('audi', 2016)\n",
    "my_new_car.read_odometer()"
   ]
  },
  {
   "cell_type": "markdown",
   "id": "0aed60da",
   "metadata": {},
   "source": [
    "### Modifying Attribute Values\n",
    "1. You can change an attribute’s value in three ways: you can change the value directly through an instance, set the value through a method, or increment \n",
    "the value (add a certain amount to it) through a method.\n",
    "#### Modifying an Attribute’s Value Directly\n",
    "The simplest way to modify the value of an attribute is to access the attribute directly through an instance."
   ]
  },
  {
   "cell_type": "code",
   "execution_count": 23,
   "id": "61daf777",
   "metadata": {},
   "outputs": [
    {
     "name": "stdout",
     "output_type": "stream",
     "text": [
      "This car has 100 miles on it.\n"
     ]
    }
   ],
   "source": [
    "my_new_car.odometer_reading=100 \n",
    "#This line tells Python to take the instance my_new_car, find the attribute odometer_reading associated with it, and set the \n",
    "#value of that attribute to 100:\n",
    "my_new_car.read_odometer()"
   ]
  },
  {
   "cell_type": "markdown",
   "id": "d1377d63",
   "metadata": {},
   "source": [
    "### Modifying an Attribute’s Value Through a Method\n",
    "1. It can be helpful to have methods that update certain attributes for you. \n",
    "2. Instead of accessing the attribute directly, you pass the new value to a method that handles the updating internally.\n",
    "\n",
    "Here’s an example showing a method called update_odometer():"
   ]
  },
  {
   "cell_type": "code",
   "execution_count": 26,
   "id": "ec413d40",
   "metadata": {},
   "outputs": [
    {
     "name": "stdout",
     "output_type": "stream",
     "text": [
      "This car has 0 miles on it.\n",
      "This car has 100 miles on it.\n"
     ]
    }
   ],
   "source": [
    "class Car:\n",
    " def __init__(self,model, year):\n",
    "  self.model = model\n",
    "  self.year = year\n",
    "  self.odometer_reading = 0\n",
    " \n",
    " def read_odometer(self):\n",
    "     print(\"This car has \" + str(self.odometer_reading) + \" miles on it.\")\n",
    " def update_odometer(self, mileage):\n",
    "     \"\"\"Set the odometer reading to the given value.\"\"\"\n",
    "     self.odometer_reading = mileage\n",
    " \n",
    "my_new_car = Car('audi', 2016)\n",
    "my_new_car.read_odometer()\n",
    "my_new_car.update_odometer(100)\n",
    "my_new_car.read_odometer()    "
   ]
  },
  {
   "cell_type": "code",
   "execution_count": 27,
   "id": "96f4bf13",
   "metadata": {},
   "outputs": [],
   "source": [
    "## This method takes in a mileage value and stores it in self.odometer_reading. \n",
    "# we call update_odometer() and give it 100 as an argument (corresponding to the mileage parameter in the method definition).\n",
    "# It sets the odometer reading to 100, and read_odometer() prints the reading."
   ]
  },
  {
   "cell_type": "markdown",
   "id": "faace374",
   "metadata": {},
   "source": [
    "## Inheritance\n",
    "1. You don’t always have to start from scratch when writing a class.\n",
    "2. If the class you’re writing is a specialized version of another class you wrote, you can use inheritance.\n",
    "3. When one class inherits from another, it automatically takes on all the attributes and methods of the first class. \n",
    "4. The original class is called the parent class, and the new class is the child class.\n",
    "5. The child class inherits every attribute and method from its parent class but is also free to define new attributes and methods of its own.\n",
    "## The __init__() Method for a Child Class\n",
    "6. The first task Python has when creating an instance from a child class is to assign values to all attributes in the parent class.\n",
    "7. To do this, the __init__()method for a child class needs help from its parent class."
   ]
  },
  {
   "cell_type": "raw",
   "id": "78904cc0",
   "metadata": {},
   "source": [
    "# As an example, let’s model an electric car. An electric car is just a specific kind of car, so we can base our new             Electric Car class on the Car class we wrote earlier. \n",
    "# Then we’ll only have to write code for the attributes and behavior specific to electric cars.\n",
    "#Let’s start by making a simple version of the ElectricCar class, which does everything the Car class does:"
   ]
  },
  {
   "cell_type": "code",
   "execution_count": 2,
   "id": "a4f6ac62",
   "metadata": {},
   "outputs": [
    {
     "name": "stdout",
     "output_type": "stream",
     "text": [
      "2016 Tesla Model S\n"
     ]
    }
   ],
   "source": [
    "class Car():\n",
    " \"\"\"A simple attempt to represent a car.\"\"\"\n",
    " def __init__(self, make, model, year):\n",
    "     self.make = make\n",
    "     self.model = model\n",
    "     self.year = year\n",
    "     self.odometer_reading = 0\n",
    " \n",
    " def get_descriptive_name(self):\n",
    "     long_name = str(self.year) + ' ' + self.make + ' ' + self.model\n",
    "     return long_name.title()\n",
    " \n",
    " def read_odometer(self):\n",
    "     print(\"This car has \" + str(self.odometer_reading) + \" miles on it.\")\n",
    " \n",
    " def update_odometer(self, mileage):\n",
    "     if mileage >= self.odometer_reading:\n",
    "         self.odometer_reading = mileage\n",
    "     else:\n",
    "         print(\"You can't roll back an odometer!\")\n",
    " \n",
    " def increment_odometer(self, miles):\n",
    "     self.odometer_reading += miles\n",
    "class ElectricCar(Car):\n",
    " \"\"\"Represent aspects of a car, specific to electric vehicles.\"\"\"\n",
    " \n",
    " def __init__(self, make, model, year):\n",
    "     \"\"\"Initialize attributes of the parent class.\"\"\"\n",
    "     super().__init__(make, model, year)\n",
    " \n",
    "my_tesla = ElectricCar('tesla', 'model s', 2016)\n",
    "print(my_tesla.get_descriptive_name())"
   ]
  },
  {
   "cell_type": "markdown",
   "id": "b3b4a120",
   "metadata": {},
   "source": [
    "1. We start with Car. When you create a child class, the parent class must be part of the current file and must appear before the child class in the file. \n",
    "2. We define the child class, ElectricCar. The name of the parent class must be included in parentheses in the definition of the child class. \n",
    "3. The __init__() method in child class takes in the information required to make a Car instance.\n",
    "4. The super() function  is a special function that helps Python make connections between the parent and child class. \n",
    "5. This line tells Python to call the __init__() method from ElectricCar’s parent class, which gives an ElectricCar instance all the attributes of its parent class.\n",
    "6. The name super comes from a convention of calling the parent class a superclass and the child class a subclass.\n",
    "7. We test whether inheritance is working properly by trying to create an electric car with the same kind of information we’d provide when making a regular car.\n",
    "8. We make an instance of the ElectricCar class, and store it in my_tesla.\n",
    "9. This line calls the __init__() method defined in ElectricCar, which in turn tells Python to call the __init__() method defined in the parent class Car. We provide the arguments 'tesla', 'model s', and 2016.\n",
    "10. Aside from __init__(), there are no attributes or methods yet that are particular to an electric car. At this point we’re just making sure the electric car has the appropriate Car behaviors:\n",
    "\n",
    "2016 Tesla Model S \n",
    "\n",
    "####  The ElectricCar instance works just like an instance of Car, so now we can begin defining attributes and methods specific to electric cars."
   ]
  },
  {
   "cell_type": "markdown",
   "id": "c07b5431",
   "metadata": {},
   "source": [
    "### Defining Attributes and Methods for the Child Class\n",
    "Once you have a child class that inherits from a parent class, you can add any new attributes and methods necessary to differentiate the child class from the parent class."
   ]
  },
  {
   "cell_type": "code",
   "execution_count": 3,
   "id": "ff245ee1",
   "metadata": {},
   "outputs": [
    {
     "name": "stdout",
     "output_type": "stream",
     "text": [
      "2016 Tesla Model S\n",
      "This car has a 70-kWh battery.\n"
     ]
    }
   ],
   "source": [
    "#Let’s add an attribute that’s specific to electric cars (a battery, for example) and a method to report on this attribute. \n",
    "# We’ll store the battery size and write a method that prints a description of the battery:\n",
    "class Car():\n",
    " \"\"\"A simple attempt to represent a car.\"\"\"\n",
    " def __init__(self, make, model, year):\n",
    "     self.make = make\n",
    "     self.model = model\n",
    "     self.year = year\n",
    "     self.odometer_reading = 0\n",
    " \n",
    " def get_descriptive_name(self):\n",
    "     long_name = str(self.year) + ' ' + self.make + ' ' + self.model\n",
    "     return long_name.title()\n",
    " \n",
    " def read_odometer(self):\n",
    "     print(\"This car has \" + str(self.odometer_reading) + \" miles on it.\")\n",
    " \n",
    " def update_odometer(self, mileage):\n",
    "     if mileage >= self.odometer_reading:\n",
    "         self.odometer_reading = mileage\n",
    "     else:\n",
    "         print(\"You can't roll back an odometer!\")\n",
    " \n",
    " def increment_odometer(self, miles):\n",
    "     self.odometer_reading += miles\n",
    "class ElectricCar(Car):\n",
    " # \"\"\"Represent aspects of a car, specific to electric vehicles.\"\"\"\n",
    " def __init__(self, make, model, year):\n",
    " # Initialize attributes of the parent class.Then initialize attributes specific to an electric car.\n",
    "     super().__init__(make, model, year)\n",
    "     self.battery_size = 70\n",
    " \n",
    " def describe_battery(self):\n",
    "  #\"\"\"Print a statement describing the battery size.\"\"\"\n",
    "     print(\"This car has a \" + str(self.battery_size) + \"-kWh battery.\")\n",
    "my_tesla = ElectricCar('tesla', 'model s', 2016)\n",
    "print(my_tesla.get_descriptive_name())\n",
    "my_tesla.describe_battery()"
   ]
  },
  {
   "cell_type": "raw",
   "id": "2d6e3fa5",
   "metadata": {},
   "source": [
    "We add a new attribute self.battery_size and set its initial value to 70.\n",
    "This attribute will be associated with all instances created from the ElectricCar class but won’t be associated with any instances of Car. \n",
    "We also add a method called describe_battery() that prints information about the battery .\n",
    "When we call this method, we get a description that is clearly specific to an electric car:"
   ]
  },
  {
   "cell_type": "markdown",
   "id": "34a7bb08",
   "metadata": {},
   "source": [
    "1. There’s no limit to how much you can specialize the ElectricCar class. \n",
    "2. You can add as many attributes and methods as you need to model an electric car to whatever degree of accuracy you need.\n",
    "3. An attribute or method that could belong to any car, rather than one that’s specific to an electric car, should be added to the Car class instead of the ElectricCar class.\n",
    "4. Then anyone who uses the Car class will have that functionality available as well, and the ElectricCar class will only contain code for the information and behavior specific to electric vehicles"
   ]
  },
  {
   "cell_type": "markdown",
   "id": "31adc8c2",
   "metadata": {},
   "source": [
    "## Overriding Methods from the Parent Class\n",
    "1. You can override any method from the parent class that doesn’t fit what you’re trying to model with the child class.\n",
    "2. To do this, you define a method in the child class with the same name as the method you want to override in the parent class.\n",
    "3. Python will disregard the parent class method and only pay attention to the method you define in the child class.\n",
    "\n",
    "Say the class Car had a method called fill_gas_tank(). \n",
    "\n",
    "4. This method is meaningless for an all-electric vehicle, so you might want to override this method. Here’s one way to do that:"
   ]
  },
  {
   "cell_type": "code",
   "execution_count": 9,
   "id": "9ab4bf64",
   "metadata": {},
   "outputs": [
    {
     "name": "stdout",
     "output_type": "stream",
     "text": [
      "2016 Tesla Model S\n",
      "This car has a 70-kWh battery.\n",
      "model s car doesn't need a gas tank!\n"
     ]
    }
   ],
   "source": [
    "class Car():\n",
    " \"\"\"A simple attempt to represent a car.\"\"\"\n",
    " def __init__(self, make, model, year):\n",
    "     self.make = make\n",
    "     self.model = model\n",
    "     self.year = year\n",
    "     self.odometer_reading = 0\n",
    " \n",
    " def get_descriptive_name(self):\n",
    "     long_name = str(self.year) + ' ' + self.make + ' ' + self.model\n",
    "     return long_name.title()\n",
    "    \n",
    " def fill_gas_tank(self):\n",
    "     print(self.model +\" car need a gas tank!\")\n",
    " \n",
    " def read_odometer(self):\n",
    "     print(\"This car has \" + str(self.odometer_reading) + \" miles on it.\")\n",
    " \n",
    " def update_odometer(self, mileage):\n",
    "     if mileage >= self.odometer_reading:\n",
    "         self.odometer_reading = mileage\n",
    "     else:\n",
    "         print(\"You can't roll back an odometer!\")\n",
    " \n",
    " def increment_odometer(self, miles):\n",
    "     self.odometer_reading += miles\n",
    "class ElectricCar(Car):\n",
    " # \"\"\"Represent aspects of a car, specific to electric vehicles.\"\"\"\n",
    " def __init__(self, make, model, year):\n",
    " # Initialize attributes of the parent class.Then initialize attributes specific to an electric car.\n",
    "     super().__init__(make, model, year)\n",
    "     self.battery_size = 70\n",
    " def fill_gas_tank(self):\n",
    " # \"\"\"Electric cars don't have gas tanks.\"\"\"\n",
    "     print(self.model +\" car doesn't need a gas tank!\")\n",
    " \n",
    " def describe_battery(self):\n",
    "  #\"\"\"Print a statement describing the battery size.\"\"\"\n",
    "     print(\"This car has a \" + str(self.battery_size) + \"-kWh battery.\")\n",
    "my_tesla = ElectricCar('tesla', 'model s', 2016)\n",
    "print(my_tesla.get_descriptive_name())\n",
    "my_tesla.describe_battery()\n",
    "my_tesla.fill_gas_tank()"
   ]
  },
  {
   "cell_type": "raw",
   "id": "12c057d3",
   "metadata": {},
   "source": [
    "Now if someone tries to call fill_gas_tank() with an electric car, Python will ignore the method fill_gas_tank() in Car and run this code instead.\n",
    "When you use inheritance, you can make your child classes retain what you need and override anything you don’t need from the parent class."
   ]
  },
  {
   "cell_type": "code",
   "execution_count": 10,
   "id": "3166ff8f",
   "metadata": {},
   "outputs": [
    {
     "name": "stdout",
     "output_type": "stream",
     "text": [
      "2016 Toyota V20\n",
      "v20 car need a gas tank!\n"
     ]
    }
   ],
   "source": [
    "class Car():\n",
    " \"\"\"A simple attempt to represent a car.\"\"\"\n",
    " def __init__(self, make, model, year):\n",
    "     self.make = make\n",
    "     self.model = model\n",
    "     self.year = year\n",
    "     self.odometer_reading = 0\n",
    " \n",
    " def get_descriptive_name(self):\n",
    "     long_name = str(self.year) + ' ' + self.make + ' ' + self.model\n",
    "     return long_name.title()\n",
    "    \n",
    " def fill_gas_tank(self):\n",
    "     print(self.model +\" car need a gas tank!\")\n",
    " \n",
    " def read_odometer(self):\n",
    "     print(\"This car has \" + str(self.odometer_reading) + \" miles on it.\")\n",
    " \n",
    " def update_odometer(self, mileage):\n",
    "     if mileage >= self.odometer_reading:\n",
    "         self.odometer_reading = mileage\n",
    "     else:\n",
    "         print(\"You can't roll back an odometer!\")\n",
    " \n",
    " def increment_odometer(self, miles):\n",
    "     self.odometer_reading += miles\n",
    "class ElectricCar(Car):\n",
    " # \"\"\"Represent aspects of a car, specific to electric vehicles.\"\"\"\n",
    " def __init__(self, make, model, year):\n",
    " # Initialize attributes of the parent class.Then initialize attributes specific to an electric car.\n",
    "     super().__init__(make, model, year)\n",
    "     self.battery_size = 70\n",
    " def fill_gas_tank(self):\n",
    " # \"\"\"Electric cars don't have gas tanks.\"\"\"\n",
    "     print(self.model +\" car doesn't need a gas tank!\")\n",
    " \n",
    " def describe_battery(self):\n",
    "  #\"\"\"Print a statement describing the battery size.\"\"\"\n",
    "     print(\"This car has a \" + str(self.battery_size) + \"-kWh battery.\")\n",
    "t1 = Car('Toyota', 'v20', 2016)\n",
    "print(t1.get_descriptive_name())\n",
    "t1.fill_gas_tank()"
   ]
  },
  {
   "cell_type": "markdown",
   "id": "280e0cf9",
   "metadata": {},
   "source": [
    "## Instances as Attributes\n",
    "1. When modeling something from the real world in code, you may find that you’re adding more and more detail to a class.\n",
    "2. You’ll find that you have a growing list of attributes and methods and that your files are becoming lengthy.\n",
    "3. In these situations, you might recognize that part of one class can be written as a separate class. You can break your large class into smaller classes that work together.\n",
    "4. For example, if we continue adding detail to the ElectricCar class, we might notice that we’re adding many attributes and methods specific to the car’s battery. When we see this happening, we can stop and move those attributes and methods to a separate class called Battery. \n",
    "5. Then we can use a Battery instance as an attribute in the ElectricCar class:"
   ]
  },
  {
   "cell_type": "code",
   "execution_count": 11,
   "id": "5c3b0a6b",
   "metadata": {},
   "outputs": [
    {
     "name": "stdout",
     "output_type": "stream",
     "text": [
      "2016 Tesla Model S\n",
      "This car has a 70-kWh battery.\n"
     ]
    }
   ],
   "source": [
    "class Car():\n",
    " \"\"\"A simple attempt to represent a car.\"\"\"\n",
    " def __init__(self, make, model, year):\n",
    "     self.make = make\n",
    "     self.model = model\n",
    "     self.year = year\n",
    "     self.odometer_reading = 0\n",
    " \n",
    " def get_descriptive_name(self):\n",
    "     long_name = str(self.year) + ' ' + self.make + ' ' + self.model\n",
    "     return long_name.title()\n",
    "    \n",
    " def fill_gas_tank(self):\n",
    "     print(self.model +\" car need a gas tank!\")\n",
    " \n",
    " def read_odometer(self):\n",
    "     print(\"This car has \" + str(self.odometer_reading) + \" miles on it.\")\n",
    " \n",
    " def update_odometer(self, mileage):\n",
    "     if mileage >= self.odometer_reading:\n",
    "         self.odometer_reading = mileage\n",
    "     else:\n",
    "         print(\"You can't roll back an odometer!\")\n",
    " \n",
    " def increment_odometer(self, miles):\n",
    "     self.odometer_reading += miles\n",
    "    \n",
    "class Battery():\n",
    " \"\"\"A simple attempt to model a battery for an electric car.\"\"\"\n",
    " \n",
    " def __init__(self, battery_size=70):\n",
    " # \"\"\"Initialize the battery's attributes.\"\"\"\n",
    "     self.battery_size = battery_size\n",
    " def describe_battery(self):\n",
    " # \"\"\"Print a statement describing the battery size.\"\"\"\n",
    "     print(\"This car has a \" + str(self.battery_size) + \"-kWh battery.\") \n",
    "class ElectricCar(Car):\n",
    " #\"\"\"Represent aspects of a car, specific to electric vehicles.\"\"\"\n",
    " def __init__(self, make, model, year):\n",
    "     super().__init__(make, model, year)\n",
    "     self.battery = Battery() # like this we can give; an instance will be stored here\n",
    "my_tesla = ElectricCar('tesla', 'model s', 2016)\n",
    "print(my_tesla.get_descriptive_name())\n",
    "my_tesla.battery.describe_battery()"
   ]
  },
  {
   "cell_type": "code",
   "execution_count": 12,
   "id": "e1d03621",
   "metadata": {},
   "outputs": [
    {
     "data": {
      "text/plain": [
       "<__main__.Battery at 0x1cae68a31c0>"
      ]
     },
     "execution_count": 12,
     "metadata": {},
     "output_type": "execute_result"
    }
   ],
   "source": [
    "my_tesla.battery"
   ]
  },
  {
   "cell_type": "code",
   "execution_count": 13,
   "id": "bb038a33",
   "metadata": {},
   "outputs": [
    {
     "data": {
      "text/plain": [
       "70"
      ]
     },
     "execution_count": 13,
     "metadata": {},
     "output_type": "execute_result"
    }
   ],
   "source": [
    "my_tesla.battery.battery_size"
   ]
  },
  {
   "cell_type": "markdown",
   "id": "9c981326",
   "metadata": {},
   "source": [
    "1. In the ElectricCar class, we now add an attribute called self.battery. \n",
    "2. This line tells Python to create a new instance of Battery (with a default size of 70, because we’re not specifying a value) and store that instance in the attribute self.battery.\n",
    "3. This will happen every time the __init__() method is called; any ElectricCar instance will now have a Battery instance created automatically.\n",
    "4. We create an electric car and store it in the variable my_tesla. When we want to describe the battery, we need to work through the car’s batteryattribute:\n",
    "\n",
    "my_tesla.battery.describe_battery()\n",
    "\n",
    "5. This line tells Python to look at the instance my_tesla, find its battery attribute, and call the method describe_battery() that’s associated with the Battery instance stored in the attribute"
   ]
  },
  {
   "cell_type": "markdown",
   "id": "c56d27f1",
   "metadata": {},
   "source": [
    "## Importing Classes\n",
    "1. As you add more functionality to your classes, your files can get long, even when you use inheritance properly.\n",
    "2. In keeping with the overall philosophy of Python, you’ll want to keep your files as uncluttered as possible.\n",
    "3. To help, Python lets you store classes in modules and then import the classes you need into your main program."
   ]
  },
  {
   "cell_type": "code",
   "execution_count": 14,
   "id": "28f7a2f4",
   "metadata": {},
   "outputs": [],
   "source": [
    "# let's treat that all this code was written in a file named cars.py\n",
    "\"\"\"A class that can be used to represent a car.\"\"\" \n",
    "# we include a module-level docstring that briefly describes the contents of this module.\n",
    "# You should write a docstring for each module you create.\n",
    "class Car():\n",
    " \"\"\"A simple attempt to represent a car.\"\"\"\n",
    " def __init__(self, make, model, year):\n",
    "     self.make = make\n",
    "     self.model = model\n",
    "     self.year = year\n",
    "     self.odometer_reading = 0\n",
    " \n",
    " def get_descriptive_name(self):\n",
    "     long_name = str(self.year) + ' ' + self.make + ' ' + self.model\n",
    "     return long_name.title()\n",
    " \n",
    " def read_odometer(self):\n",
    "     print(\"This car has \" + str(self.odometer_reading) + \" miles on it.\")\n",
    " \n",
    " def update_odometer(self, mileage):\n",
    "     if mileage >= self.odometer_reading:\n",
    "         self.odometer_reading = mileage\n",
    "     else:\n",
    "         print(\"You can't roll back an odometer!\")\n",
    " \n",
    " def increment_odometer(self, miles):\n",
    "     self.odometer_reading += miles"
   ]
  },
  {
   "cell_type": "raw",
   "id": "422065a5",
   "metadata": {},
   "source": [
    "# Now we make a separate file called my_car.py.\n",
    "# This file will import the Car class and then create an instance from that class:\n",
    "# now we are in a file called my_car.py .\n",
    "# try these programs in the pycharm for clear output.\n",
    "from cars import Car\n",
    "my_new_car = Car('audi', 'a4', 2016)\n",
    "print(my_new_car.get_descriptive_name())\n",
    "my_new_car.odometer_reading = 23\n",
    "my_new_car.read_odometer()"
   ]
  },
  {
   "cell_type": "markdown",
   "id": "3e6414a2",
   "metadata": {},
   "source": [
    "***The import statement tells Python to open the cars module and import the class Car.\n",
    "Now we can use the Car class as if it were defined in this file.\n",
    "\n",
    "1. Importing classes is an effective way to program. Picture how long this program file would be if the entire Car class were included.\n",
    "2. When you instead move the class to a module and import the module, you still get all the same functionality, but you keep your main program file clean and easy to read.\n",
    "3. You also store most of the logic in separate files; once your classes work as you want them to, you can leave those files alone and focus on the higher-level logic of your main program."
   ]
  },
  {
   "cell_type": "raw",
   "id": "7658dd71",
   "metadata": {},
   "source": [
    "## Importing Multiple Classes from a Module\n",
    "You can import as many classes as you need into a program file.\n",
    "If we want to make a regular car and an electric car in the same file, we need to import both classes, Car and ElectricCar:\n",
    "\n",
    "from car import Car, ElectricCar"
   ]
  },
  {
   "cell_type": "markdown",
   "id": "7a034558",
   "metadata": {},
   "source": [
    "## Importing an Entire Module\n",
    "1. You can also import an entire module and then access the classes you need using dot notation.\n",
    "2. This approach is simple and results in code that is easy to read. \n",
    "3. Because every call that creates an instance of a class includes the module name, you won’t have naming conflicts with any names used in the current file."
   ]
  },
  {
   "cell_type": "markdown",
   "id": "4ba577d6",
   "metadata": {},
   "source": [
    "***we import the entire car module. We then access the classes we need through the module_name.class_name syntax."
   ]
  },
  {
   "cell_type": "raw",
   "id": "c8986965",
   "metadata": {},
   "source": [
    "Importing All Classes from a Module\n",
    "You can import every class from a module using the following syntax:\n",
    "    \n",
    "from module_name import *"
   ]
  },
  {
   "cell_type": "markdown",
   "id": "bbab744b",
   "metadata": {},
   "source": [
    "## The Python Standard Library\n",
    "1. The Python standard library is a set of modules included with every Python installation.\n",
    "2. Now that you have a basic understanding of how classes work, you can start to use modules like these that other programmers have written.\n",
    "3. You can use any function or class in the standard library by including a simple import statement at the top of your file. \n",
    "4. Let’s look at one class, OrderedDict, from the module collections.\n"
   ]
  },
  {
   "cell_type": "raw",
   "id": "bbdaa334",
   "metadata": {},
   "source": [
    "Dictionaries allow you to connect pieces of information, but they don’t keep track of the order in which you add key-value pairs.\n",
    "If you’re creating a dictionary and want to keep track of the order in which key-value pairs are added, you can use the OrderedDict class from the collections module. \n",
    "Instances of the OrderedDict class behave almost exactly like dictionaries except they keep track of the order in which key-value pairs are added."
   ]
  },
  {
   "cell_type": "code",
   "execution_count": 16,
   "id": "fbd38579",
   "metadata": {},
   "outputs": [
    {
     "name": "stdout",
     "output_type": "stream",
     "text": [
      "Jen's favorite language is Python.\n",
      "Sarah's favorite language is C.\n",
      "Edward's favorite language is Ruby.\n",
      "Phil's favorite language is Python.\n"
     ]
    }
   ],
   "source": [
    "from collections import OrderedDict\n",
    "favorite_languages = OrderedDict()\n",
    "favorite_languages['jen'] = 'python'\n",
    "favorite_languages['sarah'] = 'c'\n",
    "favorite_languages['edward'] = 'ruby'\n",
    "favorite_languages['phil'] = 'python'\n",
    "for name, language in favorite_languages.items():\n",
    " print(name.title() + \"'s favorite language is \" +\n",
    " language.title() + \".\")"
   ]
  },
  {
   "cell_type": "raw",
   "id": "94fd9d65",
   "metadata": {},
   "source": [
    "Every class should have a docstring immediately following the class definition. \n",
    "The docstring should be a brief description of what the class does, and you should follow the same formatting conventions you used for writing docstrings in functions.\n",
    "Each module should also have a docstring describing what the classes in a module can be used for"
   ]
  },
  {
   "cell_type": "markdown",
   "id": "317f239f",
   "metadata": {},
   "source": [
    "# END"
   ]
  },
  {
   "cell_type": "code",
   "execution_count": null,
   "id": "0c124a6c",
   "metadata": {},
   "outputs": [],
   "source": []
  }
 ],
 "metadata": {
  "kernelspec": {
   "display_name": "Python 3 (ipykernel)",
   "language": "python",
   "name": "python3"
  },
  "language_info": {
   "codemirror_mode": {
    "name": "ipython",
    "version": 3
   },
   "file_extension": ".py",
   "mimetype": "text/x-python",
   "name": "python",
   "nbconvert_exporter": "python",
   "pygments_lexer": "ipython3",
   "version": "3.9.13"
  }
 },
 "nbformat": 4,
 "nbformat_minor": 5
}
