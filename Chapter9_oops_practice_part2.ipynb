{
 "cells": [
  {
   "cell_type": "code",
   "execution_count": 7,
   "id": "7acea25d",
   "metadata": {},
   "outputs": [],
   "source": [
    "class Dog:\n",
    "    def __init__(self,name,age):\n",
    "        self.name=name\n",
    "        self.age=age\n",
    "    def sit(self):\n",
    "        print(self.name,\"Please sit on the floor\")\n",
    "    def stand(self):\n",
    "        print(self.name,\"Please stand on the floor\")"
   ]
  },
  {
   "cell_type": "markdown",
   "id": "2eff975a",
   "metadata": {},
   "source": [
    "# Making an Instance from a Class"
   ]
  },
  {
   "cell_type": "markdown",
   "id": "491b8d4f",
   "metadata": {},
   "source": [
    "1.Think of a class as a set of instructions for how to make an instance. The \n",
    "class Dog is a set of instructions that tells Python how to make individual \n",
    "instances representing specific dogs.\n",
    "2.The Dog class we’re using here is the one we just wrote in the previous \n",
    "example. At u we tell Python to create a dog whose name is 'willie' and \n",
    "whose age is 6. \n",
    "When Python reads this line, it calls the __init__() method \n",
    "in Dog with the arguments 'willie' and 6. \n",
    "The __init__() method creates an instance representing this particular dog and sets the name and age attributes \n",
    "using the values we provided. \n",
    "The __init__() method has no explicit return statement, but Python automatically returns an instance representing this \n",
    "dog. We store that instance in the variable my_dog.\n",
    "The naming convention is \n",
    "helpful here: we can usually assume that a capitalized name like Dog refers \n",
    "to a class, and a lowercase name like my_dog refers to a single instance cre\u0002ated from a class"
   ]
  },
  {
   "cell_type": "code",
   "execution_count": 3,
   "id": "42bf8550",
   "metadata": {},
   "outputs": [],
   "source": [
    "my_dog=Dog(\"Puppy\",6)"
   ]
  },
  {
   "cell_type": "code",
   "execution_count": 4,
   "id": "bce7ed24",
   "metadata": {},
   "outputs": [
    {
     "data": {
      "text/plain": [
       "'Puppy'"
      ]
     },
     "execution_count": 4,
     "metadata": {},
     "output_type": "execute_result"
    }
   ],
   "source": [
    "my_dog.name"
   ]
  },
  {
   "cell_type": "code",
   "execution_count": 5,
   "id": "bd84b757",
   "metadata": {},
   "outputs": [
    {
     "name": "stdout",
     "output_type": "stream",
     "text": [
      "My dog's name is Puppy.\n"
     ]
    }
   ],
   "source": [
    "print(\"My dog's name is \" + my_dog.name.title() + \".\")"
   ]
  },
  {
   "cell_type": "markdown",
   "id": "584b5c40",
   "metadata": {},
   "source": [
    "#Accessing Attributes\n",
    "To access the attributes of an instance, you use dot notation. \n"
   ]
  },
  {
   "cell_type": "code",
   "execution_count": 8,
   "id": "a2d2356e",
   "metadata": {
    "scrolled": true
   },
   "outputs": [
    {
     "data": {
      "text/plain": [
       "6"
      ]
     },
     "execution_count": 8,
     "metadata": {},
     "output_type": "execute_result"
    }
   ],
   "source": [
    "my_dog.age"
   ]
  },
  {
   "cell_type": "markdown",
   "id": "e7c5a554",
   "metadata": {},
   "source": [
    "# Calling Methods\n",
    "After we create an instance from the class Dog, we can use dot notation to call any method defined in Dog."
   ]
  },
  {
   "cell_type": "code",
   "execution_count": 9,
   "id": "1c81f901",
   "metadata": {},
   "outputs": [
    {
     "name": "stdout",
     "output_type": "stream",
     "text": [
      "Puppy Please sit on the floor\n"
     ]
    }
   ],
   "source": [
    "my_dog.sit()"
   ]
  },
  {
   "cell_type": "code",
   "execution_count": 10,
   "id": "f7b6f622",
   "metadata": {},
   "outputs": [
    {
     "name": "stdout",
     "output_type": "stream",
     "text": [
      "Puppy Please stand on the floor\n"
     ]
    }
   ],
   "source": [
    "my_dog.stand()"
   ]
  },
  {
   "cell_type": "code",
   "execution_count": 24,
   "id": "d284ac27",
   "metadata": {},
   "outputs": [],
   "source": [
    "class car():\n",
    "    def __init__(self,name,model,year):\n",
    "        self.name=name\n",
    "        self.model=model\n",
    "        self.year=year\n",
    "    def get_car_details(self):\n",
    "        car_details=self.name+\" \"+str(self.year)+ self.model\n",
    "        return  car_details"
   ]
  },
  {
   "cell_type": "code",
   "execution_count": 27,
   "id": "d2167705",
   "metadata": {},
   "outputs": [],
   "source": [
    "car1=car(\"Audi\",\"A4\",2009)"
   ]
  },
  {
   "cell_type": "code",
   "execution_count": 28,
   "id": "73a56ab6",
   "metadata": {},
   "outputs": [
    {
     "name": "stdout",
     "output_type": "stream",
     "text": [
      "Audi 2009A4\n"
     ]
    }
   ],
   "source": [
    "print(car1.get_car_details())"
   ]
  },
  {
   "cell_type": "markdown",
   "id": "32440e83",
   "metadata": {},
   "source": [
    "# Setting a Default Value for an Attribute\n",
    "1.Every attribute in a class needs an initial value, even if that value is 0 or an \n",
    "empty string.\n",
    "2.In some cases, such as when setting a default value, it makes sense to specify this initial value in the body of the __init__() method; if you do this for an attribute, you don’t have to include a parameter for that \n",
    "attribute.\n",
    "\n",
    "3.Let’s add an attribute called odometer_reading that always starts with a value of 0. \n",
    "We’ll also add a method read_odometer() that helps us read each car’s odometer:"
   ]
  },
  {
   "cell_type": "code",
   "execution_count": 34,
   "id": "edc06e0b",
   "metadata": {},
   "outputs": [
    {
     "name": "stdout",
     "output_type": "stream",
     "text": [
      "audi 2016a4\n",
      "This car has 0 miles on it.\n"
     ]
    }
   ],
   "source": [
    "class Car():\n",
    "    def __init__(self, make, model, year):\n",
    "        self.make = make\n",
    "        self.model = model\n",
    "        self.year = year\n",
    "        self.odometer_reading = 0 # setting the default value as 0\n",
    "    \n",
    "    def get_descriptive_name(self):\n",
    "        car_details=self.make+\" \"+str(self.year)+ self.model\n",
    "        return  car_details\n",
    "    def read_odometer(self):\n",
    "        print(\"This car has \" + str(self.odometer_reading) + \" miles on it.\")\n",
    " \n",
    "my_new_car = Car('audi', 'a4', 2016)\n",
    "print(my_new_car.get_descriptive_name())\n",
    "my_new_car.read_odometer()"
   ]
  },
  {
   "cell_type": "markdown",
   "id": "b5dfda77",
   "metadata": {},
   "source": [
    "## Modifying Attribute Values\n",
    "You can change an attribute’s value in three ways: you can change the value \n",
    "directly through an instance, set the value through a method, or increment \n",
    "the value (add a certain amount to it) through a method."
   ]
  },
  {
   "cell_type": "markdown",
   "id": "489c11c3",
   "metadata": {},
   "source": [
    "# 1.Modifying an Attribute’s Value Directly\n",
    "The simplest way to modify the value of an attribute is to access the attri\u0002bute directly through an instance. Here we set the odometer reading to 23 \n",
    "directly:"
   ]
  },
  {
   "cell_type": "code",
   "execution_count": 36,
   "id": "0c4c4c8a",
   "metadata": {},
   "outputs": [
    {
     "name": "stdout",
     "output_type": "stream",
     "text": [
      "audi 2016a4\n",
      "This car has 23 miles on it.\n"
     ]
    }
   ],
   "source": [
    "my_new_car = Car('audi', 'a4', 2016)\n",
    "print(my_new_car.get_descriptive_name())\n",
    "my_new_car.odometer_reading = 23 # accessing the attribute directly through an instance\n",
    "my_new_car.read_odometer()"
   ]
  },
  {
   "cell_type": "markdown",
   "id": "2d2d613a",
   "metadata": {},
   "source": [
    "# Modifying an Attribute’s Value Through a Method"
   ]
  },
  {
   "cell_type": "markdown",
   "id": "94c06a4e",
   "metadata": {},
   "source": [
    "1.It can be helpful to have methods that update certain attributes for you. \n",
    "Instead of accessing the attribute directly, you pass the new value to a \n",
    "method that handles the updating internally"
   ]
  },
  {
   "cell_type": "code",
   "execution_count": 42,
   "id": "66808398",
   "metadata": {},
   "outputs": [
    {
     "name": "stdout",
     "output_type": "stream",
     "text": [
      "audi 2016a4\n",
      "This car has 0 miles on it.\n"
     ]
    }
   ],
   "source": [
    "\n",
    "class Car():\n",
    "    def __init__(self, make, model, year):\n",
    "        self.make = make\n",
    "        self.model = model\n",
    "        self.year = year\n",
    "        self.odometer_reading = 0 # setting the default value as 0\n",
    "    \n",
    "    def get_descriptive_name(self):\n",
    "        car_details=self.make+\" \"+str(self.year)+ self.model\n",
    "        return  car_details\n",
    "    def update_odometer(self,odometer_reading):\n",
    "        self.odometer_reading=odometer_reading\n",
    "    def read_odometer(self):\n",
    "        print(\"This car has \" + str(self.odometer_reading) + \" miles on it.\")\n",
    " \n",
    "my_new_car = Car('audi', 'a4', 2016)\n",
    "print(my_new_car.get_descriptive_name())\n",
    "my_new_car.read_odometer()    "
   ]
  },
  {
   "cell_type": "code",
   "execution_count": 43,
   "id": "6c1fece6",
   "metadata": {},
   "outputs": [],
   "source": [
    "my_new_car.update_odometer(100)"
   ]
  },
  {
   "cell_type": "code",
   "execution_count": 45,
   "id": "cbe72704",
   "metadata": {},
   "outputs": [
    {
     "name": "stdout",
     "output_type": "stream",
     "text": [
      "This car has 100 miles on it.\n"
     ]
    }
   ],
   "source": [
    "my_new_car.read_odometer() # updated to 100"
   ]
  },
  {
   "cell_type": "markdown",
   "id": "22586bfa",
   "metadata": {},
   "source": [
    "# Incrementing an Attribute’s Value Through a Method\n",
    "Sometimes you’ll want to increment an attribute’s value by a certain \n",
    "amount rather than set an entirely new value. Say we buy a used car and \n",
    "put 100 miles on it between the time we buy it and the time we register it. \n",
    "Here’s a method that allows us to pass this incremental amount and add \n",
    "that value to the odometer reading:"
   ]
  },
  {
   "cell_type": "code",
   "execution_count": 50,
   "id": "8c90d10e",
   "metadata": {},
   "outputs": [
    {
     "name": "stdout",
     "output_type": "stream",
     "text": [
      "audi 2016a4\n",
      "This car has 0 miles on it.\n",
      "This car has 23500 miles on it.\n",
      "This car has 23600 miles on it.\n"
     ]
    }
   ],
   "source": [
    "class Car():\n",
    "    def __init__(self, make, model, year):\n",
    "        self.make = make\n",
    "        self.model = model\n",
    "        self.year = year\n",
    "        self.odometer_reading = 0 # setting the default value as 0\n",
    "    \n",
    "    def get_descriptive_name(self):\n",
    "        car_details=self.make+\" \"+str(self.year)+ self.model\n",
    "        return  car_details\n",
    "    def update_odometer(self,odometer_reading):\n",
    "        self.odometer_reading=odometer_reading\n",
    "    def increment_odometer(self, miles):\n",
    "        self.odometer_reading += miles\n",
    "    def read_odometer(self):\n",
    "        print(\"This car has \" + str(self.odometer_reading) + \" miles on it.\")\n",
    " \n",
    "my_new_car = Car('audi', 'a4', 2016)\n",
    "print(my_new_car.get_descriptive_name())\n",
    "my_new_car.read_odometer()\n",
    "my_new_car.update_odometer(23500)\n",
    "my_new_car.read_odometer()\n",
    "my_new_car.increment_odometer(100)\n",
    "my_new_car.read_odometer()"
   ]
  },
  {
   "cell_type": "code",
   "execution_count": null,
   "id": "42c903da",
   "metadata": {},
   "outputs": [],
   "source": []
  }
 ],
 "metadata": {
  "kernelspec": {
   "display_name": "Python 3 (ipykernel)",
   "language": "python",
   "name": "python3"
  },
  "language_info": {
   "codemirror_mode": {
    "name": "ipython",
    "version": 3
   },
   "file_extension": ".py",
   "mimetype": "text/x-python",
   "name": "python",
   "nbconvert_exporter": "python",
   "pygments_lexer": "ipython3",
   "version": "3.9.13"
  }
 },
 "nbformat": 4,
 "nbformat_minor": 5
}
